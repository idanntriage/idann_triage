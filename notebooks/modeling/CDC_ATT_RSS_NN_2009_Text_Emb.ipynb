{
 "cells": [
  {
   "cell_type": "code",
   "execution_count": 1,
   "metadata": {
    "collapsed": false
   },
   "outputs": [
    {
     "name": "stderr",
     "output_type": "stream",
     "text": [
      "/home/zenobiosky/anaconda2/lib/python2.7/site-packages/sklearn/cross_validation.py:44: DeprecationWarning: This module was deprecated in version 0.18 in favor of the model_selection module into which all the refactored classes and functions are moved. Also note that the interface of the new CV iterators are different from that of this module. This module will be removed in 0.20.\n",
      "  \"This module will be removed in 0.20.\", DeprecationWarning)\n",
      "Using TensorFlow backend.\n"
     ]
    }
   ],
   "source": [
    "import pandas as pd\n",
    "import numpy as np\n",
    "#from importlib import reload\n",
    "from sklearn.cross_validation import train_test_split\n",
    "import json \n",
    "from collections import Counter \n",
    "\n",
    "from keras.utils import plot_model\n",
    "from IPython.display import SVG\n",
    "from keras.utils.vis_utils import model_to_dot\n",
    "import pickle\n",
    "import sys \n",
    "sys.path.append(\"../../src/data/\")\n",
    "import make_dataset\n",
    "sys.path.append(\"../../src/models/train_model\")\n",
    "import NN_VE_model\n",
    "import attention_layer\n",
    "sys.path.append(\"../../src/features\")\n",
    "import build_features, vital_signs_features, age_features, RFV_features, RFV_text_vectorizing\n",
    "%matplotlib inline"
   ]
  },
  {
   "cell_type": "code",
   "execution_count": 2,
   "metadata": {
    "collapsed": true
   },
   "outputs": [],
   "source": [
    "pd.options.mode.chained_assignment = None  # default='warn'"
   ]
  },
  {
   "cell_type": "markdown",
   "metadata": {},
   "source": [
    "## Reading CDC File"
   ]
  },
  {
   "cell_type": "code",
   "execution_count": 3,
   "metadata": {
    "collapsed": false
   },
   "outputs": [],
   "source": [
    "with open('../../fileConfig.json') as config_file:    \n",
    "        fileConfig = json.load(config_file)"
   ]
  },
  {
   "cell_type": "code",
   "execution_count": 4,
   "metadata": {
    "collapsed": true
   },
   "outputs": [],
   "source": [
    "#reading file\n",
    "processedDirectory = fileConfig['dataDirectory'] + fileConfig['processedDirectory'] \n",
    "cdc_input = pd.read_csv(processedDirectory + 'ED_TOTAL_2009_2009.csv' )"
   ]
  },
  {
   "cell_type": "markdown",
   "metadata": {},
   "source": [
    "# Preprocessing"
   ]
  },
  {
   "cell_type": "code",
   "execution_count": 5,
   "metadata": {
    "collapsed": false
   },
   "outputs": [
    {
     "name": "stdout",
     "output_type": "stream",
     "text": [
      "Creating text for embeddings\n"
     ]
    }
   ],
   "source": [
    "reload(build_features)\n",
    "predictors, target, rss = build_features.get_features(cdc_input, with_features_for_Embedding=True, \n",
    "                                                      with_target=True,with_rss_target=True)  "
   ]
  },
  {
   "cell_type": "markdown",
   "metadata": {},
   "source": [
    "## Vectorizing text for Embeddings"
   ]
  },
  {
   "cell_type": "code",
   "execution_count": 6,
   "metadata": {
    "collapsed": false
   },
   "outputs": [
    {
     "name": "stdout",
     "output_type": "stream",
     "text": [
      "Vocabulary size: 1603\n",
      "Average text length: 12.6051971547\n",
      "Max text length: 122\n"
     ]
    }
   ],
   "source": [
    "predictors, max_seq_length, MAX_VOCAB,  tokenizer = \\\n",
    "                     RFV_text_vectorizing.vectorize_RFV_text (predictors,  debug=False)  "
   ]
  },
  {
   "cell_type": "code",
   "execution_count": 9,
   "metadata": {
    "collapsed": false
   },
   "outputs": [
    {
     "data": {
      "text/plain": [
       "['Temp_Baseline',\n",
       " 'Pulse_Baseline',\n",
       " 'Sys_BP_Baseline',\n",
       " 'Resp_Rate_Baseline',\n",
       " 'Oxygen_Sat_Baseline',\n",
       " 'Reason_Chest_Pain',\n",
       " 'Reason_Abdominal_Pain',\n",
       " 'Reason_Headache',\n",
       " 'Reason_Shortness_of_Breath',\n",
       " 'Reason_Back_Pain',\n",
       " 'Reason_Cough',\n",
       " 'Reason_Nausea_Vomiting',\n",
       " 'Reason_Fever_Chills',\n",
       " 'Reason_Syncope',\n",
       " 'Reason_Dizziness',\n",
       " 'Reason_Psychiatric_Complaint',\n",
       " 'Reason_Nervous_System',\n",
       " 'Reason_Cardiovascular_Other',\n",
       " 'Reason_Ears_Eyes_Complaint',\n",
       " 'Reason_Respiratory_Other',\n",
       " 'Reason_Gastrointestinal_Other',\n",
       " 'Reason_Genitourinary_Other',\n",
       " 'Reason_Skin_Hair_Nails_Complaint',\n",
       " 'Reason_Musculoskeletal_Other',\n",
       " 'Reason_Injury_Poisoning',\n",
       " 'Reason_Other',\n",
       " 'Hypothermia',\n",
       " 'Hyperthermia',\n",
       " 'Bradycardia',\n",
       " 'Mild_Tachycardia',\n",
       " 'Moderate_Tachycardia',\n",
       " 'Severe_Tachycardia',\n",
       " 'Hypotension',\n",
       " 'Hypertension',\n",
       " 'Bradypnea',\n",
       " 'Moderate_Tachypnea',\n",
       " 'Severe_Tachypnea',\n",
       " 'Mild_Hypoxia',\n",
       " 'Severe_Hypoxia',\n",
       " 'Age_18_30',\n",
       " 'Age_31_40',\n",
       " 'Age_41_50',\n",
       " 'Age_51_60',\n",
       " 'Age_61_70',\n",
       " 'Age_71_80',\n",
       " 'Age_81_Above',\n",
       " 'Male_Flag',\n",
       " 'Female_Flag',\n",
       " 'Ambulance_Arrival',\n",
       " 'Other_Arrival',\n",
       " 'Unknown_Arrival',\n",
       " 'ARREMS',\n",
       " 'AGE',\n",
       " 'SEX',\n",
       " 'RFV1',\n",
       " 'RFV2',\n",
       " 'RFV3',\n",
       " 'MSA',\n",
       " 'DIABETES',\n",
       " 'CHF',\n",
       " 'RFV_data']"
      ]
     },
     "execution_count": 9,
     "metadata": {},
     "output_type": "execute_result"
    }
   ],
   "source": [
    "list(predictors)"
   ]
  },
  {
   "cell_type": "markdown",
   "metadata": {},
   "source": [
    "## NN model"
   ]
  },
  {
   "cell_type": "code",
   "execution_count": 15,
   "metadata": {
    "collapsed": false
   },
   "outputs": [
    {
     "name": "stdout",
     "output_type": "stream",
     "text": [
      "__________________________________________________________________________________________________\n",
      "Layer (type)                    Output Shape         Param #     Connected to                     \n",
      "==================================================================================================\n",
      "input_9 (InputLayer)            (None, 1)            0                                            \n",
      "__________________________________________________________________________________________________\n",
      "input_10 (InputLayer)           (None, 1)            0                                            \n",
      "__________________________________________________________________________________________________\n",
      "input_11 (InputLayer)           (None, 1)            0                                            \n",
      "__________________________________________________________________________________________________\n",
      "input_1 (InputLayer)            (None, 1)            0                                            \n",
      "__________________________________________________________________________________________________\n",
      "embedding_1 (Embedding)         (None, 1, 100)       400         input_9[0][0]                    \n",
      "__________________________________________________________________________________________________\n",
      "embedding_2 (Embedding)         (None, 1, 100)       300         input_10[0][0]                   \n",
      "__________________________________________________________________________________________________\n",
      "input_2 (InputLayer)            (None, 1)            0                                            \n",
      "__________________________________________________________________________________________________\n",
      "embedding_3 (Embedding)         (None, 1, 100)       300         input_11[0][0]                   \n",
      "__________________________________________________________________________________________________\n",
      "input_3 (InputLayer)            (None, 1)            0                                            \n",
      "__________________________________________________________________________________________________\n",
      "input_8 (InputLayer)            (None, 1)            0                                            \n",
      "__________________________________________________________________________________________________\n",
      "input_4 (InputLayer)            (None, 1)            0                                            \n",
      "__________________________________________________________________________________________________\n",
      "input_5 (InputLayer)            (None, 1)            0                                            \n",
      "__________________________________________________________________________________________________\n",
      "input_6 (InputLayer)            (None, 1)            0                                            \n",
      "__________________________________________________________________________________________________\n",
      "input_7 (InputLayer)            (None, 1)            0                                            \n",
      "__________________________________________________________________________________________________\n",
      "input_15 (InputLayer)           (None, 1)            0                                            \n",
      "__________________________________________________________________________________________________\n",
      "input_16 (InputLayer)           (None, 1)            0                                            \n",
      "__________________________________________________________________________________________________\n",
      "input_17 (InputLayer)           (None, 1)            0                                            \n",
      "__________________________________________________________________________________________________\n",
      "input_18 (InputLayer)           (None, 1)            0                                            \n",
      "__________________________________________________________________________________________________\n",
      "input_19 (InputLayer)           (None, 1)            0                                            \n",
      "__________________________________________________________________________________________________\n",
      "input_20 (InputLayer)           (None, 1)            0                                            \n",
      "__________________________________________________________________________________________________\n",
      "input_21 (InputLayer)           (None, 1)            0                                            \n",
      "__________________________________________________________________________________________________\n",
      "input_22 (InputLayer)           (None, 1)            0                                            \n",
      "__________________________________________________________________________________________________\n",
      "input_23 (InputLayer)           (None, 1)            0                                            \n",
      "__________________________________________________________________________________________________\n",
      "input_24 (InputLayer)           (None, 1)            0                                            \n",
      "__________________________________________________________________________________________________\n",
      "input_25 (InputLayer)           (None, 1)            0                                            \n",
      "__________________________________________________________________________________________________\n",
      "input_26 (InputLayer)           (None, 1)            0                                            \n",
      "__________________________________________________________________________________________________\n",
      "input_27 (InputLayer)           (None, 1)            0                                            \n",
      "__________________________________________________________________________________________________\n",
      "input_28 (InputLayer)           (None, 1)            0                                            \n",
      "__________________________________________________________________________________________________\n",
      "input_29 (InputLayer)           (None, 1)            0                                            \n",
      "__________________________________________________________________________________________________\n",
      "input_30 (InputLayer)           (None, 1)            0                                            \n",
      "__________________________________________________________________________________________________\n",
      "input_31 (InputLayer)           (None, 1)            0                                            \n",
      "__________________________________________________________________________________________________\n",
      "input_32 (InputLayer)           (None, 1)            0                                            \n",
      "__________________________________________________________________________________________________\n",
      "input_33 (InputLayer)           (None, 1)            0                                            \n",
      "__________________________________________________________________________________________________\n",
      "input_34 (InputLayer)           (None, 1)            0                                            \n",
      "__________________________________________________________________________________________________\n",
      "input_35 (InputLayer)           (None, 1)            0                                            \n",
      "__________________________________________________________________________________________________\n",
      "input_36 (InputLayer)           (None, 1)            0                                            \n",
      "__________________________________________________________________________________________________\n",
      "input_37 (InputLayer)           (None, 1)            0                                            \n",
      "__________________________________________________________________________________________________\n",
      "input_38 (InputLayer)           (None, 1)            0                                            \n",
      "__________________________________________________________________________________________________\n",
      "input_39 (InputLayer)           (None, 1)            0                                            \n",
      "__________________________________________________________________________________________________\n",
      "input_40 (InputLayer)           (None, 1)            0                                            \n",
      "__________________________________________________________________________________________________\n",
      "input_41 (InputLayer)           (None, 1)            0                                            \n",
      "__________________________________________________________________________________________________\n",
      "input_42 (InputLayer)           (None, 1)            0                                            \n",
      "__________________________________________________________________________________________________\n",
      "input_43 (InputLayer)           (None, 1)            0                                            \n",
      "__________________________________________________________________________________________________\n",
      "input_44 (InputLayer)           (None, 1)            0                                            \n",
      "__________________________________________________________________________________________________\n",
      "input_45 (InputLayer)           (None, 1)            0                                            \n",
      "__________________________________________________________________________________________________\n",
      "input_46 (InputLayer)           (None, 1)            0                                            \n",
      "__________________________________________________________________________________________________\n",
      "input_47 (InputLayer)           (None, 1)            0                                            \n",
      "__________________________________________________________________________________________________\n",
      "input_48 (InputLayer)           (None, 1)            0                                            \n",
      "__________________________________________________________________________________________________\n",
      "input_49 (InputLayer)           (None, 1)            0                                            \n",
      "__________________________________________________________________________________________________\n",
      "input_50 (InputLayer)           (None, 1)            0                                            \n",
      "__________________________________________________________________________________________________\n",
      "input_51 (InputLayer)           (None, 1)            0                                            \n",
      "__________________________________________________________________________________________________\n",
      "input_52 (InputLayer)           (None, 1)            0                                            \n",
      "__________________________________________________________________________________________________\n",
      "input_53 (InputLayer)           (None, 1)            0                                            \n",
      "__________________________________________________________________________________________________\n",
      "input_54 (InputLayer)           (None, 1)            0                                            \n",
      "__________________________________________________________________________________________________\n",
      "input_12 (InputLayer)           (None, 5)            0                                            \n",
      "__________________________________________________________________________________________________\n",
      "input_13 (InputLayer)           (None, 5)            0                                            \n",
      "__________________________________________________________________________________________________\n",
      "input_14 (InputLayer)           (None, 5)            0                                            \n",
      "__________________________________________________________________________________________________\n",
      "sex_indicator (Dense)           (None, 100)          200         input_1[0][0]                    \n",
      "__________________________________________________________________________________________________\n",
      "arrival_model (Reshape)         (None, 100)          0           embedding_1[0][0]                \n",
      "__________________________________________________________________________________________________\n",
      "msa_indicator (Reshape)         (None, 100)          0           embedding_2[0][0]                \n",
      "__________________________________________________________________________________________________\n",
      "chf_indicator (Dense)           (None, 100)          200         input_2[0][0]                    \n",
      "__________________________________________________________________________________________________\n",
      "diabetes_indicator (Reshape)    (None, 100)          0           embedding_3[0][0]                \n",
      "__________________________________________________________________________________________________\n",
      "Age (Dense)                     (None, 100)          200         input_3[0][0]                    \n",
      "__________________________________________________________________________________________________\n",
      "Temperature (Dense)             (None, 100)          200         input_8[0][0]                    \n",
      "__________________________________________________________________________________________________\n",
      "Pulse_Heart_rate (Dense)        (None, 100)          200         input_4[0][0]                    \n",
      "__________________________________________________________________________________________________\n",
      "Systolic_blood_pressure (Dense) (None, 100)          200         input_5[0][0]                    \n",
      "__________________________________________________________________________________________________\n",
      "Respiratory_rate (Dense)        (None, 100)          200         input_6[0][0]                    \n",
      "__________________________________________________________________________________________________\n",
      "Oxygen_Saturation (Dense)       (None, 100)          200         input_7[0][0]                    \n",
      "__________________________________________________________________________________________________\n",
      "Hypothermia (Dense)             (None, 100)          200         input_15[0][0]                   \n",
      "__________________________________________________________________________________________________\n",
      "Hyperthermia (Dense)            (None, 100)          200         input_16[0][0]                   \n",
      "__________________________________________________________________________________________________\n",
      "Bradycardia (Dense)             (None, 100)          200         input_17[0][0]                   \n",
      "__________________________________________________________________________________________________\n",
      "Mild_Tachycardia (Dense)        (None, 100)          200         input_18[0][0]                   \n",
      "__________________________________________________________________________________________________\n",
      "Moderate_Tachycardia (Dense)    (None, 100)          200         input_19[0][0]                   \n",
      "__________________________________________________________________________________________________\n",
      "Severe_Tachycardia (Dense)      (None, 100)          200         input_20[0][0]                   \n",
      "__________________________________________________________________________________________________\n",
      "Hypotension (Dense)             (None, 100)          200         input_21[0][0]                   \n",
      "__________________________________________________________________________________________________\n",
      "Hypertension (Dense)            (None, 100)          200         input_22[0][0]                   \n",
      "__________________________________________________________________________________________________\n",
      "Bradypnea (Dense)               (None, 100)          200         input_23[0][0]                   \n",
      "__________________________________________________________________________________________________\n",
      "Moderate_Tachypnea (Dense)      (None, 100)          200         input_24[0][0]                   \n",
      "__________________________________________________________________________________________________\n",
      "Severe_Tachypnea (Dense)        (None, 100)          200         input_25[0][0]                   \n",
      "__________________________________________________________________________________________________\n",
      "Mild_Hypoxia (Dense)            (None, 100)          200         input_26[0][0]                   \n",
      "__________________________________________________________________________________________________\n",
      "Severe_Hypoxia (Dense)          (None, 100)          200         input_27[0][0]                   \n",
      "__________________________________________________________________________________________________\n",
      "Reason_Chest_Pain (Dense)       (None, 100)          200         input_28[0][0]                   \n",
      "__________________________________________________________________________________________________\n",
      "Reason_Abdominal_Pain (Dense)   (None, 100)          200         input_29[0][0]                   \n",
      "__________________________________________________________________________________________________\n",
      "Reason_Headache (Dense)         (None, 100)          200         input_30[0][0]                   \n",
      "__________________________________________________________________________________________________\n",
      "Reason_Shortness_of_Breath (Den (None, 100)          200         input_31[0][0]                   \n",
      "__________________________________________________________________________________________________\n",
      "Reason_Cough (Dense)            (None, 100)          200         input_32[0][0]                   \n",
      "__________________________________________________________________________________________________\n",
      "Reason_Nausea_Vomiting (Dense)  (None, 100)          200         input_33[0][0]                   \n",
      "__________________________________________________________________________________________________\n",
      "Reason_Fever_Chills (Dense)     (None, 100)          200         input_34[0][0]                   \n",
      "__________________________________________________________________________________________________\n",
      "Reason_Syncope (Dense)          (None, 100)          200         input_35[0][0]                   \n",
      "__________________________________________________________________________________________________\n",
      "Reason_Dizziness (Dense)        (None, 100)          200         input_36[0][0]                   \n",
      "__________________________________________________________________________________________________\n",
      "Reason_Psychiatric_Complaint (D (None, 100)          200         input_37[0][0]                   \n",
      "__________________________________________________________________________________________________\n",
      "Reason_Nervous_System (Dense)   (None, 100)          200         input_38[0][0]                   \n",
      "__________________________________________________________________________________________________\n",
      "Reason_Cardiovascular_Other (De (None, 100)          200         input_39[0][0]                   \n",
      "__________________________________________________________________________________________________\n",
      "Reason_Ears_Eyes_Complaint (Den (None, 100)          200         input_40[0][0]                   \n",
      "__________________________________________________________________________________________________\n",
      "Reason_Respiratory_Other (Dense (None, 100)          200         input_41[0][0]                   \n",
      "__________________________________________________________________________________________________\n",
      "Reason_Gastrointestinal_Other ( (None, 100)          200         input_42[0][0]                   \n",
      "__________________________________________________________________________________________________\n",
      "Reason_Genitourinary_Other (Den (None, 100)          200         input_43[0][0]                   \n",
      "__________________________________________________________________________________________________\n",
      "Reason_Skin_Hair_Nails_Complain (None, 100)          200         input_44[0][0]                   \n",
      "__________________________________________________________________________________________________\n",
      "Reason_Musculoskeletal_Other (D (None, 100)          200         input_45[0][0]                   \n",
      "__________________________________________________________________________________________________\n",
      "Reason_Injury_Poisoning (Dense) (None, 100)          200         input_46[0][0]                   \n",
      "__________________________________________________________________________________________________\n",
      "Reason_Other (Dense)            (None, 100)          200         input_47[0][0]                   \n",
      "__________________________________________________________________________________________________\n",
      "Age_18_30_range (Dense)         (None, 100)          200         input_48[0][0]                   \n",
      "__________________________________________________________________________________________________\n",
      "Age_31_40_range (Dense)         (None, 100)          200         input_49[0][0]                   \n",
      "__________________________________________________________________________________________________\n",
      "Age_41_50_range (Dense)         (None, 100)          200         input_50[0][0]                   \n",
      "__________________________________________________________________________________________________\n",
      "Age_51_60_range (Dense)         (None, 100)          200         input_51[0][0]                   \n",
      "__________________________________________________________________________________________________\n",
      "Age_61_70_range (Dense)         (None, 100)          200         input_52[0][0]                   \n",
      "__________________________________________________________________________________________________\n",
      "Age_71_80_range (Dense)         (None, 100)          200         input_53[0][0]                   \n",
      "__________________________________________________________________________________________________\n",
      "Age_81_Above (Dense)            (None, 100)          200         input_54[0][0]                   \n",
      "__________________________________________________________________________________________________\n",
      "reason1_for_visit (Dense)       (None, 100)          600         input_12[0][0]                   \n",
      "__________________________________________________________________________________________________\n",
      "reason2_for_visit (Dense)       (None, 100)          600         input_13[0][0]                   \n",
      "__________________________________________________________________________________________________\n",
      "reason3_for_visit (Dense)       (None, 100)          600         input_14[0][0]                   \n",
      "__________________________________________________________________________________________________\n",
      "rfv_text_data_input (InputLayer (None, 122)          0                                            \n",
      "__________________________________________________________________________________________________\n",
      "input_features (Lambda)         (None, 54, 100)      0           sex_indicator[0][0]              \n",
      "                                                                 arrival_model[0][0]              \n",
      "                                                                 msa_indicator[0][0]              \n",
      "                                                                 chf_indicator[0][0]              \n",
      "                                                                 diabetes_indicator[0][0]         \n",
      "                                                                 Age[0][0]                        \n",
      "                                                                 Temperature[0][0]                \n",
      "                                                                 Pulse_Heart_rate[0][0]           \n",
      "                                                                 Systolic_blood_pressure[0][0]    \n",
      "                                                                 Respiratory_rate[0][0]           \n",
      "                                                                 Oxygen_Saturation[0][0]          \n",
      "                                                                 Hypothermia[0][0]                \n",
      "                                                                 Hyperthermia[0][0]               \n",
      "                                                                 Bradycardia[0][0]                \n",
      "                                                                 Mild_Tachycardia[0][0]           \n",
      "                                                                 Moderate_Tachycardia[0][0]       \n",
      "                                                                 Severe_Tachycardia[0][0]         \n",
      "                                                                 Hypotension[0][0]                \n",
      "                                                                 Hypertension[0][0]               \n",
      "                                                                 Bradypnea[0][0]                  \n",
      "                                                                 Moderate_Tachypnea[0][0]         \n",
      "                                                                 Severe_Tachypnea[0][0]           \n",
      "                                                                 Mild_Hypoxia[0][0]               \n",
      "                                                                 Severe_Hypoxia[0][0]             \n",
      "                                                                 Reason_Chest_Pain[0][0]          \n",
      "                                                                 Reason_Abdominal_Pain[0][0]      \n",
      "                                                                 Reason_Headache[0][0]            \n",
      "                                                                 Reason_Shortness_of_Breath[0][0] \n",
      "                                                                 Reason_Cough[0][0]               \n",
      "                                                                 Reason_Nausea_Vomiting[0][0]     \n",
      "                                                                 Reason_Fever_Chills[0][0]        \n",
      "                                                                 Reason_Syncope[0][0]             \n",
      "                                                                 Reason_Dizziness[0][0]           \n",
      "                                                                 Reason_Psychiatric_Complaint[0][0\n",
      "                                                                 Reason_Nervous_System[0][0]      \n",
      "                                                                 Reason_Cardiovascular_Other[0][0]\n",
      "                                                                 Reason_Ears_Eyes_Complaint[0][0] \n",
      "                                                                 Reason_Respiratory_Other[0][0]   \n",
      "                                                                 Reason_Gastrointestinal_Other[0][\n",
      "                                                                 Reason_Genitourinary_Other[0][0] \n",
      "                                                                 Reason_Skin_Hair_Nails_Complaint[\n",
      "                                                                 Reason_Musculoskeletal_Other[0][0\n",
      "                                                                 Reason_Injury_Poisoning[0][0]    \n",
      "                                                                 Reason_Other[0][0]               \n",
      "                                                                 Age_18_30_range[0][0]            \n",
      "                                                                 Age_31_40_range[0][0]            \n",
      "                                                                 Age_41_50_range[0][0]            \n",
      "                                                                 Age_51_60_range[0][0]            \n",
      "                                                                 Age_61_70_range[0][0]            \n",
      "                                                                 Age_71_80_range[0][0]            \n",
      "                                                                 Age_81_Above[0][0]               \n",
      "                                                                 reason1_for_visit[0][0]          \n",
      "                                                                 reason2_for_visit[0][0]          \n",
      "                                                                 reason3_for_visit[0][0]          \n",
      "__________________________________________________________________________________________________\n",
      "rfv_text_embeddings (Embedding) (None, 122, 100)     160400      rfv_text_data_input[0][0]        \n",
      "__________________________________________________________________________________________________\n",
      "input_features_with_text (Conca (None, 176, 100)     0           input_features[0][0]             \n",
      "                                                                 rfv_text_embeddings[0][0]        \n",
      "__________________________________________________________________________________________________\n",
      "time_distributed_1 (TimeDistrib (None, 176, 1)       101         input_features_with_text[0][0]   \n",
      "__________________________________________________________________________________________________\n",
      "reshape_1 (Reshape)             (None, 176)          0           time_distributed_1[0][0]         \n",
      "__________________________________________________________________________________________________\n",
      "attention_weights1 (Activation) (None, 176)          0           reshape_1[0][0]                  \n",
      "__________________________________________________________________________________________________\n",
      "context_vector_c1 (Merge)       (None, 100)          0           attention_weights1[0][0]         \n",
      "                                                                 input_features_with_text[0][0]   \n",
      "__________________________________________________________________________________________________\n",
      "dense_1 (Dense)                 (None, 100)          10100       context_vector_c1[0][0]          \n",
      "__________________________________________________________________________________________________\n",
      "dense_2 (Dense)                 (None, 100)          10100       dense_1[0][0]                    \n",
      "__________________________________________________________________________________________________\n",
      "dense_3 (Dense)                 (None, 1)            101         dense_2[0][0]                    \n",
      "==================================================================================================\n",
      "Total params: 193,202\n",
      "Trainable params: 193,202\n",
      "Non-trainable params: 0\n",
      "__________________________________________________________________________________________________\n"
     ]
    },
    {
     "name": "stderr",
     "output_type": "stream",
     "text": [
      "../../src/models/train_model/attention_layer.py:38: UserWarning: The `merge` function is deprecated and will be removed after 08/2017. Use instead layers from `keras.layers.merge`, e.g. `add`, `concatenate`, etc.\n",
      "  context_vector =merge([att_weights, inputs], mode='dot', dot_axes=(1,1), name='context_vector_c'+i)\n",
      "/home/zenobiosky/anaconda2/lib/python2.7/site-packages/keras/legacy/layers.py:464: UserWarning: The `Merge` layer is deprecated and will be removed after 08/2017. Use instead layers from `keras.layers.merge`, e.g. `add`, `concatenate`, etc.\n",
      "  name=name)\n"
     ]
    }
   ],
   "source": [
    "nn_model = NN_VE_model.create_model(l2=0.0001, n_units =100, apply_attention=True,\n",
    "                                    embedding_nh=100, \n",
    "                                    input_text_length=max_seq_length,\n",
    "                                    vocab_size=MAX_VOCAB)\n",
    "nn_model.summary()"
   ]
  },
  {
   "cell_type": "markdown",
   "metadata": {},
   "source": [
    "## Train Model"
   ]
  },
  {
   "cell_type": "code",
   "execution_count": 16,
   "metadata": {
    "collapsed": true
   },
   "outputs": [],
   "source": [
    "X_train, X_dev, y_train, y_dev = train_test_split(predictors, rss, test_size = 0.1)\n",
    "X_train_list = NN_VE_model.get_x_list(X_train)\n",
    "X_dev_list = NN_VE_model.get_x_list(X_dev)"
   ]
  },
  {
   "cell_type": "code",
   "execution_count": 17,
   "metadata": {
    "collapsed": false
   },
   "outputs": [
    {
     "name": "stdout",
     "output_type": "stream",
     "text": [
      "AUROC[0]: 81.16%\n",
      "AUROC[1]: 75.54%\n",
      "AUROC[2]: 82.47%\n",
      "Mean AUROC: 79.72%\n"
     ]
    }
   ],
   "source": [
    "reload(NN_VE_model)\n",
    "roc_auc, cdc_model = NN_VE_model.train_RSS_model(X_train_list, y_train,X_dev_list, y_dev, \n",
    "                                  num_epochs=40, l2=0.0001, n_units=50, \n",
    "                                apply_attention= True, embedding_nh=50, n_layers =3,att_l2=0.0001,\n",
    "                                input_text_length=max_seq_length,  vocab_size=MAX_VOCAB,  verbose = False )"
   ]
  },
  {
   "cell_type": "markdown",
   "metadata": {},
   "source": [
    "## Cross Validation"
   ]
  },
  {
   "cell_type": "code",
   "execution_count": 10,
   "metadata": {
    "collapsed": true
   },
   "outputs": [],
   "source": [
    "from sklearn.model_selection import StratifiedKFold"
   ]
  },
  {
   "cell_type": "code",
   "execution_count": 11,
   "metadata": {
    "collapsed": false
   },
   "outputs": [
    {
     "name": "stderr",
     "output_type": "stream",
     "text": [
      "../../src/models/train_model/attention_layer.py:38: UserWarning: The `merge` function is deprecated and will be removed after 08/2017. Use instead layers from `keras.layers.merge`, e.g. `add`, `concatenate`, etc.\n",
      "  context_vector =merge([att_weights, inputs], mode='dot', dot_axes=(1,1), name='context_vector_c'+i)\n",
      "/home/zenobiosky/anaconda2/lib/python2.7/site-packages/keras/legacy/layers.py:464: UserWarning: The `Merge` layer is deprecated and will be removed after 08/2017. Use instead layers from `keras.layers.merge`, e.g. `add`, `concatenate`, etc.\n",
      "  name=name)\n"
     ]
    },
    {
     "name": "stdout",
     "output_type": "stream",
     "text": [
      "AUROC[0]: 80.68%\n",
      "AUROC[1]: 72.50%\n",
      "AUROC[2]: 82.42%\n",
      "Mean AUROC: 78.53%\n",
      "AUROC[0]: 80.51%\n",
      "AUROC[1]: 74.79%\n",
      "AUROC[2]: 82.68%\n",
      "Mean AUROC: 79.33%\n",
      "AUROC[0]: 80.90%\n",
      "AUROC[1]: 74.69%\n",
      "AUROC[2]: 83.15%\n",
      "Mean AUROC: 79.58%\n",
      "AUROC[0]: 80.89%\n",
      "AUROC[1]: 73.53%\n",
      "AUROC[2]: 83.19%\n",
      "Mean AUROC: 79.20%\n",
      "AUROC[0]: 80.80%\n",
      "AUROC[1]: 72.87%\n",
      "AUROC[2]: 83.24%\n",
      "Mean AUROC: 78.97%\n",
      "AUROC[0]: 80.94%\n",
      "AUROC[1]: 73.57%\n",
      "AUROC[2]: 83.25%\n",
      "Mean AUROC: 79.26%\n",
      "AUROC[0]: 79.20%\n",
      "AUROC[1]: 73.28%\n",
      "AUROC[2]: 81.76%\n",
      "Mean AUROC: 78.08%\n",
      "AUROC[0]: 80.00%\n",
      "AUROC[1]: 72.94%\n",
      "AUROC[2]: 81.89%\n",
      "Mean AUROC: 78.28%\n",
      "AUROC[0]: 79.96%\n",
      "AUROC[1]: 73.21%\n",
      "AUROC[2]: 81.14%\n",
      "Mean AUROC: 78.10%\n",
      "AUROC[0]: 81.77%\n",
      "AUROC[1]: 73.16%\n",
      "AUROC[2]: 83.19%\n",
      "Mean AUROC: 79.37%\n"
     ]
    }
   ],
   "source": [
    "\n",
    "pp = predictors\n",
    "nepochs = 40\n",
    "target = rss\n",
    "units_n = 50\n",
    "input_text_length=max_seq_length\n",
    "vocab_size=MAX_VOCAB\n",
    "att_l2=0.0001\n",
    "l2=0.0001\n",
    "apply_attention= True\n",
    "embedding_nh=50\n",
    "n_layers =3\n",
    "att_l2=0.0001\n",
    "\n",
    "seed = np.random.seed(0)\n",
    "kfold = StratifiedKFold(n_splits=10, shuffle=True, random_state=seed)\n",
    "cvscores = []\n",
    "count = 1\n",
    "for train, test in kfold.split(pp, target):\n",
    "    X_train = NN_VE_model.get_x_list(pp.iloc[train])\n",
    "    X_dev = NN_VE_model.get_x_list(pp.iloc[test])\n",
    "    y_train = target.iloc[train]\n",
    "    y_dev = target.iloc[test]\n",
    "    roc, model = NN_VE_model.train_RSS_model (X_train,y_train,X_dev,y_dev,  num_epochs=nepochs, l2=l2, n_units=units_n, \n",
    "                                  apply_attention=apply_attention ,\n",
    "                                  embedding_nh=embedding_nh, n_layers=n_layers,\n",
    "                                  input_text_length=max_seq_length, vocab_size=vocab_size,att_l2=att_l2,\n",
    "                                  verbose=False) \n",
    "    cvscores.append(roc)\n",
    "#print(\"ROC AUC: %.2f%% (+/- %.2f%%)\" % (np.mean(cvscores)*100, np.std(cvscores)))\n"
   ]
  },
  {
   "cell_type": "code",
   "execution_count": 12,
   "metadata": {
    "collapsed": false
   },
   "outputs": [
    {
     "data": {
      "text/plain": [
       "0.80564322554280776"
      ]
     },
     "execution_count": 12,
     "metadata": {},
     "output_type": "execute_result"
    }
   ],
   "source": [
    "# no recources\n",
    "reduce(lambda x, y: x + y, [x for x,y,z,n in cvscores]) / len(cvscores)"
   ]
  },
  {
   "cell_type": "code",
   "execution_count": 13,
   "metadata": {
    "collapsed": false
   },
   "outputs": [
    {
     "data": {
      "text/plain": [
       "0.73453661475581666"
      ]
     },
     "execution_count": 13,
     "metadata": {},
     "output_type": "execute_result"
    }
   ],
   "source": [
    "# 1 resource\n",
    "reduce(lambda x, y: x + y, [y for x,y,z,n in cvscores]) / len(cvscores)"
   ]
  },
  {
   "cell_type": "code",
   "execution_count": 14,
   "metadata": {
    "collapsed": false
   },
   "outputs": [
    {
     "data": {
      "text/plain": [
       "0.82591773568405247"
      ]
     },
     "execution_count": 14,
     "metadata": {},
     "output_type": "execute_result"
    }
   ],
   "source": [
    "# more than 2 resources\n",
    "reduce(lambda x, y: x + y, [z for x,y,z,n in cvscores]) / len(cvscores)"
   ]
  },
  {
   "cell_type": "markdown",
   "metadata": {
    "collapsed": false
   },
   "source": [
    "original from w210 repository   \n",
    "\n",
    "```\n",
    "Cross validated:\n",
    "    AUC ROC[0]:0.7989092408302745\n",
    "    AUC ROC[1]:0.7466151138245335\n",
    "    AUC ROC[2]:0.8163632162013006\n",
    "    AUC Avg   :0.7872958569520362\n",
    "```"
   ]
  },
  {
   "cell_type": "markdown",
   "metadata": {},
   "source": [
    "## Train Model with all data"
   ]
  },
  {
   "cell_type": "code",
   "execution_count": 15,
   "metadata": {
    "collapsed": true
   },
   "outputs": [],
   "source": [
    "X_train_list = NN_VE_model.get_x_list(predictors)"
   ]
  },
  {
   "cell_type": "code",
   "execution_count": 21,
   "metadata": {
    "collapsed": true
   },
   "outputs": [],
   "source": [
    "reload(NN_VE_model)\n",
    "rss_model = NN_VE_model.train_full_RSS_model(X_train_list, rss, \n",
    "                                  num_epochs=40, l2=0.0001, n_units=50, \n",
    "                                apply_attention= True, embedding_nh=50, n_layers =3,att_l2=0.0001,\n",
    "                                input_text_length=max_seq_length,  vocab_size=MAX_VOCAB,  verbose = False )"
   ]
  },
  {
   "cell_type": "code",
   "execution_count": 22,
   "metadata": {
    "collapsed": true
   },
   "outputs": [],
   "source": [
    "rss_model.save ('../../models/cdc_rss_2009_nn_att_text_embedding.H5')"
   ]
  },
  {
   "cell_type": "code",
   "execution_count": null,
   "metadata": {
    "collapsed": true
   },
   "outputs": [],
   "source": []
  }
 ],
 "metadata": {
  "anaconda-cloud": {},
  "kernelspec": {
   "display_name": "Python 2",
   "language": "python",
   "name": "python2"
  },
  "language_info": {
   "codemirror_mode": {
    "name": "ipython",
    "version": 2
   },
   "file_extension": ".py",
   "mimetype": "text/x-python",
   "name": "python",
   "nbconvert_exporter": "python",
   "pygments_lexer": "ipython2",
   "version": "2.7.14"
  }
 },
 "nbformat": 4,
 "nbformat_minor": 2
}
