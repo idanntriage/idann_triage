{
 "cells": [
  {
   "cell_type": "markdown",
   "metadata": {},
   "source": [
    "# LR_BAS: Logistic Regression Baseline Model Training\n",
    "\n",
    "Our baseline model is a replication of the one built by this paper:\n",
    "AN ELECTRONIC EMERGENCY TRIAGE SYSTEM TO IMPROVE PATIENT DISTRIBUTION BY CRITICAL OUTCOMES Dugas et al. \n",
    "http://dx.doi.org/10.1016/j.jemermed.2016.02.026, which uses the CDC NHAMCS 2009 File. We replicated features and matched the AUC ROC reported, which allowed us to confirm we are using the correct fields from the CDC files. \n",
    "\n",
    "Vital signs are categorized by known thresholds of danger, and normalized due to different scales of measurement. We also grouped the reasons for ED visit (RFV) into categories that indicate some complaints that are known to be dangerous or high-priority (categorizations and thresholds were taken from out baseline paper).  \n",
    "\n",
    "To calculate the Critical Outcome variable, we collapsed several patient outcomes into one binary variable: any patient an outcome of death, admittance to ICU, OR, or cardiac catheterization, was considered to have experienced a critical outcome. This represented about 7.1% of the total dataset, which we accounted for with weighted modeling techniques."
   ]
  },
  {
   "cell_type": "code",
   "execution_count": 15,
   "metadata": {
    "collapsed": false
   },
   "outputs": [
    {
     "name": "stderr",
     "output_type": "stream",
     "text": [
      "ERROR:root:Line magic function `%c` not found.\n"
     ]
    }
   ],
   "source": [
    "%c inline\n",
    "import pandas as pd\n",
    "import numpy as np\n",
    "from sklearn.cross_validation import train_test_split\n",
    "\n",
    "import sys \n",
    "import json\n",
    "\n",
    "sys.path.append(\"../../src/models/train_model\")\n",
    "import LR_model \n",
    "sys.path.append(\"../../src/features\")\n",
    "import build_features, vital_signs_features, age_features, RFV_features\n",
    "\n",
    "%matplotlib inline"
   ]
  },
  {
   "cell_type": "markdown",
   "metadata": {},
   "source": [
    "## Model Training"
   ]
  },
  {
   "cell_type": "code",
   "execution_count": 16,
   "metadata": {
    "collapsed": false
   },
   "outputs": [],
   "source": [
    "with open('../../fileConfig.json') as config_file:    \n",
    "        fileConfig = json.load(config_file)"
   ]
  },
  {
   "cell_type": "code",
   "execution_count": 19,
   "metadata": {
    "collapsed": false
   },
   "outputs": [
    {
     "name": "stdout",
     "output_type": "stream",
     "text": [
      "ROC_AUC = 0.8264 \n",
      "ROC_AUC = 0.8239 \n",
      "ROC_AUC = 0.8252 \n",
      "ROC_AUC = 0.8719 \n",
      "ROC_AUC = 0.8562 \n",
      "ROC_AUC = 0.8234 \n",
      "ROC_AUC = 0.8415 \n",
      "ROC_AUC = 0.8354 \n",
      "ROC_AUC = 0.8209 \n",
      "ROC_AUC = 0.8110 \n",
      "ROC AUC: 0.8336% (+/- 0.02%\n"
     ]
    }
   ],
   "source": [
    "#Training model via LR_model.py method\n",
    "reload(LR_model)\n",
    "LR_model.LR_BAS_model_training(fileConfig,'ED_TOTAL_2009_2009.csv')"
   ]
  },
  {
   "cell_type": "markdown",
   "metadata": {},
   "source": [
    "## Model Training, step by step"
   ]
  },
  {
   "cell_type": "markdown",
   "metadata": {},
   "source": [
    "### Reading CDC File"
   ]
  },
  {
   "cell_type": "code",
   "execution_count": 4,
   "metadata": {
    "collapsed": true
   },
   "outputs": [],
   "source": [
    "pd.options.mode.chained_assignment = None  # default='warn'"
   ]
  },
  {
   "cell_type": "code",
   "execution_count": 6,
   "metadata": {
    "collapsed": false
   },
   "outputs": [
    {
     "name": "stdout",
     "output_type": "stream",
     "text": [
      "Full shape:  (24321, 93)\n"
     ]
    }
   ],
   "source": [
    "#reading file\n",
    "processedDirectory = fileConfig['dataDirectory'] + fileConfig['processedDirectory'] \n",
    "cdc_input = pd.read_csv(processedDirectory + 'ED_TOTAL_2009_2009.csv' )\n",
    "print 'Full shape: ', cdc_input.shape"
   ]
  },
  {
   "cell_type": "code",
   "execution_count": 4,
   "metadata": {
    "collapsed": false
   },
   "outputs": [
    {
     "data": {
      "text/plain": [
       "['VYEAR',\n",
       " 'VMONTH',\n",
       " 'VDAYR',\n",
       " 'AGE',\n",
       " 'ARRTIME',\n",
       " 'WAITTIME',\n",
       " 'LOV',\n",
       " 'RESIDNCE',\n",
       " 'SEX',\n",
       " 'ETHUN',\n",
       " 'RACEUN',\n",
       " 'ARREMS',\n",
       " 'TEMPF',\n",
       " 'PULSE',\n",
       " 'RESPR',\n",
       " 'BPSYS',\n",
       " 'BPDIAS',\n",
       " 'POPCT',\n",
       " 'ONO2',\n",
       " 'GCS',\n",
       " 'IMMEDR',\n",
       " 'PAIN',\n",
       " 'SEEN72',\n",
       " 'RFV1',\n",
       " 'RFV2',\n",
       " 'RFV3',\n",
       " 'EPISODE',\n",
       " 'INJURY',\n",
       " 'CHF',\n",
       " 'DIABETES',\n",
       " 'DIAGSCRN',\n",
       " 'CBC',\n",
       " 'BUNCREAT',\n",
       " 'CARDENZ',\n",
       " 'ELECTROL',\n",
       " 'GLUCOSE',\n",
       " 'LFT',\n",
       " 'ABG',\n",
       " 'PTTINR',\n",
       " 'BLOODCX',\n",
       " 'BAC',\n",
       " 'OTHERBLD',\n",
       " 'CARDMON',\n",
       " 'EKG',\n",
       " 'HIVTEST',\n",
       " 'FLUTEST',\n",
       " 'PREGTEST',\n",
       " 'TOXSCREN',\n",
       " 'URINE',\n",
       " 'WOUNDCX',\n",
       " 'OTHRTEST',\n",
       " 'ANYIMAGE',\n",
       " 'XRAY',\n",
       " 'CATSCAN',\n",
       " 'CTHEAD',\n",
       " 'CTNHEAD',\n",
       " 'CTNUNK',\n",
       " 'MRI',\n",
       " 'ULTRASND',\n",
       " 'OTHIMAGE',\n",
       " 'TOTDIAG',\n",
       " 'PROC',\n",
       " 'IVFLUIDS',\n",
       " 'CAST',\n",
       " 'SPLINT',\n",
       " 'SUTURE',\n",
       " 'INCDRAIN',\n",
       " 'FBREM',\n",
       " 'NEBUTHER',\n",
       " 'BLADCATH',\n",
       " 'PELVIC',\n",
       " 'CENTLINE',\n",
       " 'CPR',\n",
       " 'ENDOINT',\n",
       " 'OTHPROC',\n",
       " 'TOTPROC',\n",
       " 'LEFTBMSE',\n",
       " 'LEFTAMSE',\n",
       " 'LEFTAMA',\n",
       " 'DOA',\n",
       " 'DIEDED',\n",
       " 'TRANPSYC',\n",
       " 'TRANOTH',\n",
       " 'ADMITHOS',\n",
       " 'OBSHOS',\n",
       " 'OBSDIS',\n",
       " 'OTHDISP',\n",
       " 'ADMIT',\n",
       " 'HDSTAT',\n",
       " 'BDATEFL',\n",
       " 'IMMEDRFL',\n",
       " 'REGION',\n",
       " 'MSA']"
      ]
     },
     "execution_count": 4,
     "metadata": {},
     "output_type": "execute_result"
    }
   ],
   "source": [
    "list(cdc_input)"
   ]
  },
  {
   "cell_type": "code",
   "execution_count": 6,
   "metadata": {
    "collapsed": false
   },
   "outputs": [
    {
     "data": {
      "text/html": [
       "<div>\n",
       "<table border=\"1\" class=\"dataframe\">\n",
       "  <thead>\n",
       "    <tr style=\"text-align: right;\">\n",
       "      <th></th>\n",
       "      <th>VYEAR</th>\n",
       "      <th>VMONTH</th>\n",
       "      <th>VDAYR</th>\n",
       "      <th>AGE</th>\n",
       "      <th>ARRTIME</th>\n",
       "      <th>WAITTIME</th>\n",
       "      <th>LOV</th>\n",
       "      <th>RESIDNCE</th>\n",
       "      <th>SEX</th>\n",
       "      <th>ETHUN</th>\n",
       "      <th>...</th>\n",
       "      <th>ADMITHOS</th>\n",
       "      <th>OBSHOS</th>\n",
       "      <th>OBSDIS</th>\n",
       "      <th>OTHDISP</th>\n",
       "      <th>ADMIT</th>\n",
       "      <th>HDSTAT</th>\n",
       "      <th>BDATEFL</th>\n",
       "      <th>IMMEDRFL</th>\n",
       "      <th>REGION</th>\n",
       "      <th>MSA</th>\n",
       "    </tr>\n",
       "  </thead>\n",
       "  <tbody>\n",
       "    <tr>\n",
       "      <th>0</th>\n",
       "      <td>2009</td>\n",
       "      <td>7</td>\n",
       "      <td>6</td>\n",
       "      <td>40</td>\n",
       "      <td>1904</td>\n",
       "      <td>5</td>\n",
       "      <td>86</td>\n",
       "      <td>1</td>\n",
       "      <td>1</td>\n",
       "      <td>2</td>\n",
       "      <td>...</td>\n",
       "      <td>0</td>\n",
       "      <td>0</td>\n",
       "      <td>0</td>\n",
       "      <td>0</td>\n",
       "      <td>-7</td>\n",
       "      <td>-7</td>\n",
       "      <td>0</td>\n",
       "      <td>0</td>\n",
       "      <td>2</td>\n",
       "      <td>1</td>\n",
       "    </tr>\n",
       "    <tr>\n",
       "      <th>1</th>\n",
       "      <td>2009</td>\n",
       "      <td>7</td>\n",
       "      <td>6</td>\n",
       "      <td>76</td>\n",
       "      <td>1034</td>\n",
       "      <td>0</td>\n",
       "      <td>86</td>\n",
       "      <td>1</td>\n",
       "      <td>2</td>\n",
       "      <td>2</td>\n",
       "      <td>...</td>\n",
       "      <td>0</td>\n",
       "      <td>0</td>\n",
       "      <td>0</td>\n",
       "      <td>0</td>\n",
       "      <td>-7</td>\n",
       "      <td>-7</td>\n",
       "      <td>0</td>\n",
       "      <td>1</td>\n",
       "      <td>2</td>\n",
       "      <td>1</td>\n",
       "    </tr>\n",
       "    <tr>\n",
       "      <th>2</th>\n",
       "      <td>2009</td>\n",
       "      <td>7</td>\n",
       "      <td>5</td>\n",
       "      <td>27</td>\n",
       "      <td>25</td>\n",
       "      <td>63</td>\n",
       "      <td>190</td>\n",
       "      <td>1</td>\n",
       "      <td>1</td>\n",
       "      <td>2</td>\n",
       "      <td>...</td>\n",
       "      <td>0</td>\n",
       "      <td>0</td>\n",
       "      <td>0</td>\n",
       "      <td>0</td>\n",
       "      <td>-7</td>\n",
       "      <td>-7</td>\n",
       "      <td>0</td>\n",
       "      <td>1</td>\n",
       "      <td>2</td>\n",
       "      <td>1</td>\n",
       "    </tr>\n",
       "    <tr>\n",
       "      <th>3</th>\n",
       "      <td>2009</td>\n",
       "      <td>7</td>\n",
       "      <td>7</td>\n",
       "      <td>48</td>\n",
       "      <td>917</td>\n",
       "      <td>3</td>\n",
       "      <td>268</td>\n",
       "      <td>1</td>\n",
       "      <td>2</td>\n",
       "      <td>2</td>\n",
       "      <td>...</td>\n",
       "      <td>0</td>\n",
       "      <td>0</td>\n",
       "      <td>0</td>\n",
       "      <td>0</td>\n",
       "      <td>-7</td>\n",
       "      <td>-7</td>\n",
       "      <td>0</td>\n",
       "      <td>1</td>\n",
       "      <td>2</td>\n",
       "      <td>1</td>\n",
       "    </tr>\n",
       "    <tr>\n",
       "      <th>4</th>\n",
       "      <td>2009</td>\n",
       "      <td>7</td>\n",
       "      <td>1</td>\n",
       "      <td>89</td>\n",
       "      <td>2001</td>\n",
       "      <td>99</td>\n",
       "      <td>234</td>\n",
       "      <td>1</td>\n",
       "      <td>1</td>\n",
       "      <td>2</td>\n",
       "      <td>...</td>\n",
       "      <td>0</td>\n",
       "      <td>0</td>\n",
       "      <td>0</td>\n",
       "      <td>0</td>\n",
       "      <td>-7</td>\n",
       "      <td>-7</td>\n",
       "      <td>0</td>\n",
       "      <td>1</td>\n",
       "      <td>2</td>\n",
       "      <td>1</td>\n",
       "    </tr>\n",
       "  </tbody>\n",
       "</table>\n",
       "<p>5 rows × 93 columns</p>\n",
       "</div>"
      ],
      "text/plain": [
       "   VYEAR  VMONTH  VDAYR  AGE  ARRTIME  WAITTIME  LOV  RESIDNCE  SEX  ETHUN  \\\n",
       "0   2009       7      6   40     1904         5   86         1    1      2   \n",
       "1   2009       7      6   76     1034         0   86         1    2      2   \n",
       "2   2009       7      5   27       25        63  190         1    1      2   \n",
       "3   2009       7      7   48      917         3  268         1    2      2   \n",
       "4   2009       7      1   89     2001        99  234         1    1      2   \n",
       "\n",
       "  ...   ADMITHOS  OBSHOS  OBSDIS  OTHDISP  ADMIT  HDSTAT  BDATEFL  IMMEDRFL  \\\n",
       "0 ...          0       0       0        0     -7      -7        0         0   \n",
       "1 ...          0       0       0        0     -7      -7        0         1   \n",
       "2 ...          0       0       0        0     -7      -7        0         1   \n",
       "3 ...          0       0       0        0     -7      -7        0         1   \n",
       "4 ...          0       0       0        0     -7      -7        0         1   \n",
       "\n",
       "   REGION  MSA  \n",
       "0       2    1  \n",
       "1       2    1  \n",
       "2       2    1  \n",
       "3       2    1  \n",
       "4       2    1  \n",
       "\n",
       "[5 rows x 93 columns]"
      ]
     },
     "execution_count": 6,
     "metadata": {},
     "output_type": "execute_result"
    }
   ],
   "source": [
    "#sample of how the records look \n",
    "cdc_input[0:5]"
   ]
  },
  {
   "cell_type": "markdown",
   "metadata": {},
   "source": [
    "### Feature Engineering"
   ]
  },
  {
   "cell_type": "code",
   "execution_count": 7,
   "metadata": {
    "collapsed": false
   },
   "outputs": [],
   "source": [
    "#Feature Engineering for Baselin model\n",
    "# (1) get vital signs, fill missing values\n",
    "# (2) creates categories for vital signs and RVF (reason for visit)\n",
    "# (3) creates age categories\n",
    "# (4) creates categories for sex indicators \n",
    "# (5) predictors = get_arrival_mode_indicators(cdc_input,predictors) \n",
    "predictors, target = build_features.get_baseline_features (cdc_input )"
   ]
  },
  {
   "cell_type": "code",
   "execution_count": 8,
   "metadata": {
    "collapsed": false
   },
   "outputs": [
    {
     "data": {
      "text/html": [
       "<div>\n",
       "<table border=\"1\" class=\"dataframe\">\n",
       "  <thead>\n",
       "    <tr style=\"text-align: right;\">\n",
       "      <th></th>\n",
       "      <th>Temp_Baseline</th>\n",
       "      <th>Pulse_Baseline</th>\n",
       "      <th>Sys_BP_Baseline</th>\n",
       "      <th>Resp_Rate_Baseline</th>\n",
       "      <th>Oxygen_Sat_Baseline</th>\n",
       "      <th>Reason_Chest_Pain</th>\n",
       "      <th>Reason_Abdominal_Pain</th>\n",
       "      <th>Reason_Headache</th>\n",
       "      <th>Reason_Shortness_of_Breath</th>\n",
       "      <th>Reason_Back_Pain</th>\n",
       "      <th>...</th>\n",
       "      <th>Age_41_50</th>\n",
       "      <th>Age_51_60</th>\n",
       "      <th>Age_61_70</th>\n",
       "      <th>Age_71_80</th>\n",
       "      <th>Age_81_Above</th>\n",
       "      <th>Male_Flag</th>\n",
       "      <th>Female_Flag</th>\n",
       "      <th>Ambulance_Arrival</th>\n",
       "      <th>Other_Arrival</th>\n",
       "      <th>Unknown_Arrival</th>\n",
       "    </tr>\n",
       "  </thead>\n",
       "  <tbody>\n",
       "    <tr>\n",
       "      <th>0</th>\n",
       "      <td>991.0</td>\n",
       "      <td>90.0</td>\n",
       "      <td>129.0</td>\n",
       "      <td>16.0</td>\n",
       "      <td>16.0</td>\n",
       "      <td>0</td>\n",
       "      <td>0</td>\n",
       "      <td>0</td>\n",
       "      <td>0</td>\n",
       "      <td>0</td>\n",
       "      <td>...</td>\n",
       "      <td>0</td>\n",
       "      <td>0</td>\n",
       "      <td>0</td>\n",
       "      <td>0</td>\n",
       "      <td>0</td>\n",
       "      <td>0</td>\n",
       "      <td>1</td>\n",
       "      <td>1</td>\n",
       "      <td>0</td>\n",
       "      <td>0</td>\n",
       "    </tr>\n",
       "    <tr>\n",
       "      <th>1</th>\n",
       "      <td>975.0</td>\n",
       "      <td>71.0</td>\n",
       "      <td>167.0</td>\n",
       "      <td>16.0</td>\n",
       "      <td>16.0</td>\n",
       "      <td>0</td>\n",
       "      <td>0</td>\n",
       "      <td>0</td>\n",
       "      <td>0</td>\n",
       "      <td>0</td>\n",
       "      <td>...</td>\n",
       "      <td>0</td>\n",
       "      <td>0</td>\n",
       "      <td>0</td>\n",
       "      <td>1</td>\n",
       "      <td>0</td>\n",
       "      <td>1</td>\n",
       "      <td>0</td>\n",
       "      <td>0</td>\n",
       "      <td>1</td>\n",
       "      <td>0</td>\n",
       "    </tr>\n",
       "    <tr>\n",
       "      <th>2</th>\n",
       "      <td>984.0</td>\n",
       "      <td>89.0</td>\n",
       "      <td>118.0</td>\n",
       "      <td>20.0</td>\n",
       "      <td>20.0</td>\n",
       "      <td>0</td>\n",
       "      <td>1</td>\n",
       "      <td>0</td>\n",
       "      <td>0</td>\n",
       "      <td>0</td>\n",
       "      <td>...</td>\n",
       "      <td>0</td>\n",
       "      <td>0</td>\n",
       "      <td>0</td>\n",
       "      <td>0</td>\n",
       "      <td>0</td>\n",
       "      <td>0</td>\n",
       "      <td>1</td>\n",
       "      <td>0</td>\n",
       "      <td>1</td>\n",
       "      <td>0</td>\n",
       "    </tr>\n",
       "    <tr>\n",
       "      <th>3</th>\n",
       "      <td>980.0</td>\n",
       "      <td>87.0</td>\n",
       "      <td>136.0</td>\n",
       "      <td>18.0</td>\n",
       "      <td>18.0</td>\n",
       "      <td>0</td>\n",
       "      <td>0</td>\n",
       "      <td>0</td>\n",
       "      <td>0</td>\n",
       "      <td>0</td>\n",
       "      <td>...</td>\n",
       "      <td>1</td>\n",
       "      <td>0</td>\n",
       "      <td>0</td>\n",
       "      <td>0</td>\n",
       "      <td>0</td>\n",
       "      <td>1</td>\n",
       "      <td>0</td>\n",
       "      <td>0</td>\n",
       "      <td>1</td>\n",
       "      <td>0</td>\n",
       "    </tr>\n",
       "    <tr>\n",
       "      <th>4</th>\n",
       "      <td>980.0</td>\n",
       "      <td>86.0</td>\n",
       "      <td>180.0</td>\n",
       "      <td>20.0</td>\n",
       "      <td>20.0</td>\n",
       "      <td>0</td>\n",
       "      <td>0</td>\n",
       "      <td>0</td>\n",
       "      <td>0</td>\n",
       "      <td>0</td>\n",
       "      <td>...</td>\n",
       "      <td>0</td>\n",
       "      <td>0</td>\n",
       "      <td>0</td>\n",
       "      <td>0</td>\n",
       "      <td>1</td>\n",
       "      <td>0</td>\n",
       "      <td>1</td>\n",
       "      <td>1</td>\n",
       "      <td>0</td>\n",
       "      <td>0</td>\n",
       "    </tr>\n",
       "  </tbody>\n",
       "</table>\n",
       "<p>5 rows × 51 columns</p>\n",
       "</div>"
      ],
      "text/plain": [
       "   Temp_Baseline  Pulse_Baseline  Sys_BP_Baseline  Resp_Rate_Baseline  \\\n",
       "0          991.0            90.0            129.0                16.0   \n",
       "1          975.0            71.0            167.0                16.0   \n",
       "2          984.0            89.0            118.0                20.0   \n",
       "3          980.0            87.0            136.0                18.0   \n",
       "4          980.0            86.0            180.0                20.0   \n",
       "\n",
       "   Oxygen_Sat_Baseline  Reason_Chest_Pain  Reason_Abdominal_Pain  \\\n",
       "0                 16.0                  0                      0   \n",
       "1                 16.0                  0                      0   \n",
       "2                 20.0                  0                      1   \n",
       "3                 18.0                  0                      0   \n",
       "4                 20.0                  0                      0   \n",
       "\n",
       "   Reason_Headache  Reason_Shortness_of_Breath  Reason_Back_Pain  \\\n",
       "0                0                           0                 0   \n",
       "1                0                           0                 0   \n",
       "2                0                           0                 0   \n",
       "3                0                           0                 0   \n",
       "4                0                           0                 0   \n",
       "\n",
       "        ...         Age_41_50  Age_51_60  Age_61_70  Age_71_80  Age_81_Above  \\\n",
       "0       ...                 0          0          0          0             0   \n",
       "1       ...                 0          0          0          1             0   \n",
       "2       ...                 0          0          0          0             0   \n",
       "3       ...                 1          0          0          0             0   \n",
       "4       ...                 0          0          0          0             1   \n",
       "\n",
       "   Male_Flag  Female_Flag  Ambulance_Arrival  Other_Arrival  Unknown_Arrival  \n",
       "0          0            1                  1              0                0  \n",
       "1          1            0                  0              1                0  \n",
       "2          0            1                  0              1                0  \n",
       "3          1            0                  0              1                0  \n",
       "4          0            1                  1              0                0  \n",
       "\n",
       "[5 rows x 51 columns]"
      ]
     },
     "execution_count": 8,
     "metadata": {},
     "output_type": "execute_result"
    }
   ],
   "source": [
    "#sample of how records look after feature engineering\n",
    "predictors[0:5]"
   ]
  },
  {
   "cell_type": "code",
   "execution_count": 9,
   "metadata": {
    "collapsed": false
   },
   "outputs": [
    {
     "data": {
      "text/plain": [
       "['Temp_Baseline',\n",
       " 'Pulse_Baseline',\n",
       " 'Sys_BP_Baseline',\n",
       " 'Resp_Rate_Baseline',\n",
       " 'Oxygen_Sat_Baseline',\n",
       " 'Reason_Chest_Pain',\n",
       " 'Reason_Abdominal_Pain',\n",
       " 'Reason_Headache',\n",
       " 'Reason_Shortness_of_Breath',\n",
       " 'Reason_Back_Pain',\n",
       " 'Reason_Cough',\n",
       " 'Reason_Nausea_Vomiting',\n",
       " 'Reason_Fever_Chills',\n",
       " 'Reason_Syncope',\n",
       " 'Reason_Dizziness',\n",
       " 'Reason_Psychiatric_Complaint',\n",
       " 'Reason_Nervous_System',\n",
       " 'Reason_Cardiovascular_Other',\n",
       " 'Reason_Ears_Eyes_Complaint',\n",
       " 'Reason_Respiratory_Other',\n",
       " 'Reason_Gastrointestinal_Other',\n",
       " 'Reason_Genitourinary_Other',\n",
       " 'Reason_Skin_Hair_Nails_Complaint',\n",
       " 'Reason_Musculoskeletal_Other',\n",
       " 'Reason_Injury_Poisoning',\n",
       " 'Reason_Other',\n",
       " 'Hypothermia',\n",
       " 'Hyperthermia',\n",
       " 'Bradycardia',\n",
       " 'Mild_Tachycardia',\n",
       " 'Moderate_Tachycardia',\n",
       " 'Severe_Tachycardia',\n",
       " 'Hypotension',\n",
       " 'Hypertension',\n",
       " 'Bradypnea',\n",
       " 'Moderate_Tachypnea',\n",
       " 'Severe_Tachypnea',\n",
       " 'Mild_Hypoxia',\n",
       " 'Severe_Hypoxia',\n",
       " 'Age_18_30',\n",
       " 'Age_31_40',\n",
       " 'Age_41_50',\n",
       " 'Age_51_60',\n",
       " 'Age_61_70',\n",
       " 'Age_71_80',\n",
       " 'Age_81_Above',\n",
       " 'Male_Flag',\n",
       " 'Female_Flag',\n",
       " 'Ambulance_Arrival',\n",
       " 'Other_Arrival',\n",
       " 'Unknown_Arrival']"
      ]
     },
     "execution_count": 9,
     "metadata": {},
     "output_type": "execute_result"
    }
   ],
   "source": [
    "list (predictors)"
   ]
  },
  {
   "cell_type": "markdown",
   "metadata": {},
   "source": [
    "### Training Logistic Regression (LR) Model"
   ]
  },
  {
   "cell_type": "code",
   "execution_count": 6,
   "metadata": {
    "collapsed": true
   },
   "outputs": [],
   "source": [
    "# split file in three sets: one for training, one for development (to tune hyper-parameters)\n",
    "X_train, X_dev, y_train, y_dev = train_test_split(predictors, target, test_size = 0.1)"
   ]
  },
  {
   "cell_type": "code",
   "execution_count": 7,
   "metadata": {
    "collapsed": false
   },
   "outputs": [
    {
     "name": "stdout",
     "output_type": "stream",
     "text": [
      "C= 0.0000, ROC_AUC = 0.6573 \n",
      "C= 0.0001, ROC_AUC = 0.7500 \n",
      "C= 0.0010, ROC_AUC = 0.8257 \n",
      "C= 0.0050, ROC_AUC = 0.8406 \n",
      "C= 0.0100, ROC_AUC = 0.8439 \n",
      "C= 0.0500, ROC_AUC = 0.8476 \n",
      "C= 0.1000, ROC_AUC = 0.8484 \n",
      "C= 0.5000, ROC_AUC = 0.8490 \n",
      "C= 1.0000, ROC_AUC = 0.8490 \n",
      "C= 2.0000, ROC_AUC = 0.8491 \n",
      "C= 4.0000, ROC_AUC = 0.8491 \n",
      "C= 6.0000, ROC_AUC = 0.8491 \n",
      "C= 8.0000, ROC_AUC = 0.8491 \n",
      "C= 10.0000, ROC_AUC = 0.8491 \n"
     ]
    }
   ],
   "source": [
    "#training Logistic Regressing Model\n",
    "# with a L2 regularization and \n",
    "# using the option of class_weight='balanced' because the binary label had only 7% of positive values\n",
    "LR_model.LR_modeling(X_train, y_train, X_dev, y_dev)"
   ]
  },
  {
   "cell_type": "code",
   "execution_count": 8,
   "metadata": {
    "collapsed": false
   },
   "outputs": [
    {
     "name": "stdout",
     "output_type": "stream",
     "text": [
      "ROC_AUC = 0.8264 \n",
      "ROC_AUC = 0.8239 \n",
      "ROC_AUC = 0.8252 \n",
      "ROC_AUC = 0.8719 \n",
      "ROC_AUC = 0.8562 \n",
      "ROC_AUC = 0.8234 \n",
      "ROC_AUC = 0.8415 \n",
      "ROC_AUC = 0.8354 \n",
      "ROC_AUC = 0.8209 \n",
      "ROC_AUC = 0.8110 \n",
      "ROC AUC: 0.8336% (+/- 0.02%\n"
     ]
    }
   ],
   "source": [
    "reload(LR_model)\n",
    "# 10 cross Validation \n",
    "LR_model.cross_LR_Validation ( predictors, target, c=1.0)"
   ]
  }
 ],
 "metadata": {
  "anaconda-cloud": {},
  "kernelspec": {
   "display_name": "Python 2",
   "language": "python",
   "name": "python2"
  },
  "language_info": {
   "codemirror_mode": {
    "name": "ipython",
    "version": 2
   },
   "file_extension": ".py",
   "mimetype": "text/x-python",
   "name": "python",
   "nbconvert_exporter": "python",
   "pygments_lexer": "ipython2",
   "version": "2.7.14"
  }
 },
 "nbformat": 4,
 "nbformat_minor": 2
}
