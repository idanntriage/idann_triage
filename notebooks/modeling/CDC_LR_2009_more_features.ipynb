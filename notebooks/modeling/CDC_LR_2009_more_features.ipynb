{
 "cells": [
  {
   "cell_type": "markdown",
   "metadata": {},
   "source": [
    "# LR_RMH: Logistic Regression with additional features \n",
    "\n",
    "We added features to the LR_BAS model, features we thought would improve the model performance:\n",
    "* some patient medical history available during triage (e.g: history of diabetes)\n",
    "* MSA indicator for Metropolitan status (if the ER is located in a Metropolitan area or not) \n",
    "* adding Reason for Visit (RFV) codes as vectors to capture its hierarchical semantic into the model . \n",
    "\n",
    "The LR model performance improved. \n",
    "    \n"
   ]
  },
  {
   "cell_type": "code",
   "execution_count": 18,
   "metadata": {
    "collapsed": false
   },
   "outputs": [
    {
     "name": "stderr",
     "output_type": "stream",
     "text": [
      "ERROR:root:Line magic function `%c` not found.\n"
     ]
    }
   ],
   "source": [
    "%c inline\n",
    "import pandas as pd\n",
    "import numpy as np\n",
    "import json\n",
    "from sklearn.cross_validation import train_test_split\n",
    "\n",
    "import sys \n",
    "sys.path.append(\"../../src/models/train_model\")\n",
    "import LR_model \n",
    "sys.path.append(\"../../src/features\")\n",
    "import build_features, vital_signs_features, age_features, RFV_features\n",
    "\n",
    "\n",
    "%matplotlib inline"
   ]
  },
  {
   "cell_type": "markdown",
   "metadata": {},
   "source": [
    "## Model Training"
   ]
  },
  {
   "cell_type": "code",
   "execution_count": 19,
   "metadata": {
    "collapsed": false
   },
   "outputs": [],
   "source": [
    "with open('../../fileConfig.json') as config_file:    \n",
    "        fileConfig = json.load(config_file)"
   ]
  },
  {
   "cell_type": "code",
   "execution_count": 20,
   "metadata": {
    "collapsed": false
   },
   "outputs": [
    {
     "name": "stdout",
     "output_type": "stream",
     "text": [
      "ROC_AUC = 0.8428 \n",
      "ROC_AUC = 0.8330 \n",
      "ROC_AUC = 0.8376 \n",
      "ROC_AUC = 0.8777 \n",
      "ROC_AUC = 0.8663 \n",
      "ROC_AUC = 0.8420 \n",
      "ROC_AUC = 0.8601 \n",
      "ROC_AUC = 0.8447 \n",
      "ROC_AUC = 0.8421 \n",
      "ROC_AUC = 0.8273 \n",
      "ROC AUC: 0.8474% (+/- 0.01%\n"
     ]
    }
   ],
   "source": [
    "# Training model via LR_model.py method\n",
    "LR_model.LR_RMH_model_training(fileConfig)"
   ]
  },
  {
   "cell_type": "markdown",
   "metadata": {},
   "source": [
    "## Model Training, step by step"
   ]
  },
  {
   "cell_type": "markdown",
   "metadata": {},
   "source": [
    "### Reading CDC File"
   ]
  },
  {
   "cell_type": "code",
   "execution_count": 2,
   "metadata": {
    "collapsed": true
   },
   "outputs": [],
   "source": [
    "pd.options.mode.chained_assignment = None  # default='warn'"
   ]
  },
  {
   "cell_type": "code",
   "execution_count": 6,
   "metadata": {
    "collapsed": false
   },
   "outputs": [],
   "source": [
    "#reading file\n",
    "processedDirectory = fileConfig['dataDirectory'] + fileConfig['processedDirectory'] \n",
    "cdc_input = pd.read_csv(processedDirectory + 'ED_TOTAL_2009_2009.csv' )\n",
    "\n"
   ]
  },
  {
   "cell_type": "markdown",
   "metadata": {},
   "source": [
    "###  Feature Engineering\n",
    "\n",
    "Adding new features incrementally, to see its impact\n",
    "\n",
    "#### (1) New feature: splitting RFV codes as vectors\n",
    "\n",
    "Each RFV code follows a hierarchy, there is knowledge represented in the digits that are part of the RFV code,\n",
    "those digits represent which RFV are similar (like embeddings)   \n",
    "\n",
    "Here we make a RFV code, like '10302' to 5 inputs 1,0.3,0,2 "
   ]
  },
  {
   "cell_type": "code",
   "execution_count": 9,
   "metadata": {
    "collapsed": false
   },
   "outputs": [],
   "source": [
    "reload(build_features)\n",
    "reload(RFV_features)\n",
    "predictors, target = build_features.get_baseline_features (cdc_input )\n",
    "predictors = RFV_features.make_rfv_digit_features (predictors, cdc_input)\n"
   ]
  },
  {
   "cell_type": "code",
   "execution_count": 10,
   "metadata": {
    "collapsed": false
   },
   "outputs": [
    {
     "data": {
      "text/plain": [
       "['Temp_Baseline',\n",
       " 'Pulse_Baseline',\n",
       " 'Sys_BP_Baseline',\n",
       " 'Resp_Rate_Baseline',\n",
       " 'Oxygen_Sat_Baseline',\n",
       " 'Reason_Chest_Pain',\n",
       " 'Reason_Abdominal_Pain',\n",
       " 'Reason_Headache',\n",
       " 'Reason_Shortness_of_Breath',\n",
       " 'Reason_Back_Pain',\n",
       " 'Reason_Cough',\n",
       " 'Reason_Nausea_Vomiting',\n",
       " 'Reason_Fever_Chills',\n",
       " 'Reason_Syncope',\n",
       " 'Reason_Dizziness',\n",
       " 'Reason_Psychiatric_Complaint',\n",
       " 'Reason_Nervous_System',\n",
       " 'Reason_Cardiovascular_Other',\n",
       " 'Reason_Ears_Eyes_Complaint',\n",
       " 'Reason_Respiratory_Other',\n",
       " 'Reason_Gastrointestinal_Other',\n",
       " 'Reason_Genitourinary_Other',\n",
       " 'Reason_Skin_Hair_Nails_Complaint',\n",
       " 'Reason_Musculoskeletal_Other',\n",
       " 'Reason_Injury_Poisoning',\n",
       " 'Reason_Other',\n",
       " 'Hypothermia',\n",
       " 'Hyperthermia',\n",
       " 'Bradycardia',\n",
       " 'Mild_Tachycardia',\n",
       " 'Moderate_Tachycardia',\n",
       " 'Severe_Tachycardia',\n",
       " 'Hypotension',\n",
       " 'Hypertension',\n",
       " 'Bradypnea',\n",
       " 'Moderate_Tachypnea',\n",
       " 'Severe_Tachypnea',\n",
       " 'Mild_Hypoxia',\n",
       " 'Severe_Hypoxia',\n",
       " 'Age_18_30',\n",
       " 'Age_31_40',\n",
       " 'Age_41_50',\n",
       " 'Age_51_60',\n",
       " 'Age_61_70',\n",
       " 'Age_71_80',\n",
       " 'Age_81_Above',\n",
       " 'Male_Flag',\n",
       " 'Female_Flag',\n",
       " 'Ambulance_Arrival',\n",
       " 'Other_Arrival',\n",
       " 'Unknown_Arrival',\n",
       " 'rfv1_1',\n",
       " 'rfv1_2',\n",
       " 'rfv1_3',\n",
       " 'rfv1_4',\n",
       " 'rfv1_5',\n",
       " 'rfv2_1',\n",
       " 'rfv2_2',\n",
       " 'rfv2_3',\n",
       " 'rfv2_4',\n",
       " 'rfv2_5',\n",
       " 'rfv3_1',\n",
       " 'rfv3_2',\n",
       " 'rfv3_3',\n",
       " 'rfv3_4',\n",
       " 'rfv3_5']"
      ]
     },
     "execution_count": 10,
     "metadata": {},
     "output_type": "execute_result"
    }
   ],
   "source": [
    "list (predictors)"
   ]
  },
  {
   "cell_type": "markdown",
   "metadata": {},
   "source": [
    "#### Logistic Model"
   ]
  },
  {
   "cell_type": "code",
   "execution_count": 11,
   "metadata": {
    "collapsed": false
   },
   "outputs": [
    {
     "name": "stdout",
     "output_type": "stream",
     "text": [
      "ROC_AUC = 0.8344 \n",
      "ROC_AUC = 0.8279 \n",
      "ROC_AUC = 0.8283 \n",
      "ROC_AUC = 0.8749 \n",
      "ROC_AUC = 0.8592 \n",
      "ROC_AUC = 0.8303 \n",
      "ROC_AUC = 0.8499 \n",
      "ROC_AUC = 0.8351 \n",
      "ROC_AUC = 0.8299 \n",
      "ROC_AUC = 0.8228 \n",
      "ROC AUC: 0.8393% (+/- 0.02%\n"
     ]
    }
   ],
   "source": [
    "LR_model.cross_LR_Validation ( predictors, target, c=1.0)"
   ]
  },
  {
   "cell_type": "markdown",
   "metadata": {},
   "source": [
    "#### (3)   Adding MSA and some medical history for chronical diseases  \n",
    "These type of fields are used by other papers when predicting critical outcomes, and they are available during Triage"
   ]
  },
  {
   "cell_type": "code",
   "execution_count": 12,
   "metadata": {
    "collapsed": false
   },
   "outputs": [],
   "source": [
    "reload(build_features)\n",
    "predictors, target = build_features.get_all_features (cdc_input )"
   ]
  },
  {
   "cell_type": "code",
   "execution_count": 13,
   "metadata": {
    "collapsed": false
   },
   "outputs": [
    {
     "data": {
      "text/plain": [
       "['Temp_Baseline',\n",
       " 'Pulse_Baseline',\n",
       " 'Sys_BP_Baseline',\n",
       " 'Resp_Rate_Baseline',\n",
       " 'Oxygen_Sat_Baseline',\n",
       " 'Reason_Chest_Pain',\n",
       " 'Reason_Abdominal_Pain',\n",
       " 'Reason_Headache',\n",
       " 'Reason_Shortness_of_Breath',\n",
       " 'Reason_Back_Pain',\n",
       " 'Reason_Cough',\n",
       " 'Reason_Nausea_Vomiting',\n",
       " 'Reason_Fever_Chills',\n",
       " 'Reason_Syncope',\n",
       " 'Reason_Dizziness',\n",
       " 'Reason_Psychiatric_Complaint',\n",
       " 'Reason_Nervous_System',\n",
       " 'Reason_Cardiovascular_Other',\n",
       " 'Reason_Ears_Eyes_Complaint',\n",
       " 'Reason_Respiratory_Other',\n",
       " 'Reason_Gastrointestinal_Other',\n",
       " 'Reason_Genitourinary_Other',\n",
       " 'Reason_Skin_Hair_Nails_Complaint',\n",
       " 'Reason_Musculoskeletal_Other',\n",
       " 'Reason_Injury_Poisoning',\n",
       " 'Reason_Other',\n",
       " 'Hypothermia',\n",
       " 'Hyperthermia',\n",
       " 'Bradycardia',\n",
       " 'Mild_Tachycardia',\n",
       " 'Moderate_Tachycardia',\n",
       " 'Severe_Tachycardia',\n",
       " 'Hypotension',\n",
       " 'Hypertension',\n",
       " 'Bradypnea',\n",
       " 'Moderate_Tachypnea',\n",
       " 'Severe_Tachypnea',\n",
       " 'Mild_Hypoxia',\n",
       " 'Severe_Hypoxia',\n",
       " 'Age_18_30',\n",
       " 'Age_31_40',\n",
       " 'Age_41_50',\n",
       " 'Age_51_60',\n",
       " 'Age_61_70',\n",
       " 'Age_71_80',\n",
       " 'Age_81_Above',\n",
       " 'Male_Flag',\n",
       " 'Female_Flag',\n",
       " 'Ambulance_Arrival',\n",
       " 'Other_Arrival',\n",
       " 'Unknown_Arrival',\n",
       " 'rfv1_1',\n",
       " 'rfv1_2',\n",
       " 'rfv1_3',\n",
       " 'rfv1_4',\n",
       " 'rfv1_5',\n",
       " 'rfv2_1',\n",
       " 'rfv2_2',\n",
       " 'rfv2_3',\n",
       " 'rfv2_4',\n",
       " 'rfv2_5',\n",
       " 'rfv3_1',\n",
       " 'rfv3_2',\n",
       " 'rfv3_3',\n",
       " 'rfv3_4',\n",
       " 'rfv3_5',\n",
       " 'MSA_1',\n",
       " 'MSA_2',\n",
       " 'CHF',\n",
       " 'DIABETES_1',\n",
       " 'DIABETES_0']"
      ]
     },
     "execution_count": 13,
     "metadata": {},
     "output_type": "execute_result"
    }
   ],
   "source": [
    "list(predictors)"
   ]
  },
  {
   "cell_type": "markdown",
   "metadata": {},
   "source": [
    "### LR Model Training"
   ]
  },
  {
   "cell_type": "code",
   "execution_count": 14,
   "metadata": {
    "collapsed": false
   },
   "outputs": [
    {
     "name": "stdout",
     "output_type": "stream",
     "text": [
      "ROC_AUC = 0.8428 \n",
      "ROC_AUC = 0.8330 \n",
      "ROC_AUC = 0.8376 \n",
      "ROC_AUC = 0.8777 \n",
      "ROC_AUC = 0.8663 \n",
      "ROC_AUC = 0.8420 \n",
      "ROC_AUC = 0.8601 \n",
      "ROC_AUC = 0.8447 \n",
      "ROC_AUC = 0.8421 \n",
      "ROC_AUC = 0.8273 \n",
      "ROC AUC: 0.8474% (+/- 0.01%\n"
     ]
    }
   ],
   "source": [
    "reload(LR_model)\n",
    "LR_model.cross_LR_Validation ( predictors, target, c=1.0)"
   ]
  }
 ],
 "metadata": {
  "anaconda-cloud": {},
  "kernelspec": {
   "display_name": "Python 2",
   "language": "python",
   "name": "python2"
  },
  "language_info": {
   "codemirror_mode": {
    "name": "ipython",
    "version": 2
   },
   "file_extension": ".py",
   "mimetype": "text/x-python",
   "name": "python",
   "nbconvert_exporter": "python",
   "pygments_lexer": "ipython2",
   "version": "2.7.14"
  }
 },
 "nbformat": 4,
 "nbformat_minor": 2
}
