{
 "cells": [
  {
   "cell_type": "markdown",
   "metadata": {},
   "source": [
    "# RF: Random Forest  Model Training\n",
    "\n",
    "We also implemented a Random forest (RF) model which provides a list of feature importance, relevant for model interpretation.   \n",
    "\n",
    "We used the same list of features than the LR_RMH model (baseline plus additional features)\n"
   ]
  },
  {
   "cell_type": "code",
   "execution_count": 4,
   "metadata": {
    "collapsed": false
   },
   "outputs": [
    {
     "name": "stderr",
     "output_type": "stream",
     "text": [
      "ERROR:root:Line magic function `%c` not found.\n"
     ]
    }
   ],
   "source": [
    "%c inline\n",
    "import pandas as pd\n",
    "import numpy as np\n",
    "from sklearn.cross_validation import train_test_split\n",
    "\n",
    "from sklearn.ensemble import RandomForestClassifier\n",
    "from sklearn.datasets import make_classification\n",
    "from sklearn.metrics import roc_auc_score\n",
    "from sklearn import metrics\n",
    "\n",
    "\n",
    "import sys \n",
    "import json\n",
    "sys.path.append(\"../../src/features\")\n",
    "import build_features, vital_signs_features, age_features, RFV_features\n",
    "\n",
    "\n",
    "%matplotlib inline"
   ]
  },
  {
   "cell_type": "code",
   "execution_count": 5,
   "metadata": {
    "collapsed": true
   },
   "outputs": [],
   "source": [
    "pd.options.mode.chained_assignment = None  # default='warn'"
   ]
  },
  {
   "cell_type": "markdown",
   "metadata": {},
   "source": [
    "## Reading CDC 2009 file"
   ]
  },
  {
   "cell_type": "code",
   "execution_count": 6,
   "metadata": {
    "collapsed": false
   },
   "outputs": [],
   "source": [
    "#reading file\n",
    "with open('../../fileConfig.json') as config_file:    \n",
    "        fileConfig = json.load(config_file)\n",
    "processedDirectory = fileConfig['dataDirectory'] + fileConfig['processedDirectory'] \n",
    "cdc_input = pd.read_csv(processedDirectory + 'ED_TOTAL_2009_2009.csv' )"
   ]
  },
  {
   "cell_type": "markdown",
   "metadata": {},
   "source": [
    "## Feature Engineering"
   ]
  },
  {
   "cell_type": "code",
   "execution_count": 7,
   "metadata": {
    "collapsed": false
   },
   "outputs": [
    {
     "data": {
      "text/plain": [
       "['Temp_Baseline',\n",
       " 'Pulse_Baseline',\n",
       " 'Sys_BP_Baseline',\n",
       " 'Resp_Rate_Baseline',\n",
       " 'Oxygen_Sat_Baseline',\n",
       " 'Reason_Chest_Pain',\n",
       " 'Reason_Abdominal_Pain',\n",
       " 'Reason_Headache',\n",
       " 'Reason_Shortness_of_Breath',\n",
       " 'Reason_Back_Pain',\n",
       " 'Reason_Cough',\n",
       " 'Reason_Nausea_Vomiting',\n",
       " 'Reason_Fever_Chills',\n",
       " 'Reason_Syncope',\n",
       " 'Reason_Dizziness',\n",
       " 'Reason_Psychiatric_Complaint',\n",
       " 'Reason_Nervous_System',\n",
       " 'Reason_Cardiovascular_Other',\n",
       " 'Reason_Ears_Eyes_Complaint',\n",
       " 'Reason_Respiratory_Other',\n",
       " 'Reason_Gastrointestinal_Other',\n",
       " 'Reason_Genitourinary_Other',\n",
       " 'Reason_Skin_Hair_Nails_Complaint',\n",
       " 'Reason_Musculoskeletal_Other',\n",
       " 'Reason_Injury_Poisoning',\n",
       " 'Reason_Other',\n",
       " 'Hypothermia',\n",
       " 'Hyperthermia',\n",
       " 'Bradycardia',\n",
       " 'Mild_Tachycardia',\n",
       " 'Moderate_Tachycardia',\n",
       " 'Severe_Tachycardia',\n",
       " 'Hypotension',\n",
       " 'Hypertension',\n",
       " 'Bradypnea',\n",
       " 'Moderate_Tachypnea',\n",
       " 'Severe_Tachypnea',\n",
       " 'Mild_Hypoxia',\n",
       " 'Severe_Hypoxia',\n",
       " 'Age_18_30',\n",
       " 'Age_31_40',\n",
       " 'Age_41_50',\n",
       " 'Age_51_60',\n",
       " 'Age_61_70',\n",
       " 'Age_71_80',\n",
       " 'Age_81_Above',\n",
       " 'Male_Flag',\n",
       " 'Female_Flag',\n",
       " 'Ambulance_Arrival',\n",
       " 'Other_Arrival',\n",
       " 'Unknown_Arrival',\n",
       " 'rfv1_1',\n",
       " 'rfv1_2',\n",
       " 'rfv1_3',\n",
       " 'rfv1_4',\n",
       " 'rfv1_5',\n",
       " 'rfv2_1',\n",
       " 'rfv2_2',\n",
       " 'rfv2_3',\n",
       " 'rfv2_4',\n",
       " 'rfv2_5',\n",
       " 'rfv3_1',\n",
       " 'rfv3_2',\n",
       " 'rfv3_3',\n",
       " 'rfv3_4',\n",
       " 'rfv3_5',\n",
       " 'MSA_1',\n",
       " 'MSA_2',\n",
       " 'CHF',\n",
       " 'DIABETES_1',\n",
       " 'DIABETES_0']"
      ]
     },
     "execution_count": 7,
     "metadata": {},
     "output_type": "execute_result"
    }
   ],
   "source": [
    "# same list of features than the LR_RMH model \n",
    "predictors, target = build_features.get_all_features (cdc_input )\n",
    "list (predictors)"
   ]
  },
  {
   "cell_type": "markdown",
   "metadata": {},
   "source": [
    "## Tuning hyperparameters\n",
    "(we are not including all the manual tuning in the notebook, just some)"
   ]
  },
  {
   "cell_type": "code",
   "execution_count": 8,
   "metadata": {
    "collapsed": true
   },
   "outputs": [],
   "source": [
    "def fit_RF(rf_model, X_train,y_train):\n",
    "    clf.fit(X_train, y_train)\n",
    "    predicted_prob = clf.predict_proba(X_dev)\n",
    "    fpr, tpr, thresholds = metrics.roc_curve(y_dev,predicted_prob[:,1], pos_label = 1)\n",
    "    roc_auc = metrics.auc(fpr, tpr)\n",
    "    return roc_auc"
   ]
  },
  {
   "cell_type": "code",
   "execution_count": 9,
   "metadata": {
    "collapsed": true
   },
   "outputs": [],
   "source": [
    "X_train, X_dev, y_train, y_dev = train_test_split(predictors, target, test_size = 0.1)"
   ]
  },
  {
   "cell_type": "code",
   "execution_count": 10,
   "metadata": {
    "collapsed": false
   },
   "outputs": [
    {
     "data": {
      "text/plain": [
       "0.7700613960788818"
      ]
     },
     "execution_count": 10,
     "metadata": {},
     "output_type": "execute_result"
    }
   ],
   "source": [
    "clf = RandomForestClassifier(class_weight='balanced')\n",
    "roc_auc = fit_RF(clf, X_train,y_train)\n",
    "roc_auc"
   ]
  },
  {
   "cell_type": "code",
   "execution_count": 11,
   "metadata": {
    "collapsed": false
   },
   "outputs": [
    {
     "name": "stdout",
     "output_type": "stream",
     "text": [
      "depth =  20, ROC_AUC = 0.8003 \n",
      "depth =  15, ROC_AUC = 0.8287 \n",
      "depth =  12, ROC_AUC = 0.8454 \n",
      "depth =  10, ROC_AUC = 0.8412 \n",
      "depth =   8, ROC_AUC = 0.8506 \n",
      "depth =   5, ROC_AUC = 0.8486 \n",
      "depth =   3, ROC_AUC = 0.8484 \n"
     ]
    }
   ],
   "source": [
    "depths = [20, 15,12, 10, 8, 5,3]\n",
    "for depth in depths:\n",
    "    clf = RandomForestClassifier(class_weight='balanced',max_depth=depth)\n",
    "    roc_auc = fit_RF(clf, X_train,y_train)\n",
    "    print ('depth = %3d, ROC_AUC = %1.4f ' % (depth, roc_auc))"
   ]
  },
  {
   "cell_type": "code",
   "execution_count": 12,
   "metadata": {
    "collapsed": false
   },
   "outputs": [
    {
     "name": "stdout",
     "output_type": "stream",
     "text": [
      "n_estimators =  50, ROC_AUC = 0.8623 \n",
      "n_estimators = 100, ROC_AUC = 0.8640 \n",
      "n_estimators = 200, ROC_AUC = 0.8659 \n",
      "n_estimators = 300, ROC_AUC = 0.8641 \n",
      "n_estimators = 400, ROC_AUC = 0.8651 \n"
     ]
    }
   ],
   "source": [
    "n_estimators = [50, 100,200, 300, 400]\n",
    "for ne in n_estimators:\n",
    "    clf = RandomForestClassifier(class_weight='balanced',max_depth=8, n_estimators=ne, random_state = 42)\n",
    "    roc_auc = fit_RF(clf, X_train,y_train)\n",
    "    print ('n_estimators = %3d, ROC_AUC = %1.4f ' % (ne, roc_auc))"
   ]
  },
  {
   "cell_type": "code",
   "execution_count": 13,
   "metadata": {
    "collapsed": false
   },
   "outputs": [
    {
     "name": "stdout",
     "output_type": "stream",
     "text": [
      "ms =   4, ROC_AUC = 0.8662 \n",
      "ms =   8, ROC_AUC = 0.8666 \n",
      "ms =  10, ROC_AUC = 0.8670 \n",
      "ms =  12, ROC_AUC = 0.8652 \n"
     ]
    }
   ],
   "source": [
    "min_splits = [ 4,8,10,12]\n",
    "for ms in min_splits:\n",
    "    clf = RandomForestClassifier(class_weight='balanced',max_depth=8, n_estimators=200, random_state = 42, \n",
    "                             min_samples_split =ms)\n",
    "    roc_auc = fit_RF(clf, X_train,y_train)\n",
    "    print ('ms = %3d, ROC_AUC = %1.4f ' % (ms, roc_auc))"
   ]
  },
  {
   "cell_type": "markdown",
   "metadata": {},
   "source": [
    "## 10 fold cross validation"
   ]
  },
  {
   "cell_type": "code",
   "execution_count": 14,
   "metadata": {
    "collapsed": false
   },
   "outputs": [],
   "source": [
    "from sklearn.cross_validation  import StratifiedKFold\n",
    "def RF_crossValidation (predictors, target, max_depth=8, n_estimators=100, random_state = 42, \n",
    "                             min_samples_split =8):\n",
    "    seed = np.random.seed(0)\n",
    "    kfold = StratifiedKFold(target, n_folds=10)\n",
    "    cvscores = []\n",
    "    #for train, test in kfold.split(predictors, target):\n",
    "    for train, test in kfold:\n",
    "        X_train_cv = np.array(predictors)[train]\n",
    "        X_dev_cv = np.array(predictors)[test]\n",
    "        y_train_cv = np.array (target)[train]\n",
    "        y_dev_cv = np.array(target)[test]\n",
    "        clf = RandomForestClassifier(class_weight='balanced',max_depth=max_depth, n_estimators=n_estimators, \n",
    "                                     random_state = random_state, min_samples_split =min_samples_split)\n",
    "        clf.fit(X_train_cv, y_train_cv)\n",
    "        predicted_prob = clf.predict_proba(X_dev_cv)\n",
    "        fpr, tpr, thresholds = metrics.roc_curve(y_dev_cv,predicted_prob[:,1], pos_label = 1)\n",
    "        roc_auc = metrics.auc(fpr, tpr) \n",
    "        print ('ROC_AUC = %1.4f ' % (roc_auc))\n",
    "        cvscores.append(roc_auc)\n",
    "    print(\"ROC AUC: %.2f%% (+/- %.2f%%)\" % (np.mean(cvscores)*100, np.std(cvscores)))"
   ]
  },
  {
   "cell_type": "code",
   "execution_count": 15,
   "metadata": {
    "collapsed": false
   },
   "outputs": [
    {
     "name": "stdout",
     "output_type": "stream",
     "text": [
      "ROC_AUC = 0.8293 \n",
      "ROC_AUC = 0.8239 \n",
      "ROC_AUC = 0.8598 \n",
      "ROC_AUC = 0.8365 \n",
      "ROC_AUC = 0.8360 \n",
      "ROC_AUC = 0.8461 \n",
      "ROC_AUC = 0.8607 \n",
      "ROC_AUC = 0.8425 \n",
      "ROC_AUC = 0.8603 \n",
      "ROC_AUC = 0.7998 \n",
      "ROC AUC: 83.95% (+/- 0.02%)\n"
     ]
    }
   ],
   "source": [
    "RF_crossValidation (predictors, target,\n",
    "                   max_depth=8, n_estimators=100, random_state = 42, \n",
    "                             min_samples_split =8)"
   ]
  },
  {
   "cell_type": "code",
   "execution_count": 19,
   "metadata": {
    "collapsed": true
   },
   "outputs": [],
   "source": [
    "lf = RandomForestClassifier(class_weight='balanced',max_depth=8, n_estimators=100, random_state = 42, \n",
    "                             min_samples_split =8)\n",
    "clf.fit(X_train, y_train)\n",
    "fi_2009 = clf.feature_importances_"
   ]
  },
  {
   "cell_type": "code",
   "execution_count": 20,
   "metadata": {
    "collapsed": false
   },
   "outputs": [
    {
     "data": {
      "text/html": [
       "<div>\n",
       "<table border=\"1\" class=\"dataframe\">\n",
       "  <thead>\n",
       "    <tr style=\"text-align: right;\">\n",
       "      <th></th>\n",
       "      <th>importance</th>\n",
       "    </tr>\n",
       "  </thead>\n",
       "  <tbody>\n",
       "    <tr>\n",
       "      <th>Ambulance_Arrival</th>\n",
       "      <td>0.151290</td>\n",
       "    </tr>\n",
       "    <tr>\n",
       "      <th>Other_Arrival</th>\n",
       "      <td>0.125668</td>\n",
       "    </tr>\n",
       "    <tr>\n",
       "      <th>Age_18_30</th>\n",
       "      <td>0.075858</td>\n",
       "    </tr>\n",
       "    <tr>\n",
       "      <th>rfv1_2</th>\n",
       "      <td>0.065248</td>\n",
       "    </tr>\n",
       "    <tr>\n",
       "      <th>CHF</th>\n",
       "      <td>0.062469</td>\n",
       "    </tr>\n",
       "    <tr>\n",
       "      <th>Resp_Rate_Baseline</th>\n",
       "      <td>0.039490</td>\n",
       "    </tr>\n",
       "    <tr>\n",
       "      <th>Age_81_Above</th>\n",
       "      <td>0.038944</td>\n",
       "    </tr>\n",
       "    <tr>\n",
       "      <th>Oxygen_Sat_Baseline</th>\n",
       "      <td>0.037227</td>\n",
       "    </tr>\n",
       "    <tr>\n",
       "      <th>Reason_Shortness_of_Breath</th>\n",
       "      <td>0.036495</td>\n",
       "    </tr>\n",
       "    <tr>\n",
       "      <th>DIABETES_1</th>\n",
       "      <td>0.029102</td>\n",
       "    </tr>\n",
       "  </tbody>\n",
       "</table>\n",
       "</div>"
      ],
      "text/plain": [
       "                            importance\n",
       "Ambulance_Arrival             0.151290\n",
       "Other_Arrival                 0.125668\n",
       "Age_18_30                     0.075858\n",
       "rfv1_2                        0.065248\n",
       "CHF                           0.062469\n",
       "Resp_Rate_Baseline            0.039490\n",
       "Age_81_Above                  0.038944\n",
       "Oxygen_Sat_Baseline           0.037227\n",
       "Reason_Shortness_of_Breath    0.036495\n",
       "DIABETES_1                    0.029102"
      ]
     },
     "execution_count": 20,
     "metadata": {},
     "output_type": "execute_result"
    }
   ],
   "source": [
    "feature_importances_2009 = pd.DataFrame(fi_2009,\n",
    "                                   index = X_train.columns,\n",
    "                                    columns=['importance']).sort_values('importance',ascending=False)\n",
    "feature_importances_2009.head(10)"
   ]
  },
  {
   "cell_type": "markdown",
   "metadata": {},
   "source": [
    "\n",
    "### original run result during w210 project\n",
    "From w210 run (not sure how 81.15 was the result,not replicable now)\n",
    "\n",
    "```\n",
    "clf = RandomForestClassifier(class_weight='balanced',max_depth=8, n_estimators=100, random_state = 42, \n",
    "                             min_samples_split =10)\n",
    "ROC_AUC = 0.8349 \n",
    "ROC_AUC = 0.8454 \n",
    "ROC_AUC = 0.8233 \n",
    "ROC_AUC = 0.8099 \n",
    "ROC_AUC = 0.8461 \n",
    "ROC_AUC = 0.8294 \n",
    "ROC_AUC = 0.7979 \n",
    "ROC_AUC = 0.6863 \n",
    "ROC_AUC = 0.8176 \n",
    "ROC_AUC = 0.8242 \n",
    "ROC AUC: 81.15% (+/- 0.04%)\n",
    "    ```"
   ]
  },
  {
   "cell_type": "code",
   "execution_count": null,
   "metadata": {
    "collapsed": true
   },
   "outputs": [],
   "source": []
  }
 ],
 "metadata": {
  "anaconda-cloud": {},
  "kernelspec": {
   "display_name": "Python 2",
   "language": "python",
   "name": "python2"
  },
  "language_info": {
   "codemirror_mode": {
    "name": "ipython",
    "version": 2
   },
   "file_extension": ".py",
   "mimetype": "text/x-python",
   "name": "python",
   "nbconvert_exporter": "python",
   "pygments_lexer": "ipython2",
   "version": "2.7.14"
  }
 },
 "nbformat": 4,
 "nbformat_minor": 2
}
