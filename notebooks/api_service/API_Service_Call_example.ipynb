{
 "cells": [
  {
   "cell_type": "code",
   "execution_count": 3,
   "metadata": {
    "collapsed": true
   },
   "outputs": [],
   "source": [
    "import pandas as pd\n",
    "import numpy as np\n",
    "import random\n",
    "import sys\n",
    "import json \n",
    "pd.options.mode.chained_assignment = None  # default='warn'\n",
    "pd.set_option('display.max_rows', None)\n",
    "pd.options.display.max_columns = None"
   ]
  },
  {
   "cell_type": "markdown",
   "metadata": {},
   "source": [
    "##  Read data"
   ]
  },
  {
   "cell_type": "code",
   "execution_count": 4,
   "metadata": {
    "collapsed": false
   },
   "outputs": [],
   "source": [
    "fileName = 'ED_TOTAL_2010_2010.csv'\n",
    "with open('../../fileConfig.json') as config_file:    \n",
    "        fileConfig = json.load(config_file)\n",
    "fileLocation = fileConfig['dataDirectory'] + fileConfig['processedDirectory'] + fileName\n",
    "cdc_file = pd.read_csv(fileLocation)\n"
   ]
  },
  {
   "cell_type": "code",
   "execution_count": 6,
   "metadata": {
    "collapsed": false
   },
   "outputs": [],
   "source": [
    "#getting one record from the input file, as an example\n",
    "record_index = random.randint(0,len(cdc_file))\n",
    "sample_record = cdc_file.iloc[[record_index]]\n"
   ]
  },
  {
   "cell_type": "markdown",
   "metadata": {},
   "source": [
    "## Pass data to predictor"
   ]
  },
  {
   "cell_type": "code",
   "execution_count": 40,
   "metadata": {
    "collapsed": true
   },
   "outputs": [],
   "source": [
    "json_data = sample_record.to_json(orient='records')"
   ]
  },
  {
   "cell_type": "code",
   "execution_count": 42,
   "metadata": {
    "collapsed": true
   },
   "outputs": [],
   "source": [
    "import requests\n",
    "url = 'http://**************/predict_esi'\n",
    "data = json_data\n",
    "response = requests.post(url, data=data, stream=False)"
   ]
  },
  {
   "cell_type": "code",
   "execution_count": 43,
   "metadata": {
    "collapsed": false
   },
   "outputs": [
    {
     "name": "stdout",
     "output_type": "stream",
     "text": [
      "{\"co\": 0.01595843955874443, \"rss\": 0, \"esi\": 5, \"co_fi\": [{\"input_value\": \"1\", \"featureName\": \"Reason_Musculoskeletal_Other\", \"attention_weight\": 0.01836647465825081}, {\"input_value\": \"0\", \"featureName\": \"Age_18_30_range\", \"attention_weight\": 0.016535554081201553}, {\"input_value\": \"19001: neck pain ache soreness discomfort\", \"featureName\": \"reason2_for_visit\", \"attention_weight\": 0.015766864642500877}, {\"input_value\": \"19401: shoulder pain ache soreness discomfort\", \"featureName\": \"reason1_for_visit\", \"attention_weight\": 0.01572396792471409}, {\"input_value\": \"2: NOT by ambulance\", \"featureName\": \"arrival_model\", \"attention_weight\": 0.011492404155433178}, {\"input_value\": \"0\", \"featureName\": \"Reason_Shortness_of_Breath\", \"attention_weight\": 0.011126360855996609}, {\"input_value\": \"0\", \"featureName\": \"chf_indicator\", \"attention_weight\": 0.010983179323375225}, {\"input_value\": \"44\", \"featureName\": \"Age\", \"attention_weight\": 0.01010589674115181}, {\"input_value\": \"0\", \"featureName\": \"Age_81_Above\", \"attention_weight\": 0.01008625142276287}, {\"input_value\": \"0\", \"featureName\": \"Moderate_Tachypnea\", \"attention_weight\": 0.0094815194606781}, {\"input_value\": \"0\", \"featureName\": \"Age_61_70_range\", \"attention_weight\": 0.009060563519597054}, {\"input_value\": \"0\", \"featureName\": \"Age_31_40_range\", \"attention_weight\": 0.0089441929012537}, {\"input_value\": \"0\", \"featureName\": \"Age_71_80_range\", \"attention_weight\": 0.008850514888763428}, {\"input_value\": \"41150: medication other and unspecified kinds antibiotics nos check medication drug studies for medication hormone refill medication for pain oral placebo effect prescribe medication renew prescription renew scripts scripts\", \"featureName\": \"reason3_for_visit\", \"attention_weight\": 0.008562750183045864}, {\"input_value\": \"0\", \"featureName\": \"Severe_Tachypnea\", \"attention_weight\": 0.00732765207067132}], \"word_heat\": {\"pos_8\": {\"0\": \"neck\", \"1\": \"0.006823777\", \"2\": \" \"}, \"pos_9\": {\"0\": \"pain\", \"1\": \"0.00929867\", \"2\": \"*\"}, \"pos_2\": {\"0\": \"pain\", \"1\": \"0.00929867\", \"2\": \"*\"}, \"pos_3\": {\"0\": \"ache\", \"1\": \"0.0067202933\", \"2\": \" \"}, \"pos_1\": {\"0\": \"shoulder\", \"1\": \"0.006658495\", \"2\": \" \"}, \"pos_6\": {\"0\": \"s\", \"1\": \"0.0057585523\", \"2\": \" \"}, \"pos_7\": {\"0\": \"s\", \"1\": \"0.0057585523\", \"2\": \" \"}, \"pos_4\": {\"0\": \"soreness\", \"1\": \"0.006707366\", \"2\": \" \"}, \"pos_5\": {\"0\": \"discomfort\", \"1\": \"0.007184704\", \"2\": \" \"}, \"pos_32\": {\"0\": \"pain\", \"1\": \"0.00929867\", \"2\": \"*\"}, \"pos_33\": {\"0\": \"oral\", \"1\": \"0.006684548\", \"2\": \" \"}, \"pos_30\": {\"0\": \"medication\", \"1\": \"0.012368334\", \"2\": \"*\"}, \"pos_31\": {\"0\": \"for\", \"1\": \"0.0066893436\", \"2\": \" \"}, \"pos_18\": {\"0\": \"unspecified\", \"1\": \"0.0068003754\", \"2\": \" \"}, \"pos_19\": {\"0\": \"kinds\", \"1\": \"0.0066823293\", \"2\": \" \"}, \"pos_34\": {\"0\": \"placebo\", \"1\": \"0.0066868817\", \"2\": \" \"}, \"pos_35\": {\"0\": \"effect\", \"1\": \"0.006791769\", \"2\": \" \"}, \"pos_14\": {\"0\": \"s\", \"1\": \"0.0057585523\", \"2\": \" \"}, \"pos_15\": {\"0\": \"medication\", \"1\": \"0.012368334\", \"2\": \"*\"}, \"pos_16\": {\"0\": \"other\", \"1\": \"0.008971166\", \"2\": \"*\"}, \"pos_17\": {\"0\": \"and\", \"1\": \"0.008168938\", \"2\": \"*\"}, \"pos_10\": {\"0\": \"ache\", \"1\": \"0.0067202933\", \"2\": \" \"}, \"pos_11\": {\"0\": \"soreness\", \"1\": \"0.006707366\", \"2\": \" \"}, \"pos_12\": {\"0\": \"discomfort\", \"1\": \"0.007184704\", \"2\": \" \"}, \"pos_13\": {\"0\": \"s\", \"1\": \"0.0057585523\", \"2\": \" \"}, \"pos_41\": {\"0\": \"scripts\", \"1\": \"0.0065625506\", \"2\": \" \"}, \"pos_40\": {\"0\": \"renew\", \"1\": \"0.0065618837\", \"2\": \" \"}, \"pos_36\": {\"0\": \"prescribe\", \"1\": \"0.006683952\", \"2\": \" \"}, \"pos_38\": {\"0\": \"renew\", \"1\": \"0.0065618837\", \"2\": \" \"}, \"pos_39\": {\"0\": \"prescription\", \"1\": \"0.0066841464\", \"2\": \" \"}, \"pos_42\": {\"0\": \"scripts\", \"1\": \"0.0065625506\", \"2\": \" \"}, \"pos_21\": {\"0\": \"nos\", \"1\": \"0.0063855434\", \"2\": \" \"}, \"pos_20\": {\"0\": \"antibiotics\", \"1\": \"0.00666213\", \"2\": \" \"}, \"pos_23\": {\"0\": \"medication\", \"1\": \"0.012368334\", \"2\": \"*\"}, \"pos_22\": {\"0\": \"check\", \"1\": \"0.00690375\", \"2\": \" \"}, \"pos_25\": {\"0\": \"studies\", \"1\": \"0.0066836933\", \"2\": \" \"}, \"pos_24\": {\"0\": \"drug\", \"1\": \"0.006348733\", \"2\": \" \"}, \"pos_27\": {\"0\": \"medication\", \"1\": \"0.012368334\", \"2\": \"*\"}, \"pos_26\": {\"0\": \"for\", \"1\": \"0.0066893436\", \"2\": \" \"}, \"pos_29\": {\"0\": \"refill\", \"1\": \"0.006682273\", \"2\": \" \"}, \"pos_28\": {\"0\": \"hormone\", \"1\": \"0.0065968437\", \"2\": \" \"}, \"pos_37\": {\"0\": \"medication\", \"1\": \"0.012368334\", \"2\": \"*\"}}, \"rss_fi\": [{\"input_value\": \"1\", \"featureName\": \"Reason_Musculoskeletal_Other\", \"attention_weight\": 0.02265104465186596}, {\"input_value\": \"19401: shoulder pain ache soreness discomfort\", \"featureName\": \"reason1_for_visit\", \"attention_weight\": 0.022537164390087128}, {\"input_value\": \"19001: neck pain ache soreness discomfort\", \"featureName\": \"reason2_for_visit\", \"attention_weight\": 0.019731532782316208}, {\"input_value\": \"2: NOT by ambulance\", \"featureName\": \"arrival_model\", \"attention_weight\": 0.014020957984030247}, {\"input_value\": \"0\", \"featureName\": \"Reason_Injury_Poisoning\", \"attention_weight\": 0.01268970500677824}, {\"input_value\": \"0\", \"featureName\": \"Reason_Gastrointestinal_Other\", \"attention_weight\": 0.010159053839743137}, {\"input_value\": \"41150: medication other and unspecified kinds antibiotics nos check medication drug studies for medication hormone refill medication for pain oral placebo effect prescribe medication renew prescription renew scripts scripts\", \"featureName\": \"reason3_for_visit\", \"attention_weight\": 0.009883333928883076}, {\"input_value\": \"44\", \"featureName\": \"Age\", \"attention_weight\": 0.009550034068524837}, {\"input_value\": \"0\", \"featureName\": \"Reason_Skin_Hair_Nails_Complaint\", \"attention_weight\": 0.006140038836747408}, {\"input_value\": \"99\", \"featureName\": \"Oxygen_Saturation\", \"attention_weight\": 0.00608464190736413}, {\"input_value\": \"0\", \"featureName\": \"Age_81_Above\", \"attention_weight\": 0.005999440792948008}, {\"input_value\": \"0\", \"featureName\": \"Age_18_30_range\", \"attention_weight\": 0.00598984956741333}, {\"input_value\": \"0\", \"featureName\": \"Reason_Nausea_Vomiting\", \"attention_weight\": 0.005931281950324774}, {\"input_value\": \"0\", \"featureName\": \"Reason_Respiratory_Other\", \"attention_weight\": 0.005908737890422344}, {\"input_value\": \"0\", \"featureName\": \"Age_31_40_range\", \"attention_weight\": 0.0056476290337741375}]}\n"
     ]
    }
   ],
   "source": [
    "print response.text"
   ]
  },
  {
   "cell_type": "code",
   "execution_count": null,
   "metadata": {
    "collapsed": true
   },
   "outputs": [],
   "source": []
  }
 ],
 "metadata": {
  "kernelspec": {
   "display_name": "Python 2",
   "language": "python",
   "name": "python2"
  },
  "language_info": {
   "codemirror_mode": {
    "name": "ipython",
    "version": 2
   },
   "file_extension": ".py",
   "mimetype": "text/x-python",
   "name": "python",
   "nbconvert_exporter": "python",
   "pygments_lexer": "ipython2",
   "version": "2.7.14"
  }
 },
 "nbformat": 4,
 "nbformat_minor": 2
}
