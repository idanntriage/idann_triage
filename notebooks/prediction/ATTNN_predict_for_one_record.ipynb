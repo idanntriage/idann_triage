{
 "cells": [
  {
   "cell_type": "code",
   "execution_count": 1,
   "metadata": {
    "collapsed": false
   },
   "outputs": [
    {
     "name": "stderr",
     "output_type": "stream",
     "text": [
      "Using TensorFlow backend.\n"
     ]
    }
   ],
   "source": [
    "import pandas as pd\n",
    "import numpy as np\n",
    "import random\n",
    "import pickle\n",
    "import sys\n",
    "from keras.models import load_model\n",
    "from keras import backend\n",
    "import json \n",
    "\n",
    "sys.path.append(\"../../src/models/predict_model\")\n",
    "import predictor\n",
    "sys.path.append(\"../../src/data\")\n",
    "import exclusionCriteria\n",
    "\n",
    "pd.options.mode.chained_assignment = None  # default='warn'\n"
   ]
  },
  {
   "cell_type": "markdown",
   "metadata": {},
   "source": [
    "## Get one record for a sample prediction"
   ]
  },
  {
   "cell_type": "code",
   "execution_count": 2,
   "metadata": {
    "collapsed": false
   },
   "outputs": [],
   "source": [
    "fileName = 'ED_TOTAL_2009_2009.csv'\n",
    "with open('../../fileConfig.json') as config_file:    \n",
    "        fileConfig = json.load(config_file)\n",
    "fileLocation = fileConfig['dataDirectory'] + fileConfig['processedDirectory'] + fileName\n",
    "cdc_file = pd.read_csv(fileLocation)        "
   ]
  },
  {
   "cell_type": "code",
   "execution_count": 3,
   "metadata": {
    "collapsed": false
   },
   "outputs": [],
   "source": [
    "# records with vital signs = -9 are filtered out for demo purposes\n",
    "# todo: resolve records with missing data \n",
    "reload(exclusionCriteria)\n",
    "cdc_file = exclusionCriteria.filter_out_records_na(cdc_file)\n"
   ]
  },
  {
   "cell_type": "code",
   "execution_count": 4,
   "metadata": {
    "collapsed": false
   },
   "outputs": [
    {
     "data": {
      "text/html": [
       "<div>\n",
       "<table border=\"1\" class=\"dataframe\">\n",
       "  <thead>\n",
       "    <tr style=\"text-align: right;\">\n",
       "      <th></th>\n",
       "      <th>VYEAR</th>\n",
       "      <th>VMONTH</th>\n",
       "      <th>VDAYR</th>\n",
       "      <th>AGE</th>\n",
       "      <th>ARRTIME</th>\n",
       "      <th>WAITTIME</th>\n",
       "      <th>LOV</th>\n",
       "      <th>RESIDNCE</th>\n",
       "      <th>SEX</th>\n",
       "      <th>ETHUN</th>\n",
       "      <th>...</th>\n",
       "      <th>ADMITHOS</th>\n",
       "      <th>OBSHOS</th>\n",
       "      <th>OBSDIS</th>\n",
       "      <th>OTHDISP</th>\n",
       "      <th>ADMIT</th>\n",
       "      <th>HDSTAT</th>\n",
       "      <th>BDATEFL</th>\n",
       "      <th>IMMEDRFL</th>\n",
       "      <th>REGION</th>\n",
       "      <th>MSA</th>\n",
       "    </tr>\n",
       "  </thead>\n",
       "  <tbody>\n",
       "    <tr>\n",
       "      <th>3229</th>\n",
       "      <td>2009</td>\n",
       "      <td>4</td>\n",
       "      <td>5</td>\n",
       "      <td>33</td>\n",
       "      <td>1952</td>\n",
       "      <td>102</td>\n",
       "      <td>124</td>\n",
       "      <td>1</td>\n",
       "      <td>2</td>\n",
       "      <td>1</td>\n",
       "      <td>...</td>\n",
       "      <td>0</td>\n",
       "      <td>0</td>\n",
       "      <td>0</td>\n",
       "      <td>0</td>\n",
       "      <td>-7</td>\n",
       "      <td>-7</td>\n",
       "      <td>0</td>\n",
       "      <td>0</td>\n",
       "      <td>1</td>\n",
       "      <td>1</td>\n",
       "    </tr>\n",
       "  </tbody>\n",
       "</table>\n",
       "<p>1 rows × 93 columns</p>\n",
       "</div>"
      ],
      "text/plain": [
       "      VYEAR  VMONTH  VDAYR  AGE  ARRTIME  WAITTIME  LOV  RESIDNCE  SEX  ETHUN  \\\n",
       "3229   2009       4      5   33     1952       102  124         1    2      1   \n",
       "\n",
       "     ...   ADMITHOS  OBSHOS  OBSDIS  OTHDISP  ADMIT  HDSTAT  BDATEFL  \\\n",
       "3229 ...          0       0       0        0     -7      -7        0   \n",
       "\n",
       "      IMMEDRFL  REGION  MSA  \n",
       "3229         0       1    1  \n",
       "\n",
       "[1 rows x 93 columns]"
      ]
     },
     "execution_count": 4,
     "metadata": {},
     "output_type": "execute_result"
    }
   ],
   "source": [
    "#getting one record from the input file, as an example\n",
    "record_index = random.randint(0,len(cdc_file))\n",
    "sample_record = cdc_file.iloc[[record_index]]\n",
    "sample_record.head()"
   ]
  },
  {
   "cell_type": "markdown",
   "metadata": {},
   "source": [
    "##  Read models "
   ]
  },
  {
   "cell_type": "code",
   "execution_count": 5,
   "metadata": {
    "collapsed": false
   },
   "outputs": [
    {
     "data": {
      "text/plain": [
       "{u'co_model': u'../../models/cdc_2009_nn_att_text_embedding.H5',\n",
       " u'max_text_length': u'../../models/cdc_2009_att_text_max_length.pickle',\n",
       " u'rss_model': u'../../models/cdc_rss_2009_nn_att_text_embedding.H5',\n",
       " u'tokenizer': u'../../models/cdc_2009_att_text_tokenizer.pickle'}"
      ]
     },
     "execution_count": 5,
     "metadata": {},
     "output_type": "execute_result"
    }
   ],
   "source": [
    "with open('../../modelConfig.json') as config_file:    \n",
    "        modelConfig = json.load(config_file)\n",
    "        \n",
    "modelConfig"
   ]
  },
  {
   "cell_type": "markdown",
   "metadata": {},
   "source": [
    "## Thresholds"
   ]
  },
  {
   "cell_type": "code",
   "execution_count": 6,
   "metadata": {
    "collapsed": false
   },
   "outputs": [
    {
     "data": {
      "text/plain": [
       "{u'esi1_threshold': 0.8709694147109985,\n",
       " u'esi2_threshold': 0.7043555974960327,\n",
       " u'rss_threshold': 0.35}"
      ]
     },
     "execution_count": 6,
     "metadata": {},
     "output_type": "execute_result"
    }
   ],
   "source": [
    "fileESIThreshold_location = fileConfig['dataDirectory'] + fileConfig['resultDirectory'] + 'esi_thresholds.json'  \n",
    "with open(fileESIThreshold_location) as config_file:    \n",
    "        thresholdsConfig = json.load(config_file)\n",
    "thresholdsConfig"
   ]
  },
  {
   "cell_type": "markdown",
   "metadata": {},
   "source": [
    "## Pass data to predictor"
   ]
  },
  {
   "cell_type": "code",
   "execution_count": 7,
   "metadata": {
    "collapsed": true
   },
   "outputs": [],
   "source": [
    "json_data = sample_record.to_json(orient='records')"
   ]
  },
  {
   "cell_type": "code",
   "execution_count": 8,
   "metadata": {
    "collapsed": false
   },
   "outputs": [
    {
     "name": "stderr",
     "output_type": "stream",
     "text": [
      "/home/zenobiosky/anaconda2/lib/python2.7/site-packages/keras/engine/topology.py:1269: UserWarning: The `Merge` layer is deprecated and will be removed after 08/2017. Use instead layers from `keras.layers.merge`, e.g. `add`, `concatenate`, etc.\n",
      "  return cls(**config)\n"
     ]
    },
    {
     "name": "stdout",
     "output_type": "stream",
     "text": [
      "Creating text for embeddings\n"
     ]
    }
   ],
   "source": [
    "reload(predictor)\n",
    "att_top = 15\n",
    "output = predictor.predict(modelConfig,thresholdsConfig, json_data, att_top)\n"
   ]
  },
  {
   "cell_type": "code",
   "execution_count": 9,
   "metadata": {
    "collapsed": false
   },
   "outputs": [
    {
     "name": "stdout",
     "output_type": "stream",
     "text": [
      "{\"co\": 0.04415686056017876, \"rss\": [0.0], \"esi\": [5], \"co_fi\": [{\"input_value\": \"2: NOT by ambulance\", \"featureName\": \"arrival_model\", \"attention_weight\": 0.021739035844802856}, {\"input_value\": \"1\", \"featureName\": \"Reason_Musculoskeletal_Other\", \"attention_weight\": 0.021616321057081223}, {\"input_value\": \"1\", \"featureName\": \"Age_31_40_range\", \"attention_weight\": 0.02074449695646763}, {\"input_value\": \"1\", \"featureName\": \"Moderate_Tachypnea\", \"attention_weight\": 0.01969575323164463}, {\"input_value\": \"0\", \"featureName\": \"chf_indicator\", \"attention_weight\": 0.017187701538205147}, {\"input_value\": \"0\", \"featureName\": \"Age_81_Above\", \"attention_weight\": 0.0150623032823205}, {\"input_value\": null, \"featureName\": \"reason2_for_visit\", \"attention_weight\": 0.0150111960247159}, {\"input_value\": \"0\", \"featureName\": \"Reason_Shortness_of_Breath\", \"attention_weight\": 0.014397731050848961}, {\"input_value\": \"0\", \"featureName\": \"Age_18_30_range\", \"attention_weight\": 0.012177063152194023}, {\"input_value\": \"0\", \"featureName\": \"Reason_Gastrointestinal_Other\", \"attention_weight\": 0.011272376403212547}, {\"input_value\": \"33\", \"featureName\": \"Age\", \"attention_weight\": 0.010592291131615639}, {\"input_value\": null, \"featureName\": \"reason3_for_visit\", \"attention_weight\": 0.010028261691331863}, {\"input_value\": \"0\", \"featureName\": \"Severe_Tachypnea\", \"attention_weight\": 0.009772327728569508}, {\"input_value\": \"19051: back pain ache soreness discomfort\", \"featureName\": \"reason1_for_visit\", \"attention_weight\": 0.009605285711586475}, {\"input_value\": \"0\", \"featureName\": \"Severe_Tachycardia\", \"attention_weight\": 0.008775666356086731}], \"word_heat\": {\"pos_2\": {\"0\": \"pain\", \"1\": \"0.00936731\", \"2\": \"*\"}, \"pos_3\": {\"0\": \"ache\", \"1\": \"0.00827011\", \"2\": \" \"}, \"pos_1\": {\"0\": \"back\", \"1\": \"0.00946541\", \"2\": \"*\"}, \"pos_4\": {\"0\": \"soreness\", \"1\": \"0.00870711\", \"2\": \" \"}, \"pos_5\": {\"0\": \"discomfort\", \"1\": \"0.0101909\", \"2\": \"*\"}}, \"rss_fi\": [{\"input_value\": \"1\", \"featureName\": \"Reason_Musculoskeletal_Other\", \"attention_weight\": 0.02617035247385502}, {\"input_value\": null, \"featureName\": \"reason2_for_visit\", \"attention_weight\": 0.022614015266299248}, {\"input_value\": \"1\", \"featureName\": \"Age_31_40_range\", \"attention_weight\": 0.01990845426917076}, {\"input_value\": \"0\", \"featureName\": \"Reason_Gastrointestinal_Other\", \"attention_weight\": 0.014933263882994652}, {\"input_value\": \"1\", \"featureName\": \"Moderate_Tachypnea\", \"attention_weight\": 0.014147724024951458}, {\"input_value\": null, \"featureName\": \"reason3_for_visit\", \"attention_weight\": 0.012348697520792484}, {\"input_value\": \"19051: back pain ache soreness discomfort\", \"featureName\": \"reason1_for_visit\", \"attention_weight\": 0.011905659921467304}, {\"input_value\": \"0\", \"featureName\": \"Reason_Injury_Poisoning\", \"attention_weight\": 0.010534758679568768}, {\"input_value\": \"0\", \"featureName\": \"Reason_Nausea_Vomiting\", \"attention_weight\": 0.010349816642701626}, {\"input_value\": \"1\", \"featureName\": \"Severe_Hypoxia\", \"attention_weight\": 0.010109426453709602}, {\"input_value\": \"0\", \"featureName\": \"Reason_Genitourinary_Other\", \"attention_weight\": 0.00991715956479311}, {\"input_value\": \"2: NOT by ambulance\", \"featureName\": \"arrival_model\", \"attention_weight\": 0.009225004352629185}, {\"input_value\": \"33\", \"featureName\": \"Age\", \"attention_weight\": 0.008840162307024002}, {\"input_value\": \"0\", \"featureName\": \"Reason_Shortness_of_Breath\", \"attention_weight\": 0.008739546872675419}, {\"input_value\": \"0\", \"featureName\": \"Age_18_30_range\", \"attention_weight\": 0.008388561196625233}]}\n"
     ]
    }
   ],
   "source": [
    "print(output)"
   ]
  }
 ],
 "metadata": {
  "kernelspec": {
   "display_name": "Python 2",
   "language": "python",
   "name": "python2"
  },
  "language_info": {
   "codemirror_mode": {
    "name": "ipython",
    "version": 2
   },
   "file_extension": ".py",
   "mimetype": "text/x-python",
   "name": "python",
   "nbconvert_exporter": "python",
   "pygments_lexer": "ipython2",
   "version": "2.7.14"
  }
 },
 "nbformat": 4,
 "nbformat_minor": 2
}
