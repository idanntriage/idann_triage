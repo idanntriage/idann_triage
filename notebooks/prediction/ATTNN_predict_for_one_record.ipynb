{
 "cells": [
  {
   "cell_type": "code",
   "execution_count": 22,
   "metadata": {
    "collapsed": false
   },
   "outputs": [],
   "source": [
    "import pandas as pd\n",
    "import numpy as np\n",
    "import random\n",
    "import pickle\n",
    "import sys\n",
    "from keras.models import load_model\n",
    "from keras import backend\n",
    "import json \n",
    "\n",
    "sys.path.append(\"../../src/models/predict_model\")\n",
    "import predictor\n",
    "sys.path.append(\"../../src/data\")\n",
    "import exclusionCriteria\n",
    "\n",
    "pd.options.mode.chained_assignment = None  # default='warn'\n"
   ]
  },
  {
   "cell_type": "markdown",
   "metadata": {},
   "source": [
    "## Get one record for a sample prediction"
   ]
  },
  {
   "cell_type": "code",
   "execution_count": 7,
   "metadata": {
    "collapsed": false
   },
   "outputs": [],
   "source": [
    "fileName = 'ED_TOTAL_2009_2009.csv'\n",
    "with open('../../fileConfig.json') as config_file:    \n",
    "        fileConfig = json.load(config_file)\n",
    "fileLocation = fileConfig['dataDirectory'] + fileConfig['processedDirectory'] + fileName\n",
    "cdc_file = pd.read_csv(fileLocation)        "
   ]
  },
  {
   "cell_type": "code",
   "execution_count": 18,
   "metadata": {
    "collapsed": false
   },
   "outputs": [],
   "source": [
    "# records with vital signs = -9 are filtered out for demo purposes\n",
    "# todo: resolve records with missing data \n",
    "reload(exclusionCriteria)\n",
    "cdc_file = exclusionCriteria.filter_out_records_na(cdc_file)\n"
   ]
  },
  {
   "cell_type": "code",
   "execution_count": 19,
   "metadata": {
    "collapsed": false
   },
   "outputs": [
    {
     "data": {
      "text/html": [
       "<div>\n",
       "<table border=\"1\" class=\"dataframe\">\n",
       "  <thead>\n",
       "    <tr style=\"text-align: right;\">\n",
       "      <th></th>\n",
       "      <th>VYEAR</th>\n",
       "      <th>VMONTH</th>\n",
       "      <th>VDAYR</th>\n",
       "      <th>AGE</th>\n",
       "      <th>ARRTIME</th>\n",
       "      <th>WAITTIME</th>\n",
       "      <th>LOV</th>\n",
       "      <th>RESIDNCE</th>\n",
       "      <th>SEX</th>\n",
       "      <th>ETHUN</th>\n",
       "      <th>...</th>\n",
       "      <th>ADMITHOS</th>\n",
       "      <th>OBSHOS</th>\n",
       "      <th>OBSDIS</th>\n",
       "      <th>OTHDISP</th>\n",
       "      <th>ADMIT</th>\n",
       "      <th>HDSTAT</th>\n",
       "      <th>BDATEFL</th>\n",
       "      <th>IMMEDRFL</th>\n",
       "      <th>REGION</th>\n",
       "      <th>MSA</th>\n",
       "    </tr>\n",
       "  </thead>\n",
       "  <tbody>\n",
       "    <tr>\n",
       "      <th>20771</th>\n",
       "      <td>2009</td>\n",
       "      <td>5</td>\n",
       "      <td>2</td>\n",
       "      <td>29</td>\n",
       "      <td>113</td>\n",
       "      <td>12</td>\n",
       "      <td>43</td>\n",
       "      <td>1</td>\n",
       "      <td>1</td>\n",
       "      <td>-9</td>\n",
       "      <td>...</td>\n",
       "      <td>0</td>\n",
       "      <td>0</td>\n",
       "      <td>0</td>\n",
       "      <td>0</td>\n",
       "      <td>-7</td>\n",
       "      <td>-7</td>\n",
       "      <td>0</td>\n",
       "      <td>0</td>\n",
       "      <td>4</td>\n",
       "      <td>1</td>\n",
       "    </tr>\n",
       "  </tbody>\n",
       "</table>\n",
       "<p>1 rows × 93 columns</p>\n",
       "</div>"
      ],
      "text/plain": [
       "       VYEAR  VMONTH  VDAYR  AGE  ARRTIME  WAITTIME  LOV  RESIDNCE  SEX  \\\n",
       "20771   2009       5      2   29      113        12   43         1    1   \n",
       "\n",
       "       ETHUN ...   ADMITHOS  OBSHOS  OBSDIS  OTHDISP  ADMIT  HDSTAT  BDATEFL  \\\n",
       "20771     -9 ...          0       0       0        0     -7      -7        0   \n",
       "\n",
       "       IMMEDRFL  REGION  MSA  \n",
       "20771         0       4    1  \n",
       "\n",
       "[1 rows x 93 columns]"
      ]
     },
     "execution_count": 19,
     "metadata": {},
     "output_type": "execute_result"
    }
   ],
   "source": [
    "#getting one record from the input file, as an example\n",
    "record_index = random.randint(0,len(cdc_file))\n",
    "sample_record = cdc_file.iloc[[record_index]]\n",
    "sample_record.head()"
   ]
  },
  {
   "cell_type": "markdown",
   "metadata": {},
   "source": [
    "##  Read models "
   ]
  },
  {
   "cell_type": "code",
   "execution_count": 4,
   "metadata": {
    "collapsed": false
   },
   "outputs": [
    {
     "data": {
      "text/plain": [
       "{u'co_model': u'../../models/cdc_2009_nn_att_text_embedding.H5',\n",
       " u'max_text_length': u'../../models/cdc_2009_att_text_max_length.pickle',\n",
       " u'rss_model': u'../../models/cdc_rss_2009_nn_att_text_embedding.H5',\n",
       " u'tokenizer': u'../../models/cdc_2009_att_text_tokenizer.pickle'}"
      ]
     },
     "execution_count": 4,
     "metadata": {},
     "output_type": "execute_result"
    }
   ],
   "source": [
    "with open('../../modelConfig.json') as config_file:    \n",
    "        modelConfig = json.load(config_file)\n",
    "        \n",
    "modelConfig"
   ]
  },
  {
   "cell_type": "markdown",
   "metadata": {},
   "source": [
    "## Thresholds"
   ]
  },
  {
   "cell_type": "code",
   "execution_count": 30,
   "metadata": {
    "collapsed": false
   },
   "outputs": [
    {
     "data": {
      "text/plain": [
       "{u'esi1_threshold': 0.8709694147109985,\n",
       " u'esi2_threshold': 0.7043555974960327,\n",
       " u'rss_threshold': 0.35}"
      ]
     },
     "execution_count": 30,
     "metadata": {},
     "output_type": "execute_result"
    }
   ],
   "source": [
    "fileESIThreshold_location = fileConfig['dataDirectory'] + fileConfig['resultDirectory'] + 'esi_thresholds.json'  \n",
    "with open(fileESIThreshold_location) as config_file:    \n",
    "        thresholdsConfig = json.load(config_file)\n",
    "thresholdsConfig"
   ]
  },
  {
   "cell_type": "markdown",
   "metadata": {},
   "source": [
    "## Pass data to predictor"
   ]
  },
  {
   "cell_type": "code",
   "execution_count": 31,
   "metadata": {
    "collapsed": true
   },
   "outputs": [],
   "source": [
    "json_data = sample_record.to_json(orient='records')"
   ]
  },
  {
   "cell_type": "code",
   "execution_count": 41,
   "metadata": {
    "collapsed": false
   },
   "outputs": [
    {
     "name": "stdout",
     "output_type": "stream",
     "text": [
      "Creating text for embeddings\n"
     ]
    }
   ],
   "source": [
    "reload(predictor)\n",
    "att_top = 15\n",
    "output = predictor.predict(modelConfig,thresholdsConfig, json_data, att_top)\n"
   ]
  },
  {
   "cell_type": "code",
   "execution_count": 42,
   "metadata": {
    "collapsed": false
   },
   "outputs": [
    {
     "name": "stdout",
     "output_type": "stream",
     "text": [
      "{\"co\": 0.03636800870299339, \"rss\": [2.0], \"esi\": [3], \"co_fi\": [{\"input_value\": \"1\", \"featureName\": \"Age_18_30_range\", \"attention_weight\": 0.02348059043288231}, {\"input_value\": \"1\", \"featureName\": \"Reason_Headache\", \"attention_weight\": 0.021987175568938255}, {\"input_value\": \"2: NOT by ambulance\", \"featureName\": \"arrival_model\", \"attention_weight\": 0.021039826795458794}, {\"input_value\": \"1\", \"featureName\": \"Reason_Nausea_Vomiting\", \"attention_weight\": 0.020192431285977364}, {\"input_value\": \"12100: \", \"featureName\": \"reason1_for_visit\", \"attention_weight\": 0.019270701333880424}, {\"input_value\": \"13050: \", \"featureName\": \"reason2_for_visit\", \"attention_weight\": 0.017268406227231026}, {\"input_value\": \"0\", \"featureName\": \"chf_indicator\", \"attention_weight\": 0.016634879633784294}, {\"input_value\": \"1\", \"featureName\": \"Reason_Ears_Eyes_Complaint\", \"attention_weight\": 0.01516253873705864}, {\"input_value\": \"0\", \"featureName\": \"Age_81_Above\", \"attention_weight\": 0.014577841386198997}, {\"input_value\": \"0\", \"featureName\": \"Reason_Shortness_of_Breath\", \"attention_weight\": 0.013934645801782608}, {\"input_value\": \"15300: \", \"featureName\": \"reason3_for_visit\", \"attention_weight\": 0.012361633591353893}, {\"input_value\": \"0\", \"featureName\": \"Reason_Musculoskeletal_Other\", \"attention_weight\": 0.011746834963560104}, {\"input_value\": \"0\", \"featureName\": \"Reason_Gastrointestinal_Other\", \"attention_weight\": 0.010909815318882465}, {\"input_value\": \"0\", \"featureName\": \"Age_31_40_range\", \"attention_weight\": 0.010194435715675354}, {\"input_value\": \"29\", \"featureName\": \"Age\", \"attention_weight\": 0.010008690878748894}], \"word_heat\": {\"pos_2\": {\"0\": \"s\", \"1\": \"0.00652982\", \"2\": \" \"}, \"pos_3\": {\"0\": \"s\", \"1\": \"0.00652982\", \"2\": \" \"}, \"pos_1\": {\"0\": \"other\", \"1\": \"0.00813137\", \"2\": \" \"}, \"pos_6\": {\"0\": \"s\", \"1\": \"0.00652982\", \"2\": \" \"}, \"pos_7\": {\"0\": \"other\", \"1\": \"0.00813137\", \"2\": \" \"}, \"pos_4\": {\"0\": \"other\", \"1\": \"0.00813137\", \"2\": \" \"}, \"pos_5\": {\"0\": \"s\", \"1\": \"0.00652982\", \"2\": \" \"}}, \"rss_fi\": [{\"input_value\": \"1\", \"featureName\": \"Reason_Headache\", \"attention_weight\": 0.025807706639170647}, {\"input_value\": \"1\", \"featureName\": \"Reason_Nausea_Vomiting\", \"attention_weight\": 0.02565689943730831}, {\"input_value\": \"1\", \"featureName\": \"Age_18_30_range\", \"attention_weight\": 0.025597605854272842}, {\"input_value\": \"1\", \"featureName\": \"Reason_Ears_Eyes_Complaint\", \"attention_weight\": 0.025536082684993744}, {\"input_value\": \"12100: \", \"featureName\": \"reason1_for_visit\", \"attention_weight\": 0.0250934399664402}, {\"input_value\": \"13050: \", \"featureName\": \"reason2_for_visit\", \"attention_weight\": 0.02480442076921463}, {\"input_value\": \"0\", \"featureName\": \"Reason_Gastrointestinal_Other\", \"attention_weight\": 0.014120925217866898}, {\"input_value\": \"15300: \", \"featureName\": \"reason3_for_visit\", \"attention_weight\": 0.012964417226612568}, {\"input_value\": \"0\", \"featureName\": \"Reason_Injury_Poisoning\", \"attention_weight\": 0.0099616888910532}, {\"input_value\": \"1\", \"featureName\": \"Severe_Hypoxia\", \"attention_weight\": 0.009559493511915207}, {\"input_value\": \"0\", \"featureName\": \"Reason_Genitourinary_Other\", \"attention_weight\": 0.009377686306834221}, {\"input_value\": \"2: NOT by ambulance\", \"featureName\": \"arrival_model\", \"attention_weight\": 0.008723183535039425}, {\"input_value\": \"29\", \"featureName\": \"Age\", \"attention_weight\": 0.00836941972374916}, {\"input_value\": \"0\", \"featureName\": \"Reason_Shortness_of_Breath\", \"attention_weight\": 0.008264131844043732}, {\"input_value\": \"0\", \"featureName\": \"chf_indicator\", \"attention_weight\": 0.007815168239176273}]}\n"
     ]
    }
   ],
   "source": [
    "print(output)"
   ]
  }
 ],
 "metadata": {
  "kernelspec": {
   "display_name": "Python 2",
   "language": "python",
   "name": "python2"
  },
  "language_info": {
   "codemirror_mode": {
    "name": "ipython",
    "version": 2
   },
   "file_extension": ".py",
   "mimetype": "text/x-python",
   "name": "python",
   "nbconvert_exporter": "python",
   "pygments_lexer": "ipython2",
   "version": "2.7.14"
  }
 },
 "nbformat": 4,
 "nbformat_minor": 2
}
