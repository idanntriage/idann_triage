{
 "cells": [
  {
   "cell_type": "code",
   "execution_count": 3,
   "metadata": {
    "collapsed": false
   },
   "outputs": [],
   "source": [
    "import pandas as pd\n",
    "import numpy as np\n",
    "import random\n",
    "import pickle\n",
    "import sys\n",
    "from keras.models import load_model\n",
    "from keras import backend\n",
    "\n",
    "\n",
    "\n",
    "sys.path.append(\"../../src/features\")\n",
    "import build_features\n",
    "import RFV_text_vectorizing\n",
    "sys.path.append(\"../../src/models/train_model\")\n",
    "import NN_VE_model\n",
    "sys.path.append(\"../../src/models/predict_model\")\n",
    "import predictor\n",
    "\n",
    "\n",
    "pd.options.mode.chained_assignment = None  # default='warn'\n",
    "pd.set_option('display.max_rows', None)\n",
    "pd.options.display.max_columns = None"
   ]
  },
  {
   "cell_type": "markdown",
   "metadata": {},
   "source": [
    "##  Read models and data"
   ]
  },
  {
   "cell_type": "code",
   "execution_count": 4,
   "metadata": {
    "collapsed": true
   },
   "outputs": [],
   "source": [
    "# read tokenization values\n",
    "with open(\"../../models/cdc_2009_att_text_tokenizer.pickle\", \"rb\") as f:\n",
    "    tokenizer = pickle.load(f)\n",
    "with open(\"../../models/cdc_2009_att_text_max_length.pickle\", \"rb\") as f:\n",
    "    max_seq_length= pickle.load(f) \n",
    "with open(\"../../models/cdc_2009_att_text_vocabulary.pickle\", \"rb\") as f:\n",
    "    vocabulary= pickle.load(f) "
   ]
  },
  {
   "cell_type": "code",
   "execution_count": 5,
   "metadata": {
    "collapsed": false
   },
   "outputs": [
    {
     "name": "stderr",
     "output_type": "stream",
     "text": [
      "/home/zenobiosky/anaconda2/lib/python2.7/site-packages/keras/engine/topology.py:1269: UserWarning: The `Merge` layer is deprecated and will be removed after 08/2017. Use instead layers from `keras.layers.merge`, e.g. `add`, `concatenate`, etc.\n",
      "  return cls(**config)\n"
     ]
    }
   ],
   "source": [
    "# read model\n",
    "cdc_model = load_model('../../models/cdc_2009_nn_att_text_embedding.H5',custom_objects={'backend': backend})\n",
    "#cdc_model.summary()\n",
    "# read model\n",
    "rss_model = load_model('../../models/cdc_rss_2009_nn_att_text_embedding.H5',custom_objects={'backend': backend})\n",
    "#cdc_model.summary()"
   ]
  },
  {
   "cell_type": "code",
   "execution_count": 6,
   "metadata": {
    "collapsed": true
   },
   "outputs": [],
   "source": [
    "# records with vital signs = -9 had been removed from this file, for demo purposes\n",
    "fileName = '../../data/processed/FOR_PREDICTIONS_2009.csv'\n",
    "cdc_file = pd.read_csv(fileName)\n"
   ]
  },
  {
   "cell_type": "code",
   "execution_count": 7,
   "metadata": {
    "collapsed": false
   },
   "outputs": [
    {
     "data": {
      "text/html": [
       "<div>\n",
       "<table border=\"1\" class=\"dataframe\">\n",
       "  <thead>\n",
       "    <tr style=\"text-align: right;\">\n",
       "      <th></th>\n",
       "      <th>VYEAR</th>\n",
       "      <th>VMONTH</th>\n",
       "      <th>VDAYR</th>\n",
       "      <th>AGE</th>\n",
       "      <th>ARRTIME</th>\n",
       "      <th>WAITTIME</th>\n",
       "      <th>LOV</th>\n",
       "      <th>RESIDNCE</th>\n",
       "      <th>SEX</th>\n",
       "      <th>ETHUN</th>\n",
       "      <th>RACEUN</th>\n",
       "      <th>ARREMS</th>\n",
       "      <th>TEMPF</th>\n",
       "      <th>PULSE</th>\n",
       "      <th>RESPR</th>\n",
       "      <th>BPSYS</th>\n",
       "      <th>BPDIAS</th>\n",
       "      <th>POPCT</th>\n",
       "      <th>ONO2</th>\n",
       "      <th>GCS</th>\n",
       "      <th>IMMEDR</th>\n",
       "      <th>PAIN</th>\n",
       "      <th>SEEN72</th>\n",
       "      <th>RFV1</th>\n",
       "      <th>RFV2</th>\n",
       "      <th>RFV3</th>\n",
       "      <th>EPISODE</th>\n",
       "      <th>INJURY</th>\n",
       "      <th>CHF</th>\n",
       "      <th>DIABETES</th>\n",
       "      <th>LEFTBMSE</th>\n",
       "      <th>LEFTAMSE</th>\n",
       "      <th>LEFTAMA</th>\n",
       "      <th>DOA</th>\n",
       "      <th>DIEDED</th>\n",
       "      <th>TRANPSYC</th>\n",
       "      <th>TRANOTH</th>\n",
       "      <th>ADMITHOS</th>\n",
       "      <th>OBSHOS</th>\n",
       "      <th>OBSDIS</th>\n",
       "      <th>OTHDISP</th>\n",
       "      <th>ADMIT</th>\n",
       "      <th>HDSTAT</th>\n",
       "      <th>BDATEFL</th>\n",
       "      <th>IMMEDRFL</th>\n",
       "      <th>REGION</th>\n",
       "      <th>MSA</th>\n",
       "    </tr>\n",
       "  </thead>\n",
       "  <tbody>\n",
       "    <tr>\n",
       "      <th>19147</th>\n",
       "      <td>2009</td>\n",
       "      <td>1</td>\n",
       "      <td>6</td>\n",
       "      <td>18</td>\n",
       "      <td>1513</td>\n",
       "      <td>137</td>\n",
       "      <td>226</td>\n",
       "      <td>1</td>\n",
       "      <td>1</td>\n",
       "      <td>-9</td>\n",
       "      <td>-9</td>\n",
       "      <td>-8</td>\n",
       "      <td>990</td>\n",
       "      <td>82</td>\n",
       "      <td>20</td>\n",
       "      <td>121</td>\n",
       "      <td>84</td>\n",
       "      <td>99</td>\n",
       "      <td>-8</td>\n",
       "      <td>-9</td>\n",
       "      <td>5</td>\n",
       "      <td>0</td>\n",
       "      <td>-8</td>\n",
       "      <td>14450</td>\n",
       "      <td>-9</td>\n",
       "      <td>-9</td>\n",
       "      <td>1</td>\n",
       "      <td>0</td>\n",
       "      <td>0</td>\n",
       "      <td>0</td>\n",
       "      <td>0</td>\n",
       "      <td>0</td>\n",
       "      <td>0</td>\n",
       "      <td>0</td>\n",
       "      <td>0</td>\n",
       "      <td>0</td>\n",
       "      <td>0</td>\n",
       "      <td>0</td>\n",
       "      <td>0</td>\n",
       "      <td>0</td>\n",
       "      <td>0</td>\n",
       "      <td>-7</td>\n",
       "      <td>-7</td>\n",
       "      <td>0</td>\n",
       "      <td>0</td>\n",
       "      <td>3</td>\n",
       "      <td>1</td>\n",
       "    </tr>\n",
       "  </tbody>\n",
       "</table>\n",
       "</div>"
      ],
      "text/plain": [
       "       VYEAR  VMONTH  VDAYR  AGE  ARRTIME  WAITTIME  LOV  RESIDNCE  SEX  \\\n",
       "19147   2009       1      6   18     1513       137  226         1    1   \n",
       "\n",
       "       ETHUN  RACEUN  ARREMS  TEMPF  PULSE  RESPR  BPSYS  BPDIAS  POPCT  ONO2  \\\n",
       "19147     -9      -9      -8    990     82     20    121      84     99    -8   \n",
       "\n",
       "       GCS  IMMEDR  PAIN  SEEN72   RFV1  RFV2  RFV3  EPISODE  INJURY  CHF  \\\n",
       "19147   -9       5     0      -8  14450    -9    -9        1       0    0   \n",
       "\n",
       "       DIABETES  LEFTBMSE  LEFTAMSE  LEFTAMA  DOA  DIEDED  TRANPSYC  TRANOTH  \\\n",
       "19147         0         0         0        0    0       0         0        0   \n",
       "\n",
       "       ADMITHOS  OBSHOS  OBSDIS  OTHDISP  ADMIT  HDSTAT  BDATEFL  IMMEDRFL  \\\n",
       "19147         0       0       0        0     -7      -7        0         0   \n",
       "\n",
       "       REGION  MSA  \n",
       "19147       3    1  "
      ]
     },
     "execution_count": 7,
     "metadata": {},
     "output_type": "execute_result"
    }
   ],
   "source": [
    "#getting one record from the input file, as an example\n",
    "record_index = random.randint(0,len(cdc_file))\n",
    "sample_record = cdc_file.iloc[[record_index]]\n",
    "sample_record.head()"
   ]
  },
  {
   "cell_type": "markdown",
   "metadata": {},
   "source": [
    "## Pass data to predictor"
   ]
  },
  {
   "cell_type": "code",
   "execution_count": 8,
   "metadata": {
    "collapsed": true
   },
   "outputs": [],
   "source": [
    "json_data = sample_record.to_json(orient='records')"
   ]
  },
  {
   "cell_type": "code",
   "execution_count": 9,
   "metadata": {
    "collapsed": false
   },
   "outputs": [
    {
     "name": "stdout",
     "output_type": "stream",
     "text": [
      "Creating text for embeddings\n"
     ]
    }
   ],
   "source": [
    "reload(predictor)\n",
    "output = predictor.predict(json_data, tokenizer, max_seq_length, vocabulary, cdc_model, rss_model)\n"
   ]
  },
  {
   "cell_type": "code",
   "execution_count": 10,
   "metadata": {
    "collapsed": false
   },
   "outputs": [
    {
     "name": "stdout",
     "output_type": "stream",
     "text": [
      "{\"co\": 0.054508499801158905, \"rss\": 0, \"esi\": 5, \"co_fi\": [{\"input_value\": \"1\", \"featureName\": \"Age_18_30_range\", \"attention_weight\": 0.025005146861076355}, {\"input_value\": null, \"featureName\": \"reason2_for_visit\", \"attention_weight\": 0.017827056348323822}, {\"input_value\": \"1\", \"featureName\": \"Reason_Respiratory_Other\", \"attention_weight\": 0.015303058549761772}, {\"input_value\": \"0\", \"featureName\": \"Reason_Musculoskeletal_Other\", \"attention_weight\": 0.014030208811163902}, {\"input_value\": \"14450: \", \"featureName\": \"reason1_for_visit\", \"attention_weight\": 0.014004033990204334}, {\"input_value\": \"0\", \"featureName\": \"Reason_Shortness_of_Breath\", \"attention_weight\": 0.013221587985754013}, {\"input_value\": \"0\", \"featureName\": \"chf_indicator\", \"attention_weight\": 0.013051443733274937}, {\"input_value\": \"-8: NOT by ambulance\", \"featureName\": \"arrival_model\", \"attention_weight\": 0.01235964149236679}, {\"input_value\": \"1\", \"featureName\": \"Moderate_Tachypnea\", \"attention_weight\": 0.012284191325306892}, {\"input_value\": \"0\", \"featureName\": \"Age_81_Above\", \"attention_weight\": 0.011985613964498043}, {\"input_value\": \"0\", \"featureName\": \"Age_61_70_range\", \"attention_weight\": 0.010766776278614998}, {\"input_value\": \"0\", \"featureName\": \"Age_31_40_range\", \"attention_weight\": 0.010628491640090942}, {\"input_value\": \"0\", \"featureName\": \"Age_71_80_range\", \"attention_weight\": 0.010517174378037453}, {\"input_value\": \"1: female\", \"featureName\": \"sex_indicator\", \"attention_weight\": 0.010286896489560604}, {\"input_value\": \"18\", \"featureName\": \"Age\", \"attention_weight\": 0.009971112944185734}], \"word_heat\": {\"pos_1\": {\"0\": \"other\", \"1\": \"0.0106605\", \"2\": \"*\"}}, \"rss_fi\": [{\"input_value\": \"14450: \", \"featureName\": \"reason1_for_visit\", \"attention_weight\": 0.02682262659072876}, {\"input_value\": \"1\", \"featureName\": \"Reason_Respiratory_Other\", \"attention_weight\": 0.026648081839084625}, {\"input_value\": \"1\", \"featureName\": \"Age_18_30_range\", \"attention_weight\": 0.02402944676578045}, {\"input_value\": \"0\", \"featureName\": \"Reason_Musculoskeletal_Other\", \"attention_weight\": 0.02182476967573166}, {\"input_value\": \"-8: NOT by ambulance\", \"featureName\": \"arrival_model\", \"attention_weight\": 0.01919880509376526}, {\"input_value\": null, \"featureName\": \"reason2_for_visit\", \"attention_weight\": 0.016470495611429214}, {\"input_value\": \"0\", \"featureName\": \"Reason_Injury_Poisoning\", \"attention_weight\": 0.01510368101298809}, {\"input_value\": \"0\", \"featureName\": \"Reason_Gastrointestinal_Other\", \"attention_weight\": 0.01209162175655365}, {\"input_value\": \"18\", \"featureName\": \"Age\", \"attention_weight\": 0.010599912144243717}, {\"input_value\": \"1\", \"featureName\": \"Moderate_Tachypnea\", \"attention_weight\": 0.009983325377106667}, {\"input_value\": null, \"featureName\": \"reason3_for_visit\", \"attention_weight\": 0.008881761692464352}, {\"input_value\": \"0\", \"featureName\": \"Reason_Skin_Hair_Nails_Complaint\", \"attention_weight\": 0.007308065891265869}, {\"input_value\": \"99\", \"featureName\": \"Oxygen_Saturation\", \"attention_weight\": 0.007238032761961222}, {\"input_value\": \"0\", \"featureName\": \"Age_81_Above\", \"attention_weight\": 0.007140721194446087}, {\"input_value\": \"0\", \"featureName\": \"Reason_Nausea_Vomiting\", \"attention_weight\": 0.007059597410261631}]}\n"
     ]
    }
   ],
   "source": [
    "print(output)"
   ]
  }
 ],
 "metadata": {
  "kernelspec": {
   "display_name": "Python 2",
   "language": "python",
   "name": "python2"
  },
  "language_info": {
   "codemirror_mode": {
    "name": "ipython",
    "version": 2
   },
   "file_extension": ".py",
   "mimetype": "text/x-python",
   "name": "python",
   "nbconvert_exporter": "python",
   "pygments_lexer": "ipython2",
   "version": "2.7.14"
  }
 },
 "nbformat": 4,
 "nbformat_minor": 2
}
