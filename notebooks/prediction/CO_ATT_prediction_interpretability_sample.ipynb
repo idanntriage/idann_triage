{
 "cells": [
  {
   "cell_type": "code",
   "execution_count": 10,
   "metadata": {
    "collapsed": false
   },
   "outputs": [],
   "source": [
    "import pandas as pd\n",
    "import numpy as np\n",
    "import random\n",
    "import pickle\n",
    "import sys\n",
    "from keras.models import load_model\n",
    "from keras import backend\n",
    "import json \n",
    "\n",
    "sys.path.append(\"../../src/models/predict_model\")\n",
    "import predictor\n",
    "sys.path.append(\"../../src/data\")\n",
    "import exclusionCriteria\n",
    "pd.options.mode.chained_assignment = None  # default='warn'"
   ]
  },
  {
   "cell_type": "markdown",
   "metadata": {},
   "source": [
    "## Get one record for a sample prediction"
   ]
  },
  {
   "cell_type": "code",
   "execution_count": 4,
   "metadata": {
    "collapsed": true
   },
   "outputs": [],
   "source": [
    "fileName = 'ED_TOTAL_2010_2010.csv'\n",
    "with open('../../fileConfig.json') as config_file:    \n",
    "        fileConfig = json.load(config_file)\n",
    "fileLocation = fileConfig['dataDirectory'] + fileConfig['processedDirectory'] + fileName\n",
    "cdc_file = pd.read_csv(fileLocation)    "
   ]
  },
  {
   "cell_type": "code",
   "execution_count": 5,
   "metadata": {
    "collapsed": true
   },
   "outputs": [],
   "source": [
    "# records with vital signs = -9 are filtered out for demo purposes\n",
    "# todo: resolve records with missing data \n",
    "reload(exclusionCriteria)\n",
    "cdc_file = exclusionCriteria.filter_out_records_na(cdc_file)"
   ]
  },
  {
   "cell_type": "code",
   "execution_count": 32,
   "metadata": {
    "collapsed": false
   },
   "outputs": [
    {
     "data": {
      "text/html": [
       "<div>\n",
       "<table border=\"1\" class=\"dataframe\">\n",
       "  <thead>\n",
       "    <tr style=\"text-align: right;\">\n",
       "      <th></th>\n",
       "      <th>VYEAR</th>\n",
       "      <th>VMONTH</th>\n",
       "      <th>VDAYR</th>\n",
       "      <th>AGE</th>\n",
       "      <th>ARRTIME</th>\n",
       "      <th>WAITTIME</th>\n",
       "      <th>LOV</th>\n",
       "      <th>RESIDNCE</th>\n",
       "      <th>SEX</th>\n",
       "      <th>ETHUN</th>\n",
       "      <th>...</th>\n",
       "      <th>ADMITHOS</th>\n",
       "      <th>OBSHOS</th>\n",
       "      <th>OBSDIS</th>\n",
       "      <th>OTHDISP</th>\n",
       "      <th>ADMIT</th>\n",
       "      <th>HDSTAT</th>\n",
       "      <th>BDATEFL</th>\n",
       "      <th>IMMEDRFL</th>\n",
       "      <th>REGION</th>\n",
       "      <th>MSA</th>\n",
       "    </tr>\n",
       "  </thead>\n",
       "  <tbody>\n",
       "    <tr>\n",
       "      <th>21692</th>\n",
       "      <td>2010</td>\n",
       "      <td>9</td>\n",
       "      <td>7</td>\n",
       "      <td>79</td>\n",
       "      <td>1307</td>\n",
       "      <td>128</td>\n",
       "      <td>338</td>\n",
       "      <td>1</td>\n",
       "      <td>2</td>\n",
       "      <td>2</td>\n",
       "      <td>...</td>\n",
       "      <td>1</td>\n",
       "      <td>0</td>\n",
       "      <td>0</td>\n",
       "      <td>0</td>\n",
       "      <td>6</td>\n",
       "      <td>1</td>\n",
       "      <td>0</td>\n",
       "      <td>0</td>\n",
       "      <td>1</td>\n",
       "      <td>1</td>\n",
       "    </tr>\n",
       "  </tbody>\n",
       "</table>\n",
       "<p>1 rows × 93 columns</p>\n",
       "</div>"
      ],
      "text/plain": [
       "       VYEAR  VMONTH  VDAYR  AGE  ARRTIME  WAITTIME  LOV  RESIDNCE  SEX  \\\n",
       "21692   2010       9      7   79     1307       128  338         1    2   \n",
       "\n",
       "       ETHUN ...   ADMITHOS  OBSHOS  OBSDIS  OTHDISP  ADMIT  HDSTAT  BDATEFL  \\\n",
       "21692      2 ...          1       0       0        0      6       1        0   \n",
       "\n",
       "       IMMEDRFL  REGION  MSA  \n",
       "21692         0       1    1  \n",
       "\n",
       "[1 rows x 93 columns]"
      ]
     },
     "execution_count": 32,
     "metadata": {},
     "output_type": "execute_result"
    }
   ],
   "source": [
    "#getting one record from the input file, as an example\n",
    "record_index = random.randint(0,len(cdc_file))\n",
    "sample_record = cdc_file.iloc[[record_index]]\n",
    "sample_record.head()"
   ]
  },
  {
   "cell_type": "markdown",
   "metadata": {},
   "source": [
    "## Thresholds and Model Configuration"
   ]
  },
  {
   "cell_type": "code",
   "execution_count": 7,
   "metadata": {
    "collapsed": false
   },
   "outputs": [
    {
     "data": {
      "text/plain": [
       "{u'esi1_threshold': 0.8709694147109985,\n",
       " u'esi2_threshold': 0.7043555974960327,\n",
       " u'rss_threshold': 0.35}"
      ]
     },
     "execution_count": 7,
     "metadata": {},
     "output_type": "execute_result"
    }
   ],
   "source": [
    "fileESIThreshold_location = fileConfig['dataDirectory'] + fileConfig['resultDirectory'] + 'esi_thresholds.json'  \n",
    "with open(fileESIThreshold_location) as config_file:    \n",
    "        thresholdsConfig = json.load(config_file)\n",
    "thresholdsConfig"
   ]
  },
  {
   "cell_type": "code",
   "execution_count": 8,
   "metadata": {
    "collapsed": false
   },
   "outputs": [
    {
     "data": {
      "text/plain": [
       "{u'co_model': u'../../models/cdc_2009_nn_att_text_embedding.H5',\n",
       " u'max_text_length': u'../../models/cdc_2009_att_text_max_length.pickle',\n",
       " u'rss_model': u'../../models/cdc_rss_2009_nn_att_text_embedding.H5',\n",
       " u'tokenizer': u'../../models/cdc_2009_att_text_tokenizer.pickle'}"
      ]
     },
     "execution_count": 8,
     "metadata": {},
     "output_type": "execute_result"
    }
   ],
   "source": [
    "with open('../../modelConfig.json') as config_file:    \n",
    "        modelConfig = json.load(config_file)\n",
    "        \n",
    "modelConfig"
   ]
  },
  {
   "cell_type": "markdown",
   "metadata": {
    "collapsed": true
   },
   "source": [
    "## Predict and pull attention relative weights for Model Interpretability"
   ]
  },
  {
   "cell_type": "code",
   "execution_count": 33,
   "metadata": {
    "collapsed": false
   },
   "outputs": [
    {
     "name": "stdout",
     "output_type": "stream",
     "text": [
      "Creating text for embeddings\n"
     ]
    }
   ],
   "source": [
    "reload(predictor)\n",
    "att_top = 15\n",
    "co_pred, pred_rss, pred_esi, co_feature_importance, co_word_heat_map, rss_feature_importance, rss_word_heat_map = \\\n",
    "predictor.predict_and_get_att(modelConfig,thresholdsConfig,  att_top, sample_record)"
   ]
  },
  {
   "cell_type": "code",
   "execution_count": 34,
   "metadata": {
    "collapsed": false
   },
   "outputs": [
    {
     "name": "stdout",
     "output_type": "stream",
     "text": [
      "y_pred:  [ 0.81400979]\n"
     ]
    },
    {
     "data": {
      "text/html": [
       "<div>\n",
       "<table border=\"1\" class=\"dataframe\">\n",
       "  <thead>\n",
       "    <tr style=\"text-align: right;\">\n",
       "      <th></th>\n",
       "      <th>attention_weight</th>\n",
       "      <th>featureName</th>\n",
       "      <th>input_value</th>\n",
       "    </tr>\n",
       "  </thead>\n",
       "  <tbody>\n",
       "    <tr>\n",
       "      <th>21</th>\n",
       "      <td>0.022847</td>\n",
       "      <td>Severe_Tachypnea</td>\n",
       "      <td>1</td>\n",
       "    </tr>\n",
       "    <tr>\n",
       "      <th>27</th>\n",
       "      <td>0.022632</td>\n",
       "      <td>Reason_Shortness_of_Breath</td>\n",
       "      <td>1</td>\n",
       "    </tr>\n",
       "    <tr>\n",
       "      <th>49</th>\n",
       "      <td>0.021691</td>\n",
       "      <td>Age_71_80_range</td>\n",
       "      <td>1</td>\n",
       "    </tr>\n",
       "    <tr>\n",
       "      <th>1</th>\n",
       "      <td>0.020783</td>\n",
       "      <td>arrival_model</td>\n",
       "      <td>2: NOT by ambulance</td>\n",
       "    </tr>\n",
       "    <tr>\n",
       "      <th>41</th>\n",
       "      <td>0.020665</td>\n",
       "      <td>Reason_Musculoskeletal_Other</td>\n",
       "      <td>1</td>\n",
       "    </tr>\n",
       "    <tr>\n",
       "      <th>52</th>\n",
       "      <td>0.018637</td>\n",
       "      <td>reason2_for_visit</td>\n",
       "      <td>19201: leg pain ache soreness discomfort</td>\n",
       "    </tr>\n",
       "    <tr>\n",
       "      <th>3</th>\n",
       "      <td>0.016431</td>\n",
       "      <td>chf_indicator</td>\n",
       "      <td>0</td>\n",
       "    </tr>\n",
       "    <tr>\n",
       "      <th>50</th>\n",
       "      <td>0.014400</td>\n",
       "      <td>Age_81_Above</td>\n",
       "      <td>0</td>\n",
       "    </tr>\n",
       "    <tr>\n",
       "      <th>5</th>\n",
       "      <td>0.013086</td>\n",
       "      <td>Age</td>\n",
       "      <td>79</td>\n",
       "    </tr>\n",
       "    <tr>\n",
       "      <th>44</th>\n",
       "      <td>0.011641</td>\n",
       "      <td>Age_18_30_range</td>\n",
       "      <td>0</td>\n",
       "    </tr>\n",
       "    <tr>\n",
       "      <th>51</th>\n",
       "      <td>0.011066</td>\n",
       "      <td>reason1_for_visit</td>\n",
       "      <td>14150:</td>\n",
       "    </tr>\n",
       "    <tr>\n",
       "      <th>38</th>\n",
       "      <td>0.010776</td>\n",
       "      <td>Reason_Gastrointestinal_Other</td>\n",
       "      <td>0</td>\n",
       "    </tr>\n",
       "    <tr>\n",
       "      <th>45</th>\n",
       "      <td>0.010070</td>\n",
       "      <td>Age_31_40_range</td>\n",
       "      <td>0</td>\n",
       "    </tr>\n",
       "    <tr>\n",
       "      <th>53</th>\n",
       "      <td>0.009587</td>\n",
       "      <td>reason3_for_visit</td>\n",
       "      <td>None</td>\n",
       "    </tr>\n",
       "    <tr>\n",
       "      <th>16</th>\n",
       "      <td>0.008390</td>\n",
       "      <td>Severe_Tachycardia</td>\n",
       "      <td>0</td>\n",
       "    </tr>\n",
       "  </tbody>\n",
       "</table>\n",
       "</div>"
      ],
      "text/plain": [
       "    attention_weight                    featureName  \\\n",
       "21          0.022847               Severe_Tachypnea   \n",
       "27          0.022632     Reason_Shortness_of_Breath   \n",
       "49          0.021691                Age_71_80_range   \n",
       "1           0.020783                  arrival_model   \n",
       "41          0.020665   Reason_Musculoskeletal_Other   \n",
       "52          0.018637              reason2_for_visit   \n",
       "3           0.016431                  chf_indicator   \n",
       "50          0.014400                   Age_81_Above   \n",
       "5           0.013086                            Age   \n",
       "44          0.011641                Age_18_30_range   \n",
       "51          0.011066              reason1_for_visit   \n",
       "38          0.010776  Reason_Gastrointestinal_Other   \n",
       "45          0.010070                Age_31_40_range   \n",
       "53          0.009587              reason3_for_visit   \n",
       "16          0.008390             Severe_Tachycardia   \n",
       "\n",
       "                                 input_value  \n",
       "21                                         1  \n",
       "27                                         1  \n",
       "49                                         1  \n",
       "1                        2: NOT by ambulance  \n",
       "41                                         1  \n",
       "52  19201: leg pain ache soreness discomfort  \n",
       "3                                          0  \n",
       "50                                         0  \n",
       "5                                         79  \n",
       "44                                         0  \n",
       "51                                   14150:   \n",
       "38                                         0  \n",
       "45                                         0  \n",
       "53                                      None  \n",
       "16                                         0  "
      ]
     },
     "execution_count": 34,
     "metadata": {},
     "output_type": "execute_result"
    }
   ],
   "source": [
    "print 'y_pred: ' , co_pred\n",
    "co_feature_importance"
   ]
  },
  {
   "cell_type": "code",
   "execution_count": 35,
   "metadata": {
    "collapsed": false
   },
   "outputs": [
    {
     "data": {
      "text/html": [
       "<div>\n",
       "<table border=\"1\" class=\"dataframe\">\n",
       "  <thead>\n",
       "    <tr style=\"text-align: right;\">\n",
       "      <th></th>\n",
       "      <th>pos_1</th>\n",
       "      <th>pos_2</th>\n",
       "      <th>pos_3</th>\n",
       "      <th>pos_4</th>\n",
       "      <th>pos_5</th>\n",
       "      <th>pos_6</th>\n",
       "      <th>pos_7</th>\n",
       "      <th>pos_8</th>\n",
       "    </tr>\n",
       "  </thead>\n",
       "  <tbody>\n",
       "    <tr>\n",
       "      <th>0</th>\n",
       "      <td>other</td>\n",
       "      <td>s</td>\n",
       "      <td>s</td>\n",
       "      <td>leg</td>\n",
       "      <td>pain</td>\n",
       "      <td>ache</td>\n",
       "      <td>soreness</td>\n",
       "      <td>discomfort</td>\n",
       "    </tr>\n",
       "    <tr>\n",
       "      <th>1</th>\n",
       "      <td>0.00803195</td>\n",
       "      <td>0.00644998</td>\n",
       "      <td>0.00644998</td>\n",
       "      <td>0.0185813</td>\n",
       "      <td>0.00895517</td>\n",
       "      <td>0.00790624</td>\n",
       "      <td>0.00832402</td>\n",
       "      <td>0.00974253</td>\n",
       "    </tr>\n",
       "    <tr>\n",
       "      <th>2</th>\n",
       "      <td></td>\n",
       "      <td></td>\n",
       "      <td></td>\n",
       "      <td>*</td>\n",
       "      <td>*</td>\n",
       "      <td></td>\n",
       "      <td></td>\n",
       "      <td>*</td>\n",
       "    </tr>\n",
       "  </tbody>\n",
       "</table>\n",
       "</div>"
      ],
      "text/plain": [
       "        pos_1       pos_2       pos_3      pos_4       pos_5       pos_6  \\\n",
       "0       other           s           s        leg        pain        ache   \n",
       "1  0.00803195  0.00644998  0.00644998  0.0185813  0.00895517  0.00790624   \n",
       "2                                              *           *               \n",
       "\n",
       "        pos_7       pos_8  \n",
       "0    soreness  discomfort  \n",
       "1  0.00832402  0.00974253  \n",
       "2                       *  "
      ]
     },
     "execution_count": 35,
     "metadata": {},
     "output_type": "execute_result"
    }
   ],
   "source": [
    "co_word_heat_map"
   ]
  },
  {
   "cell_type": "code",
   "execution_count": null,
   "metadata": {
    "collapsed": true
   },
   "outputs": [],
   "source": []
  }
 ],
 "metadata": {
  "kernelspec": {
   "display_name": "Python 2",
   "language": "python",
   "name": "python2"
  },
  "language_info": {
   "codemirror_mode": {
    "name": "ipython",
    "version": 2
   },
   "file_extension": ".py",
   "mimetype": "text/x-python",
   "name": "python",
   "nbconvert_exporter": "python",
   "pygments_lexer": "ipython2",
   "version": "2.7.14"
  }
 },
 "nbformat": 4,
 "nbformat_minor": 2
}
