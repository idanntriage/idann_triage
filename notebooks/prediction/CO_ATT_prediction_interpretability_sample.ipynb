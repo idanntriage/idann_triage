{
 "cells": [
  {
   "cell_type": "code",
   "execution_count": 20,
   "metadata": {
    "collapsed": false
   },
   "outputs": [],
   "source": [
    "import pandas as pd\n",
    "import numpy as np\n",
    "import random\n",
    "import pickle\n",
    "import sys\n",
    "from keras.models import load_model\n",
    "from keras import backend\n",
    "import json \n",
    "\n",
    "sys.path.append(\"../../src/models/predict_model\")\n",
    "import predictor\n",
    "sys.path.append(\"../../src/data\")\n",
    "import exclusionCriteria"
   ]
  },
  {
   "cell_type": "markdown",
   "metadata": {},
   "source": [
    "## Get one record for a sample prediction"
   ]
  },
  {
   "cell_type": "code",
   "execution_count": 2,
   "metadata": {
    "collapsed": true
   },
   "outputs": [],
   "source": [
    "fileName = 'ED_TOTAL_2009_2009.csv'\n",
    "with open('../../fileConfig.json') as config_file:    \n",
    "        fileConfig = json.load(config_file)\n",
    "fileLocation = fileConfig['dataDirectory'] + fileConfig['processedDirectory'] + fileName\n",
    "cdc_file = pd.read_csv(fileLocation)    "
   ]
  },
  {
   "cell_type": "code",
   "execution_count": 3,
   "metadata": {
    "collapsed": true
   },
   "outputs": [],
   "source": [
    "# records with vital signs = -9 are filtered out for demo purposes\n",
    "# todo: resolve records with missing data \n",
    "reload(exclusionCriteria)\n",
    "cdc_file = exclusionCriteria.filter_out_records_na(cdc_file)"
   ]
  },
  {
   "cell_type": "code",
   "execution_count": 27,
   "metadata": {
    "collapsed": false
   },
   "outputs": [
    {
     "data": {
      "text/html": [
       "<div>\n",
       "<table border=\"1\" class=\"dataframe\">\n",
       "  <thead>\n",
       "    <tr style=\"text-align: right;\">\n",
       "      <th></th>\n",
       "      <th>VYEAR</th>\n",
       "      <th>VMONTH</th>\n",
       "      <th>VDAYR</th>\n",
       "      <th>AGE</th>\n",
       "      <th>ARRTIME</th>\n",
       "      <th>WAITTIME</th>\n",
       "      <th>LOV</th>\n",
       "      <th>RESIDNCE</th>\n",
       "      <th>SEX</th>\n",
       "      <th>ETHUN</th>\n",
       "      <th>...</th>\n",
       "      <th>Reason_Psychiatric_Complaint</th>\n",
       "      <th>Reason_Nervous_System</th>\n",
       "      <th>Reason_Cardiovascular_Other</th>\n",
       "      <th>Reason_Ears_Eyes_Complaint</th>\n",
       "      <th>Reason_Respiratory_Other</th>\n",
       "      <th>Reason_Gastrointestinal_Other</th>\n",
       "      <th>Reason_Genitourinary_Other</th>\n",
       "      <th>Reason_Skin_Hair_Nails_Complaint</th>\n",
       "      <th>Reason_Musculoskeletal_Other</th>\n",
       "      <th>Reason_Injury_Poisoning</th>\n",
       "    </tr>\n",
       "  </thead>\n",
       "  <tbody>\n",
       "    <tr>\n",
       "      <th>5222</th>\n",
       "      <td>2009</td>\n",
       "      <td>4</td>\n",
       "      <td>2</td>\n",
       "      <td>87</td>\n",
       "      <td>926</td>\n",
       "      <td>-9</td>\n",
       "      <td>-9</td>\n",
       "      <td>1</td>\n",
       "      <td>1</td>\n",
       "      <td>2</td>\n",
       "      <td>...</td>\n",
       "      <td>0</td>\n",
       "      <td>1</td>\n",
       "      <td>0</td>\n",
       "      <td>0</td>\n",
       "      <td>0</td>\n",
       "      <td>0</td>\n",
       "      <td>0</td>\n",
       "      <td>0</td>\n",
       "      <td>1</td>\n",
       "      <td>0</td>\n",
       "    </tr>\n",
       "  </tbody>\n",
       "</table>\n",
       "<p>1 rows × 118 columns</p>\n",
       "</div>"
      ],
      "text/plain": [
       "      VYEAR  VMONTH  VDAYR  AGE  ARRTIME  WAITTIME  LOV  RESIDNCE  SEX  ETHUN  \\\n",
       "5222   2009       4      2   87      926        -9   -9         1    1      2   \n",
       "\n",
       "               ...             Reason_Psychiatric_Complaint  \\\n",
       "5222           ...                                        0   \n",
       "\n",
       "      Reason_Nervous_System  Reason_Cardiovascular_Other  \\\n",
       "5222                      1                            0   \n",
       "\n",
       "      Reason_Ears_Eyes_Complaint  Reason_Respiratory_Other  \\\n",
       "5222                           0                         0   \n",
       "\n",
       "      Reason_Gastrointestinal_Other  Reason_Genitourinary_Other  \\\n",
       "5222                              0                           0   \n",
       "\n",
       "      Reason_Skin_Hair_Nails_Complaint  Reason_Musculoskeletal_Other  \\\n",
       "5222                                 0                             1   \n",
       "\n",
       "      Reason_Injury_Poisoning  \n",
       "5222                        0  \n",
       "\n",
       "[1 rows x 118 columns]"
      ]
     },
     "execution_count": 27,
     "metadata": {},
     "output_type": "execute_result"
    }
   ],
   "source": [
    "#getting one record from the input file, as an example\n",
    "record_index = random.randint(0,len(cdc_file))\n",
    "sample_record = cdc_file.iloc[[record_index]]\n",
    "sample_record.head()"
   ]
  },
  {
   "cell_type": "markdown",
   "metadata": {},
   "source": [
    "## Thresholds and Model Configuration"
   ]
  },
  {
   "cell_type": "code",
   "execution_count": 40,
   "metadata": {
    "collapsed": false
   },
   "outputs": [
    {
     "data": {
      "text/plain": [
       "{u'esi1_threshold': 0.8709694147109985,\n",
       " u'esi2_threshold': 0.7043555974960327,\n",
       " u'rss_threshold': 0.35}"
      ]
     },
     "execution_count": 40,
     "metadata": {},
     "output_type": "execute_result"
    }
   ],
   "source": [
    "fileESIThreshold_location = fileConfig['dataDirectory'] + fileConfig['resultDirectory'] + 'esi_thresholds.json'  \n",
    "with open(fileESIThreshold_location) as config_file:    \n",
    "        thresholdsConfig = json.load(config_file)\n",
    "thresholdsConfig"
   ]
  },
  {
   "cell_type": "code",
   "execution_count": 55,
   "metadata": {
    "collapsed": false
   },
   "outputs": [
    {
     "data": {
      "text/plain": [
       "{u'co_model': u'../../models/cdc_2009_nn_att_text_embedding.H5',\n",
       " u'max_text_length': u'../../models/cdc_2009_att_text_max_length.pickle',\n",
       " u'rss_model': u'../../models/cdc_rss_2009_nn_att_text_embedding.H5',\n",
       " u'tokenizer': u'../../models/cdc_2009_att_text_tokenizer.pickle'}"
      ]
     },
     "execution_count": 55,
     "metadata": {},
     "output_type": "execute_result"
    }
   ],
   "source": [
    "with open('../../modelConfig.json') as config_file:    \n",
    "        modelConfig = json.load(config_file)\n",
    "        \n",
    "modelConfig"
   ]
  },
  {
   "cell_type": "markdown",
   "metadata": {
    "collapsed": true
   },
   "source": [
    "## Predict and pull attention relative weights for Model Interpretability"
   ]
  },
  {
   "cell_type": "code",
   "execution_count": 51,
   "metadata": {
    "collapsed": false
   },
   "outputs": [
    {
     "name": "stdout",
     "output_type": "stream",
     "text": [
      "Creating text for embeddings\n"
     ]
    }
   ],
   "source": [
    "reload(predictor)\n",
    "att_top = 15\n",
    "co_pred, pred_rss, pred_esi, co_feature_importance, co_word_heat_map, rss_feature_importance, rss_word_heat_map = \\\n",
    "predictor.predict_and_get_att(modelConfig,thresholdsConfig,  att_top, sample_record)"
   ]
  },
  {
   "cell_type": "code",
   "execution_count": 53,
   "metadata": {
    "collapsed": false
   },
   "outputs": [
    {
     "name": "stdout",
     "output_type": "stream",
     "text": [
      "y_pred:  [ 0.86773646]\n"
     ]
    },
    {
     "data": {
      "text/html": [
       "<div>\n",
       "<table border=\"1\" class=\"dataframe\">\n",
       "  <thead>\n",
       "    <tr style=\"text-align: right;\">\n",
       "      <th></th>\n",
       "      <th>attention_weight</th>\n",
       "      <th>featureName</th>\n",
       "      <th>input_value</th>\n",
       "    </tr>\n",
       "  </thead>\n",
       "  <tbody>\n",
       "    <tr>\n",
       "      <th>3</th>\n",
       "      <td>0.022630</td>\n",
       "      <td>chf_indicator</td>\n",
       "      <td>1</td>\n",
       "    </tr>\n",
       "    <tr>\n",
       "      <th>50</th>\n",
       "      <td>0.020733</td>\n",
       "      <td>Age_81_Above</td>\n",
       "      <td>1</td>\n",
       "    </tr>\n",
       "    <tr>\n",
       "      <th>1</th>\n",
       "      <td>0.020246</td>\n",
       "      <td>arrival_model</td>\n",
       "      <td>2: NOT by ambulance</td>\n",
       "    </tr>\n",
       "    <tr>\n",
       "      <th>41</th>\n",
       "      <td>0.020132</td>\n",
       "      <td>Reason_Musculoskeletal_Other</td>\n",
       "      <td>1</td>\n",
       "    </tr>\n",
       "    <tr>\n",
       "      <th>51</th>\n",
       "      <td>0.020112</td>\n",
       "      <td>reason1_for_visit</td>\n",
       "      <td>12201:</td>\n",
       "    </tr>\n",
       "    <tr>\n",
       "      <th>20</th>\n",
       "      <td>0.018343</td>\n",
       "      <td>Moderate_Tachypnea</td>\n",
       "      <td>1</td>\n",
       "    </tr>\n",
       "    <tr>\n",
       "      <th>52</th>\n",
       "      <td>0.018215</td>\n",
       "      <td>reason2_for_visit</td>\n",
       "      <td>19200: leg symptoms</td>\n",
       "    </tr>\n",
       "    <tr>\n",
       "      <th>34</th>\n",
       "      <td>0.015176</td>\n",
       "      <td>Reason_Nervous_System</td>\n",
       "      <td>1</td>\n",
       "    </tr>\n",
       "    <tr>\n",
       "      <th>27</th>\n",
       "      <td>0.013409</td>\n",
       "      <td>Reason_Shortness_of_Breath</td>\n",
       "      <td>0</td>\n",
       "    </tr>\n",
       "    <tr>\n",
       "      <th>5</th>\n",
       "      <td>0.013264</td>\n",
       "      <td>Age</td>\n",
       "      <td>87</td>\n",
       "    </tr>\n",
       "    <tr>\n",
       "      <th>44</th>\n",
       "      <td>0.011341</td>\n",
       "      <td>Age_18_30_range</td>\n",
       "      <td>0</td>\n",
       "    </tr>\n",
       "    <tr>\n",
       "      <th>38</th>\n",
       "      <td>0.010498</td>\n",
       "      <td>Reason_Gastrointestinal_Other</td>\n",
       "      <td>0</td>\n",
       "    </tr>\n",
       "    <tr>\n",
       "      <th>45</th>\n",
       "      <td>0.009810</td>\n",
       "      <td>Age_31_40_range</td>\n",
       "      <td>0</td>\n",
       "    </tr>\n",
       "    <tr>\n",
       "      <th>53</th>\n",
       "      <td>0.009441</td>\n",
       "      <td>reason3_for_visit</td>\n",
       "      <td>10460: symptoms of the face nec mass</td>\n",
       "    </tr>\n",
       "    <tr>\n",
       "      <th>21</th>\n",
       "      <td>0.009101</td>\n",
       "      <td>Severe_Tachypnea</td>\n",
       "      <td>0</td>\n",
       "    </tr>\n",
       "  </tbody>\n",
       "</table>\n",
       "</div>"
      ],
      "text/plain": [
       "    attention_weight                    featureName  \\\n",
       "3           0.022630                  chf_indicator   \n",
       "50          0.020733                   Age_81_Above   \n",
       "1           0.020246                  arrival_model   \n",
       "41          0.020132   Reason_Musculoskeletal_Other   \n",
       "51          0.020112              reason1_for_visit   \n",
       "20          0.018343             Moderate_Tachypnea   \n",
       "52          0.018215              reason2_for_visit   \n",
       "34          0.015176          Reason_Nervous_System   \n",
       "27          0.013409     Reason_Shortness_of_Breath   \n",
       "5           0.013264                            Age   \n",
       "44          0.011341                Age_18_30_range   \n",
       "38          0.010498  Reason_Gastrointestinal_Other   \n",
       "45          0.009810                Age_31_40_range   \n",
       "53          0.009441              reason3_for_visit   \n",
       "21          0.009101               Severe_Tachypnea   \n",
       "\n",
       "                             input_value  \n",
       "3                                      1  \n",
       "50                                     1  \n",
       "1                    2: NOT by ambulance  \n",
       "41                                     1  \n",
       "51                               12201:   \n",
       "20                                     1  \n",
       "52                   19200: leg symptoms  \n",
       "34                                     1  \n",
       "27                                     0  \n",
       "5                                     87  \n",
       "44                                     0  \n",
       "38                                     0  \n",
       "45                                     0  \n",
       "53  10460: symptoms of the face nec mass  \n",
       "21                                     0  "
      ]
     },
     "execution_count": 53,
     "metadata": {},
     "output_type": "execute_result"
    }
   ],
   "source": [
    "print 'y_pred: ' , co_pred\n",
    "co_feature_importance"
   ]
  },
  {
   "cell_type": "code",
   "execution_count": 54,
   "metadata": {
    "collapsed": false
   },
   "outputs": [
    {
     "data": {
      "text/html": [
       "<div>\n",
       "<table border=\"1\" class=\"dataframe\">\n",
       "  <thead>\n",
       "    <tr style=\"text-align: right;\">\n",
       "      <th></th>\n",
       "      <th>pos_1</th>\n",
       "      <th>pos_2</th>\n",
       "      <th>pos_3</th>\n",
       "      <th>pos_4</th>\n",
       "      <th>pos_5</th>\n",
       "      <th>pos_6</th>\n",
       "      <th>pos_7</th>\n",
       "      <th>pos_8</th>\n",
       "      <th>pos_9</th>\n",
       "      <th>pos_10</th>\n",
       "      <th>pos_11</th>\n",
       "      <th>pos_12</th>\n",
       "      <th>pos_13</th>\n",
       "    </tr>\n",
       "  </thead>\n",
       "  <tbody>\n",
       "    <tr>\n",
       "      <th>0</th>\n",
       "      <td>other</td>\n",
       "      <td>s</td>\n",
       "      <td>s</td>\n",
       "      <td>leg</td>\n",
       "      <td>symptoms</td>\n",
       "      <td>s</td>\n",
       "      <td>s</td>\n",
       "      <td>symptoms</td>\n",
       "      <td>of</td>\n",
       "      <td>the</td>\n",
       "      <td>face</td>\n",
       "      <td>nec</td>\n",
       "      <td>mass</td>\n",
       "    </tr>\n",
       "    <tr>\n",
       "      <th>1</th>\n",
       "      <td>0.00782466</td>\n",
       "      <td>0.00628352</td>\n",
       "      <td>0.00628352</td>\n",
       "      <td>0.0181018</td>\n",
       "      <td>0.00880685</td>\n",
       "      <td>0.00628352</td>\n",
       "      <td>0.00628352</td>\n",
       "      <td>0.00880685</td>\n",
       "      <td>0.0078089</td>\n",
       "      <td>0.00816092</td>\n",
       "      <td>0.00889456</td>\n",
       "      <td>0.00944738</td>\n",
       "      <td>0.00773853</td>\n",
       "    </tr>\n",
       "    <tr>\n",
       "      <th>2</th>\n",
       "      <td></td>\n",
       "      <td></td>\n",
       "      <td></td>\n",
       "      <td>*</td>\n",
       "      <td></td>\n",
       "      <td></td>\n",
       "      <td></td>\n",
       "      <td></td>\n",
       "      <td></td>\n",
       "      <td></td>\n",
       "      <td></td>\n",
       "      <td>*</td>\n",
       "      <td></td>\n",
       "    </tr>\n",
       "  </tbody>\n",
       "</table>\n",
       "</div>"
      ],
      "text/plain": [
       "        pos_1       pos_2       pos_3      pos_4       pos_5       pos_6  \\\n",
       "0       other           s           s        leg    symptoms           s   \n",
       "1  0.00782466  0.00628352  0.00628352  0.0181018  0.00880685  0.00628352   \n",
       "2                                              *                           \n",
       "\n",
       "        pos_7       pos_8      pos_9      pos_10      pos_11      pos_12  \\\n",
       "0           s    symptoms         of         the        face         nec   \n",
       "1  0.00628352  0.00880685  0.0078089  0.00816092  0.00889456  0.00944738   \n",
       "2                                                                      *   \n",
       "\n",
       "       pos_13  \n",
       "0        mass  \n",
       "1  0.00773853  \n",
       "2              "
      ]
     },
     "execution_count": 54,
     "metadata": {},
     "output_type": "execute_result"
    }
   ],
   "source": [
    "word_heat_map"
   ]
  }
 ],
 "metadata": {
  "kernelspec": {
   "display_name": "Python 2",
   "language": "python",
   "name": "python2"
  },
  "language_info": {
   "codemirror_mode": {
    "name": "ipython",
    "version": 2
   },
   "file_extension": ".py",
   "mimetype": "text/x-python",
   "name": "python",
   "nbconvert_exporter": "python",
   "pygments_lexer": "ipython2",
   "version": "2.7.14"
  }
 },
 "nbformat": 4,
 "nbformat_minor": 2
}
