{
 "cells": [
  {
   "cell_type": "markdown",
   "metadata": {},
   "source": [
    "# Pre-Processing\n",
    "\n",
    "\n",
    "\n",
    "Our modeling data is drawn from the __[National Hospital Ambulatory Medical Care Survey (NHAMCS)](https://www.cdc.gov/nchs/ahcd/index.htm)__   National Hospital Ambulatory Medical Care Survey (NHAMCS), collected by the Centers for Disease Control (CDC). The data represented therein are comprised of de-identified health records from 1992-2015, drawn from a national sample of visits to emergency departments, about 24K records a year. The data are part of routine ED data collection, so any ED could provide the same fields. An independent investigation of the dataset by Dugas et al. (2016) found the data to be complete and representative sample of 141.4 million visits per year. \n",
    "\n",
    "## Transforming cdc fixed format data files to csv format\n",
    "\n",
    "The input CDC files have a fixed format data, each field can be found by its position indicated in PDF files provided by CDC also. We have a copy of them in the /data/raw directory.\n",
    "\n",
    "There is a CDC file for each year and each of them have a different fixed format, which fortunately is documented in the corresponding CDC year PDF file as part of the documentaion on how that file was built by CDC.  \n",
    "\n",
    "Each file has hundreds of fields, we identified the fields we will use for modeling and created a format[YYYY}.txt with the list of fields and its corresponding position in the record (based on information from the PDF files).\n",
    "\n",
    "The program below takes the corresponding CDC file for year YYYY and its format[YYYY}.txt (which we created), and extracts those fields from the fixed format file to a csv files \n",
    "\n",
    "![Tranforming cdc fixed format files to csv format](../../references/img/from_fixed_format_to_csv_files.png)\n",
    "\n",
    "Input: CDC data files, fixed format files   \n",
    "Process: read format_NN.txt files with list of fields to pull from the CDC data files, get those fields and create a record for the csv output file. \n",
    "Outpus: CSV file with the fields pulled from the fixed format files    "
   ]
  },
  {
   "cell_type": "code",
   "execution_count": 13,
   "metadata": {
    "collapsed": false
   },
   "outputs": [
    {
     "name": "stdout",
     "output_type": "stream",
     "text": [
      "The autoreload extension is already loaded. To reload it, use:\n",
      "  %reload_ext autoreload\n",
      "Processing: 2009\n",
      "Processing: 2010\n"
     ]
    }
   ],
   "source": [
    "%load_ext autoreload\n",
    "%autoreload 2\n",
    "import sys \n",
    "import json\n",
    "sys.path.append(\"../../src/data/\")\n",
    "import make_dataset\n",
    "with open('../../src/config.json') as config_file:    \n",
    "    fileConfig = json.load(config_file)\n",
    "years = ['2009', '2010']\n",
    "# for each year, the cdc input files are processed and csv interim files are created \n",
    "make_dataset.createFormatAndFiles (years, fileConfig)"
   ]
  },
  {
   "cell_type": "code",
   "execution_count": 11,
   "metadata": {
    "collapsed": false
   },
   "outputs": [
    {
     "name": "stdout",
     "output_type": "stream",
     "text": [
      "{\"outputDirectory\": \"interim/\", \"dataDirectory\": \"../../data/\", \"inputFormatDirectory\": \"external/\", \"inputDataDirectory\": \"raw/\"}\n"
     ]
    }
   ],
   "source": [
    "print json.dumps(fileConfig)"
   ]
  },
  {
   "cell_type": "code",
   "execution_count": null,
   "metadata": {
    "collapsed": true
   },
   "outputs": [],
   "source": []
  }
 ],
 "metadata": {
  "anaconda-cloud": {},
  "kernelspec": {
   "display_name": "Python [Root]",
   "language": "python",
   "name": "Python [Root]"
  },
  "language_info": {
   "codemirror_mode": {
    "name": "ipython",
    "version": 2
   },
   "file_extension": ".py",
   "mimetype": "text/x-python",
   "name": "python",
   "nbconvert_exporter": "python",
   "pygments_lexer": "ipython2",
   "version": "2.7.12"
  }
 },
 "nbformat": 4,
 "nbformat_minor": 2
}
