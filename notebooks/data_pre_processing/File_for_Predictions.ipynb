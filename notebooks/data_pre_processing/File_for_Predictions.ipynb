{
 "cells": [
  {
   "cell_type": "code",
   "execution_count": 1,
   "metadata": {
    "collapsed": true
   },
   "outputs": [],
   "source": [
    "import pandas as pd\n",
    "import numpy as np"
   ]
  },
  {
   "cell_type": "code",
   "execution_count": 6,
   "metadata": {
    "collapsed": true
   },
   "outputs": [],
   "source": [
    "input_fileName = '../../data/processed/ED_TOTAL_2009_2009.csv'\n",
    "output_fileName = '../../data/processed/FOR_PREDICTIONS_2009.csv'"
   ]
  },
  {
   "cell_type": "code",
   "execution_count": 3,
   "metadata": {
    "collapsed": false
   },
   "outputs": [
    {
     "data": {
      "text/plain": [
       "24321"
      ]
     },
     "execution_count": 3,
     "metadata": {},
     "output_type": "execute_result"
    }
   ],
   "source": [
    "# this file has already removed the records that are excluded for this project\n",
    "cdc_file = pd.read_csv(input_fileName)\n",
    "len(cdc_file)"
   ]
  },
  {
   "cell_type": "code",
   "execution_count": 4,
   "metadata": {
    "collapsed": false
   },
   "outputs": [
    {
     "name": "stderr",
     "output_type": "stream",
     "text": [
      "C:\\Users\\bsc-default\\Anaconda2\\lib\\site-packages\\ipykernel\\__main__.py:3: UserWarning: Boolean Series key will be reindexed to match DataFrame index.\n",
      "  app.launch_new_instance()\n",
      "C:\\Users\\bsc-default\\Anaconda2\\lib\\site-packages\\ipykernel\\__main__.py:4: UserWarning: Boolean Series key will be reindexed to match DataFrame index.\n",
      "C:\\Users\\bsc-default\\Anaconda2\\lib\\site-packages\\ipykernel\\__main__.py:5: UserWarning: Boolean Series key will be reindexed to match DataFrame index.\n",
      "C:\\Users\\bsc-default\\Anaconda2\\lib\\site-packages\\ipykernel\\__main__.py:6: UserWarning: Boolean Series key will be reindexed to match DataFrame index.\n",
      "C:\\Users\\bsc-default\\Anaconda2\\lib\\site-packages\\ipykernel\\__main__.py:7: UserWarning: Boolean Series key will be reindexed to match DataFrame index.\n",
      "C:\\Users\\bsc-default\\Anaconda2\\lib\\site-packages\\ipykernel\\__main__.py:8: UserWarning: Boolean Series key will be reindexed to match DataFrame index.\n",
      "C:\\Users\\bsc-default\\Anaconda2\\lib\\site-packages\\ipykernel\\__main__.py:9: UserWarning: Boolean Series key will be reindexed to match DataFrame index.\n"
     ]
    },
    {
     "data": {
      "text/plain": [
       "19942"
      ]
     },
     "execution_count": 4,
     "metadata": {},
     "output_type": "execute_result"
    }
   ],
   "source": [
    "# here we remove the records that have NAN, to be used for prediction\n",
    "cdc_filtered = cdc_file[cdc_file.TEMPF != -9]\n",
    "cdc_filtered = cdc_filtered[cdc_file.PULSE != -9]\n",
    "cdc_filtered = cdc_filtered[cdc_file.RESPR != -9]\n",
    "cdc_filtered = cdc_filtered[cdc_file.BPSYS != -9]\n",
    "cdc_filtered = cdc_filtered[cdc_file.BPDIAS != -9]\n",
    "cdc_filtered = cdc_filtered[cdc_file.POPCT != -9]\n",
    "cdc_filtered = cdc_filtered[cdc_file.AGE != -9]\n",
    "cdc_filtered = cdc_filtered[cdc_file.SEX != -9]\n",
    "len(cdc_filtered )"
   ]
  },
  {
   "cell_type": "code",
   "execution_count": 7,
   "metadata": {
    "collapsed": false
   },
   "outputs": [],
   "source": [
    "cdc_filtered.to_csv(output_fileName,index=False)"
   ]
  }
 ],
 "metadata": {
  "anaconda-cloud": {},
  "kernelspec": {
   "display_name": "Python 2",
   "language": "python",
   "name": "python2"
  },
  "language_info": {
   "codemirror_mode": {
    "name": "ipython",
    "version": 2
   },
   "file_extension": ".py",
   "mimetype": "text/x-python",
   "name": "python",
   "nbconvert_exporter": "python",
   "pygments_lexer": "ipython2",
   "version": "2.7.14"
  }
 },
 "nbformat": 4,
 "nbformat_minor": 2
}
