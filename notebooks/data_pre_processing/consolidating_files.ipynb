{
 "cells": [
  {
   "cell_type": "markdown",
   "metadata": {},
   "source": [
    "# Applying Exclusion Criteria and Consolidating into one file\n",
    "\n",
    "We based our exclusion categories on the categories outlined in __[Dugas et al](https://www.ncbi.nlm.nih.gov/pubmed/27133736)__  \n",
    "Dugas et al, which is the paper that we used for our Logistic Regression Baseline Model.   \n",
    "Here we list them:\n",
    "* \"The 2009 sample included 26,556 adult (18 years and older) patient records from 356 of 389 EDs (91.5% unweighted response rate), resulting in an unbiased weighted national sample of 102 million ED patient visits (20). Patients dead on arrival (11 patient visits [< 0.1%]), transferred to a psychiatric hospital (594 [2.2%]), or with an unknown outcome (753 patient visits [2.9%]) were excluded. The final study cohort of 25,198 patient visits provided data for a weighted nationally representative sample of 97 million patient visits.\"   \n",
    "* Excluding patients less than 18 years old and records where the date of birth was missing   \n",
    "     [BDATEFL] Patient birth date - IMPUTED FIELDS    \n",
    "     [AGE] PATIENT AGE (IN YEARS; DERIVED FROM DATE OF BIRTH)    \n",
    "* Excluding patients dead on arrival   \n",
    "  [DOA] Dead On Arrival\n",
    "* Excluding patients that were transferred to a pshychratic hospital   \n",
    "    [TRANPSYC] Transfer to psychiatric hospital  \n",
    "    [ADMIT] Admitted to:   \n",
    "* Excluding records where the outcome is unknown  \n",
    "    [ADMIT] Admitted to:  \n",
    "* Removing records where the ESI is unknown (not mention in the paper but graphs don't include unknown ESI)  \n",
    "  [IMMEDR] RECODED IMMEDIACY WITH WHICH PATIENT SHOULD BE SEEN "
   ]
  },
  {
   "cell_type": "code",
   "execution_count": 4,
   "metadata": {
    "collapsed": false
   },
   "outputs": [
    {
     "name": "stdout",
     "output_type": "stream",
     "text": [
      "The autoreload extension is already loaded. To reload it, use:\n",
      "  %reload_ext autoreload\n",
      "number of original records:  34942\n",
      "removing records where age <18 or DOB was missing:  26401\n",
      "removing records of patients dead on arrival:  26390\n",
      "removing records of patients transferred to a psychiatric unit:  25957\n",
      "removing records where the outcome is not unknown:  25449\n",
      "removing records where the SEI is not unknown:  24321\n",
      "--------------------------------------------------\n",
      "number of original records:  34936\n",
      "removing records where age <18 or DOB was missing:  26756\n",
      "removing records of patients dead on arrival:  26746\n",
      "removing records of patients transferred to a psychiatric unit:  26225\n",
      "removing records where the outcome is not unknown:  25632\n",
      "removing records where the SEI is not unknown:  24195\n",
      "--------------------------------------------------\n"
     ]
    }
   ],
   "source": [
    "%load_ext autoreload\n",
    "%autoreload 2\n",
    "import sys\n",
    "import json\n",
    "sys.path.append(\"../../src/data/\")\n",
    "import exclusionCriteria\n",
    "\n",
    "with open('../../src/config.json') as config_file:    \n",
    "    fileConfig = json.load(config_file)\n",
    "\n",
    "#files = ['2007', '2008', '2009]\n",
    "# resulting file with filtered records is located in the /processed directory \n",
    "\n",
    "# we use 2009 for modeling\n",
    "years = [ '2009']\n",
    "exclusionCriteria.consolidateAndApplyExclusion(years, fileConfig)\n",
    "\n",
    "# we use 2010 for testing\n",
    "years = [ '2010']\n",
    "exclusionCriteria.consolidateAndApplyExclusion(years, fileConfig)\n"
   ]
  },
  {
   "cell_type": "code",
   "execution_count": null,
   "metadata": {
    "collapsed": true
   },
   "outputs": [],
   "source": []
  }
 ],
 "metadata": {
  "anaconda-cloud": {},
  "kernelspec": {
   "display_name": "Python 2",
   "language": "python",
   "name": "python2"
  },
  "language_info": {
   "codemirror_mode": {
    "name": "ipython",
    "version": 2
   },
   "file_extension": ".py",
   "mimetype": "text/x-python",
   "name": "python",
   "nbconvert_exporter": "python",
   "pygments_lexer": "ipython2",
   "version": "2.7.14"
  }
 },
 "nbformat": 4,
 "nbformat_minor": 2
}
