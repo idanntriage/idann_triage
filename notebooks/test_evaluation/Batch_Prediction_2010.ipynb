{
 "cells": [
  {
   "cell_type": "code",
   "execution_count": 1,
   "metadata": {
    "collapsed": false
   },
   "outputs": [
    {
     "name": "stderr",
     "output_type": "stream",
     "text": [
      "Using TensorFlow backend.\n"
     ]
    }
   ],
   "source": [
    "import pandas as pd\n",
    "import numpy as np\n",
    "import sys\n",
    "import json \n",
    "import inspect\n",
    "\n",
    "sys.path.append(\"../../src/features\")\n",
    "import build_features\n",
    "sys.path.append(\"../../src/models/train_model\")\n",
    "import NN_VE_model\n",
    "\n",
    "pd.options.mode.chained_assignment = None  # default='warn'"
   ]
  },
  {
   "cell_type": "markdown",
   "metadata": {},
   "source": [
    "## Batch Predict 2010"
   ]
  },
  {
   "cell_type": "code",
   "execution_count": 2,
   "metadata": {
    "collapsed": false
   },
   "outputs": [
    {
     "name": "stderr",
     "output_type": "stream",
     "text": [
      "/home/zenobiosky/anaconda2/lib/python2.7/site-packages/keras/engine/topology.py:1269: UserWarning: The `Merge` layer is deprecated and will be removed after 08/2017. Use instead layers from `keras.layers.merge`, e.g. `add`, `concatenate`, etc.\n",
      "  return cls(**config)\n"
     ]
    },
    {
     "name": "stdout",
     "output_type": "stream",
     "text": [
      "24195\n",
      "Creating text for embeddings\n",
      "Critical Outcome AUROC: 83.99%\n"
     ]
    }
   ],
   "source": [
    "fileName = 'ED_TOTAL_2010_2010.csv'\n",
    "with open('../../modelConfig.json') as config_file:    \n",
    "        modelConfig = json.load(config_file)\n",
    "with open('../../fileConfig.json') as config_file:    \n",
    "        fileConfig = json.load(config_file)      \n",
    "co_pred, rss_pred , co_bin,co_type, original_esi, rss  = NN_VE_model.batch_predict(modelConfig, fileConfig, fileName)"
   ]
  },
  {
   "cell_type": "code",
   "execution_count": 3,
   "metadata": {
    "collapsed": true
   },
   "outputs": [],
   "source": [
    "fileName = 'Predictions_2010.json'\n",
    "NN_VE_model.createPredictionJsonFile (fileConfig, fileName, co_pred, rss_pred , co_bin,co_type, original_esi, rss)"
   ]
  }
 ],
 "metadata": {
  "kernelspec": {
   "display_name": "Python [Root]",
   "language": "python",
   "name": "Python [Root]"
  },
  "language_info": {
   "codemirror_mode": {
    "name": "ipython",
    "version": 2
   },
   "file_extension": ".py",
   "mimetype": "text/x-python",
   "name": "python",
   "nbconvert_exporter": "python",
   "pygments_lexer": "ipython2",
   "version": "2.7.12"
  }
 },
 "nbformat": 4,
 "nbformat_minor": 2
}
